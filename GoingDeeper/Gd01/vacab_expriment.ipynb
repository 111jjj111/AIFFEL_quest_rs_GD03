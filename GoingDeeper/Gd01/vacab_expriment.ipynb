{
  "cells": [
    {
      "cell_type": "markdown",
      "source": [
        "# 멋진 단어사전 만들기 프로젝트"
      ],
      "metadata": {
        "id": "ibtfkZZbASf2"
      },
      "id": "ibtfkZZbASf2"
    },
    {
      "cell_type": "code",
      "source": [
        "!pip install konlpy\n",
        "!pip install sentencepiece\n",
        "import tensorflow as tf\n",
        "import numpy as np\n",
        "import konlpy\n",
        "import pandas as pd\n",
        "import re\n",
        "import sentencepiece as spm\n",
        "import numpy as np\n",
        "from sklearn.model_selection import train_test_split\n",
        "from tensorflow.keras.preprocessing.sequence import pad_sequences\n",
        "from tensorflow.keras.models import Sequential\n",
        "from tensorflow.keras.layers import Embedding, LSTM, Dense, Dropout\n"
      ],
      "metadata": {
        "colab": {
          "base_uri": "https://localhost:8080/"
        },
        "id": "ofOUVzgraPvp",
        "outputId": "47504047-3de0-4499-98f1-c24b90c3cc5d"
      },
      "id": "ofOUVzgraPvp",
      "execution_count": 69,
      "outputs": [
        {
          "output_type": "stream",
          "name": "stdout",
          "text": [
            "Requirement already satisfied: konlpy in /usr/local/lib/python3.11/dist-packages (0.6.0)\n",
            "Requirement already satisfied: JPype1>=0.7.0 in /usr/local/lib/python3.11/dist-packages (from konlpy) (1.5.2)\n",
            "Requirement already satisfied: lxml>=4.1.0 in /usr/local/lib/python3.11/dist-packages (from konlpy) (5.4.0)\n",
            "Requirement already satisfied: numpy>=1.6 in /usr/local/lib/python3.11/dist-packages (from konlpy) (2.0.2)\n",
            "Requirement already satisfied: packaging in /usr/local/lib/python3.11/dist-packages (from JPype1>=0.7.0->konlpy) (24.2)\n",
            "Requirement already satisfied: sentencepiece in /usr/local/lib/python3.11/dist-packages (0.2.0)\n"
          ]
        }
      ]
    },
    {
      "cell_type": "markdown",
      "source": [
        "## 함수"
      ],
      "metadata": {
        "id": "reZHBVXcAoM0"
      },
      "id": "reZHBVXcAoM0"
    },
    {
      "cell_type": "code",
      "source": [
        "# 전처리 함수\n",
        "def text_preprocessing(text):\n",
        "    # 1. NaN 방지: 문자열 변환\n",
        "    if pd.isnull(text):\n",
        "        return \"\"\n",
        "\n",
        "    # 2. 특수문자 제거 (한글, 영어->소문자, 숫자, 공백만 남김)\n",
        "    text = re.sub(r\"[^가-힣a-zA-Z0-9\\s]\", \" \", text).lower()\n",
        "\n",
        "    # 3. 연속 공백, 양쪽 공백 제거\n",
        "    text = re.sub(r'\\s+', ' ', text).strip()\n",
        "\n",
        "    return text\n",
        "\n",
        "\n",
        "def sp_tokenize(s, corpus,padding):\n",
        "\n",
        "    tensor = []\n",
        "\n",
        "    for sen in corpus:\n",
        "        tensor.append(s.EncodeAsIds(sen))\n",
        "\n",
        "    with open(\"./spm.vocab\", 'r') as f:\n",
        "        vocab = f.readlines()\n",
        "\n",
        "    word_index = {}\n",
        "    index_word = {}\n",
        "\n",
        "    for idx, line in enumerate(vocab):\n",
        "        word = line.split(\"\\t\")[0]\n",
        "\n",
        "        word_index.update({word:idx})\n",
        "        index_word.update({idx:word})\n",
        "\n",
        "    tensor = tf.keras.preprocessing.sequence.pad_sequences(tensor, padding=padding)\n",
        "\n",
        "    return tensor, word_index, index_word\n",
        "\n",
        "# history 확인용 그래프 함수\n",
        "def show_history_graph(history):\n",
        "    history_dict = history.history\n",
        "\n",
        "    acc = history_dict['accuracy']\n",
        "    val_acc = history_dict['val_accuracy']\n",
        "    loss = history_dict['loss']\n",
        "    val_loss = history_dict['val_loss']\n",
        "\n",
        "    epochs = range(1, len(acc) + 1)\n",
        "\n",
        "    fig, (ax1, ax2) = plt.subplots(1, 2, figsize=(16, 6))\n",
        "\n",
        "    # \"bo\"는 \"파란색 점\"입니다\n",
        "    ax1.plot(epochs, loss, 'bo', label='Training loss')\n",
        "    # b는 \"파란 실선\"입니다\n",
        "    ax1.plot(epochs, val_loss, 'b', label='Validation loss')\n",
        "    ax1.set_title('Training and validation loss')\n",
        "    ax1.set_xlabel('Epochs')\n",
        "    ax1.set_ylabel('Loss')\n",
        "    ax1.legend()\n",
        "\n",
        "    ax2.plot(epochs, acc, 'bo', label='Training acc')\n",
        "    ax2.plot(epochs, val_acc, 'b', label='Validation acc')\n",
        "    ax2.set_title('Training and validation accuracy')\n",
        "    ax2.set_xlabel('Epochs')\n",
        "    ax2.set_ylabel('Accuracy')\n",
        "    ax2.legend()\n",
        "\n",
        "    plt.show()\n",
        "\n"
      ],
      "metadata": {
        "id": "dvNOEocNaiLs"
      },
      "id": "dvNOEocNaiLs",
      "execution_count": 70,
      "outputs": []
    },
    {
      "cell_type": "markdown",
      "source": [
        "## 데이터 불러오기"
      ],
      "metadata": {
        "id": "DrIJqU2ZAv73"
      },
      "id": "DrIJqU2ZAv73"
    },
    {
      "cell_type": "code",
      "execution_count": 71,
      "id": "6fe5eb3f",
      "metadata": {
        "colab": {
          "base_uri": "https://localhost:8080/",
          "height": 206
        },
        "id": "6fe5eb3f",
        "outputId": "215e3456-0edd-44ca-d519-cb7eb4441253"
      },
      "outputs": [
        {
          "output_type": "execute_result",
          "data": {
            "text/plain": [
              "         id                                           document  label\n",
              "0   8112052                                어릴때보고 지금다시봐도 재밌어요ㅋㅋ      1\n",
              "1   8132799  디자인을 배우는 학생으로, 외국디자이너와 그들이 일군 전통을 통해 발전해가는 문화산...      1\n",
              "2   4655635               폴리스스토리 시리즈는 1부터 뉴까지 버릴께 하나도 없음.. 최고.      1\n",
              "3   9251303  와.. 연기가 진짜 개쩔구나.. 지루할거라고 생각했는데 몰입해서 봤다.. 그래 이런...      1\n",
              "4  10067386                        안개 자욱한 밤하늘에 떠 있는 초승달 같은 영화.      1"
            ],
            "text/html": [
              "\n",
              "  <div id=\"df-ff84b540-ce04-4888-b831-4ab9959d126e\" class=\"colab-df-container\">\n",
              "    <div>\n",
              "<style scoped>\n",
              "    .dataframe tbody tr th:only-of-type {\n",
              "        vertical-align: middle;\n",
              "    }\n",
              "\n",
              "    .dataframe tbody tr th {\n",
              "        vertical-align: top;\n",
              "    }\n",
              "\n",
              "    .dataframe thead th {\n",
              "        text-align: right;\n",
              "    }\n",
              "</style>\n",
              "<table border=\"1\" class=\"dataframe\">\n",
              "  <thead>\n",
              "    <tr style=\"text-align: right;\">\n",
              "      <th></th>\n",
              "      <th>id</th>\n",
              "      <th>document</th>\n",
              "      <th>label</th>\n",
              "    </tr>\n",
              "  </thead>\n",
              "  <tbody>\n",
              "    <tr>\n",
              "      <th>0</th>\n",
              "      <td>8112052</td>\n",
              "      <td>어릴때보고 지금다시봐도 재밌어요ㅋㅋ</td>\n",
              "      <td>1</td>\n",
              "    </tr>\n",
              "    <tr>\n",
              "      <th>1</th>\n",
              "      <td>8132799</td>\n",
              "      <td>디자인을 배우는 학생으로, 외국디자이너와 그들이 일군 전통을 통해 발전해가는 문화산...</td>\n",
              "      <td>1</td>\n",
              "    </tr>\n",
              "    <tr>\n",
              "      <th>2</th>\n",
              "      <td>4655635</td>\n",
              "      <td>폴리스스토리 시리즈는 1부터 뉴까지 버릴께 하나도 없음.. 최고.</td>\n",
              "      <td>1</td>\n",
              "    </tr>\n",
              "    <tr>\n",
              "      <th>3</th>\n",
              "      <td>9251303</td>\n",
              "      <td>와.. 연기가 진짜 개쩔구나.. 지루할거라고 생각했는데 몰입해서 봤다.. 그래 이런...</td>\n",
              "      <td>1</td>\n",
              "    </tr>\n",
              "    <tr>\n",
              "      <th>4</th>\n",
              "      <td>10067386</td>\n",
              "      <td>안개 자욱한 밤하늘에 떠 있는 초승달 같은 영화.</td>\n",
              "      <td>1</td>\n",
              "    </tr>\n",
              "  </tbody>\n",
              "</table>\n",
              "</div>\n",
              "    <div class=\"colab-df-buttons\">\n",
              "\n",
              "  <div class=\"colab-df-container\">\n",
              "    <button class=\"colab-df-convert\" onclick=\"convertToInteractive('df-ff84b540-ce04-4888-b831-4ab9959d126e')\"\n",
              "            title=\"Convert this dataframe to an interactive table.\"\n",
              "            style=\"display:none;\">\n",
              "\n",
              "  <svg xmlns=\"http://www.w3.org/2000/svg\" height=\"24px\" viewBox=\"0 -960 960 960\">\n",
              "    <path d=\"M120-120v-720h720v720H120Zm60-500h600v-160H180v160Zm220 220h160v-160H400v160Zm0 220h160v-160H400v160ZM180-400h160v-160H180v160Zm440 0h160v-160H620v160ZM180-180h160v-160H180v160Zm440 0h160v-160H620v160Z\"/>\n",
              "  </svg>\n",
              "    </button>\n",
              "\n",
              "  <style>\n",
              "    .colab-df-container {\n",
              "      display:flex;\n",
              "      gap: 12px;\n",
              "    }\n",
              "\n",
              "    .colab-df-convert {\n",
              "      background-color: #E8F0FE;\n",
              "      border: none;\n",
              "      border-radius: 50%;\n",
              "      cursor: pointer;\n",
              "      display: none;\n",
              "      fill: #1967D2;\n",
              "      height: 32px;\n",
              "      padding: 0 0 0 0;\n",
              "      width: 32px;\n",
              "    }\n",
              "\n",
              "    .colab-df-convert:hover {\n",
              "      background-color: #E2EBFA;\n",
              "      box-shadow: 0px 1px 2px rgba(60, 64, 67, 0.3), 0px 1px 3px 1px rgba(60, 64, 67, 0.15);\n",
              "      fill: #174EA6;\n",
              "    }\n",
              "\n",
              "    .colab-df-buttons div {\n",
              "      margin-bottom: 4px;\n",
              "    }\n",
              "\n",
              "    [theme=dark] .colab-df-convert {\n",
              "      background-color: #3B4455;\n",
              "      fill: #D2E3FC;\n",
              "    }\n",
              "\n",
              "    [theme=dark] .colab-df-convert:hover {\n",
              "      background-color: #434B5C;\n",
              "      box-shadow: 0px 1px 3px 1px rgba(0, 0, 0, 0.15);\n",
              "      filter: drop-shadow(0px 1px 2px rgba(0, 0, 0, 0.3));\n",
              "      fill: #FFFFFF;\n",
              "    }\n",
              "  </style>\n",
              "\n",
              "    <script>\n",
              "      const buttonEl =\n",
              "        document.querySelector('#df-ff84b540-ce04-4888-b831-4ab9959d126e button.colab-df-convert');\n",
              "      buttonEl.style.display =\n",
              "        google.colab.kernel.accessAllowed ? 'block' : 'none';\n",
              "\n",
              "      async function convertToInteractive(key) {\n",
              "        const element = document.querySelector('#df-ff84b540-ce04-4888-b831-4ab9959d126e');\n",
              "        const dataTable =\n",
              "          await google.colab.kernel.invokeFunction('convertToInteractive',\n",
              "                                                    [key], {});\n",
              "        if (!dataTable) return;\n",
              "\n",
              "        const docLinkHtml = 'Like what you see? Visit the ' +\n",
              "          '<a target=\"_blank\" href=https://colab.research.google.com/notebooks/data_table.ipynb>data table notebook</a>'\n",
              "          + ' to learn more about interactive tables.';\n",
              "        element.innerHTML = '';\n",
              "        dataTable['output_type'] = 'display_data';\n",
              "        await google.colab.output.renderOutput(dataTable, element);\n",
              "        const docLink = document.createElement('div');\n",
              "        docLink.innerHTML = docLinkHtml;\n",
              "        element.appendChild(docLink);\n",
              "      }\n",
              "    </script>\n",
              "  </div>\n",
              "\n",
              "\n",
              "    <div id=\"df-4054cb6a-5fe3-46ca-8d41-832a35efbe35\">\n",
              "      <button class=\"colab-df-quickchart\" onclick=\"quickchart('df-4054cb6a-5fe3-46ca-8d41-832a35efbe35')\"\n",
              "                title=\"Suggest charts\"\n",
              "                style=\"display:none;\">\n",
              "\n",
              "<svg xmlns=\"http://www.w3.org/2000/svg\" height=\"24px\"viewBox=\"0 0 24 24\"\n",
              "     width=\"24px\">\n",
              "    <g>\n",
              "        <path d=\"M19 3H5c-1.1 0-2 .9-2 2v14c0 1.1.9 2 2 2h14c1.1 0 2-.9 2-2V5c0-1.1-.9-2-2-2zM9 17H7v-7h2v7zm4 0h-2V7h2v10zm4 0h-2v-4h2v4z\"/>\n",
              "    </g>\n",
              "</svg>\n",
              "      </button>\n",
              "\n",
              "<style>\n",
              "  .colab-df-quickchart {\n",
              "      --bg-color: #E8F0FE;\n",
              "      --fill-color: #1967D2;\n",
              "      --hover-bg-color: #E2EBFA;\n",
              "      --hover-fill-color: #174EA6;\n",
              "      --disabled-fill-color: #AAA;\n",
              "      --disabled-bg-color: #DDD;\n",
              "  }\n",
              "\n",
              "  [theme=dark] .colab-df-quickchart {\n",
              "      --bg-color: #3B4455;\n",
              "      --fill-color: #D2E3FC;\n",
              "      --hover-bg-color: #434B5C;\n",
              "      --hover-fill-color: #FFFFFF;\n",
              "      --disabled-bg-color: #3B4455;\n",
              "      --disabled-fill-color: #666;\n",
              "  }\n",
              "\n",
              "  .colab-df-quickchart {\n",
              "    background-color: var(--bg-color);\n",
              "    border: none;\n",
              "    border-radius: 50%;\n",
              "    cursor: pointer;\n",
              "    display: none;\n",
              "    fill: var(--fill-color);\n",
              "    height: 32px;\n",
              "    padding: 0;\n",
              "    width: 32px;\n",
              "  }\n",
              "\n",
              "  .colab-df-quickchart:hover {\n",
              "    background-color: var(--hover-bg-color);\n",
              "    box-shadow: 0 1px 2px rgba(60, 64, 67, 0.3), 0 1px 3px 1px rgba(60, 64, 67, 0.15);\n",
              "    fill: var(--button-hover-fill-color);\n",
              "  }\n",
              "\n",
              "  .colab-df-quickchart-complete:disabled,\n",
              "  .colab-df-quickchart-complete:disabled:hover {\n",
              "    background-color: var(--disabled-bg-color);\n",
              "    fill: var(--disabled-fill-color);\n",
              "    box-shadow: none;\n",
              "  }\n",
              "\n",
              "  .colab-df-spinner {\n",
              "    border: 2px solid var(--fill-color);\n",
              "    border-color: transparent;\n",
              "    border-bottom-color: var(--fill-color);\n",
              "    animation:\n",
              "      spin 1s steps(1) infinite;\n",
              "  }\n",
              "\n",
              "  @keyframes spin {\n",
              "    0% {\n",
              "      border-color: transparent;\n",
              "      border-bottom-color: var(--fill-color);\n",
              "      border-left-color: var(--fill-color);\n",
              "    }\n",
              "    20% {\n",
              "      border-color: transparent;\n",
              "      border-left-color: var(--fill-color);\n",
              "      border-top-color: var(--fill-color);\n",
              "    }\n",
              "    30% {\n",
              "      border-color: transparent;\n",
              "      border-left-color: var(--fill-color);\n",
              "      border-top-color: var(--fill-color);\n",
              "      border-right-color: var(--fill-color);\n",
              "    }\n",
              "    40% {\n",
              "      border-color: transparent;\n",
              "      border-right-color: var(--fill-color);\n",
              "      border-top-color: var(--fill-color);\n",
              "    }\n",
              "    60% {\n",
              "      border-color: transparent;\n",
              "      border-right-color: var(--fill-color);\n",
              "    }\n",
              "    80% {\n",
              "      border-color: transparent;\n",
              "      border-right-color: var(--fill-color);\n",
              "      border-bottom-color: var(--fill-color);\n",
              "    }\n",
              "    90% {\n",
              "      border-color: transparent;\n",
              "      border-bottom-color: var(--fill-color);\n",
              "    }\n",
              "  }\n",
              "</style>\n",
              "\n",
              "      <script>\n",
              "        async function quickchart(key) {\n",
              "          const quickchartButtonEl =\n",
              "            document.querySelector('#' + key + ' button');\n",
              "          quickchartButtonEl.disabled = true;  // To prevent multiple clicks.\n",
              "          quickchartButtonEl.classList.add('colab-df-spinner');\n",
              "          try {\n",
              "            const charts = await google.colab.kernel.invokeFunction(\n",
              "                'suggestCharts', [key], {});\n",
              "          } catch (error) {\n",
              "            console.error('Error during call to suggestCharts:', error);\n",
              "          }\n",
              "          quickchartButtonEl.classList.remove('colab-df-spinner');\n",
              "          quickchartButtonEl.classList.add('colab-df-quickchart-complete');\n",
              "        }\n",
              "        (() => {\n",
              "          let quickchartButtonEl =\n",
              "            document.querySelector('#df-4054cb6a-5fe3-46ca-8d41-832a35efbe35 button');\n",
              "          quickchartButtonEl.style.display =\n",
              "            google.colab.kernel.accessAllowed ? 'block' : 'none';\n",
              "        })();\n",
              "      </script>\n",
              "    </div>\n",
              "\n",
              "    </div>\n",
              "  </div>\n"
            ],
            "application/vnd.google.colaboratory.intrinsic+json": {
              "type": "dataframe",
              "variable_name": "df_ori"
            }
          },
          "metadata": {},
          "execution_count": 71
        }
      ],
      "source": [
        "\n",
        "\n",
        "# 파일 경로\n",
        "file_path = 'data/ratings.txt'\n",
        "\n",
        "# 데이터 불러오기\n",
        "df_ori = pd.read_table(file_path)\n",
        "\n",
        "df_ori.head()"
      ]
    },
    {
      "cell_type": "markdown",
      "source": [
        "## EDA"
      ],
      "metadata": {
        "id": "iK7QXQbBA01R"
      },
      "id": "iK7QXQbBA01R"
    },
    {
      "cell_type": "code",
      "execution_count": 72,
      "id": "fc8a1be0",
      "metadata": {
        "colab": {
          "base_uri": "https://localhost:8080/"
        },
        "id": "fc8a1be0",
        "outputId": "33a6ccff-4e5f-476f-c3ee-0d3ae0e3f767"
      },
      "outputs": [
        {
          "output_type": "stream",
          "name": "stdout",
          "text": [
            "전체 샘플 수: 200000\n",
            "label\n",
            "1    100000\n",
            "0    100000\n",
            "Name: count, dtype: int64\n",
            "label\n",
            "1    0.5\n",
            "0    0.5\n",
            "Name: proportion, dtype: float64\n"
          ]
        }
      ],
      "source": [
        "df = df_ori.copy()\n",
        "\n",
        "print(f\"전체 샘플 수: {len(df)}\")\n",
        "print(df['label'].value_counts())\n",
        "print(df['label'].value_counts(normalize=True))  # 비율 확인"
      ]
    },
    {
      "cell_type": "code",
      "source": [
        "# 중복 제거\n",
        "df.drop_duplicates(subset=['document'], inplace=True)\n",
        "\n",
        "# 결측치 제거\n",
        "df.dropna(how = 'any', inplace=True)\n",
        "\n",
        "print(f\"전체 샘플 수: {len(df)}\")\n",
        "print(df['label'].value_counts())\n",
        "print(df['label'].value_counts(normalize=True))  # 비율 확인"
      ],
      "metadata": {
        "colab": {
          "base_uri": "https://localhost:8080/"
        },
        "id": "yqXc3OM_VsWZ",
        "outputId": "b4723a6a-6975-4e69-a64d-bc4fa82d5933"
      },
      "id": "yqXc3OM_VsWZ",
      "execution_count": 73,
      "outputs": [
        {
          "output_type": "stream",
          "name": "stdout",
          "text": [
            "전체 샘플 수: 194543\n",
            "label\n",
            "0    97277\n",
            "1    97266\n",
            "Name: count, dtype: int64\n",
            "label\n",
            "0    0.500028\n",
            "1    0.499972\n",
            "Name: proportion, dtype: float64\n"
          ]
        }
      ]
    },
    {
      "cell_type": "markdown",
      "id": "13c38fe8",
      "metadata": {
        "id": "13c38fe8"
      },
      "source": [
        "---\n",
        "### **완전하게 라벨 분포가 균형잡혀져 있는 이진 분류 셋이라는 것을 알 수 있음.**\n",
        "학습할 때 클래스 불균형 문제는 발생하지 않을 것으로 예상된다.\n",
        "\n",
        "---"
      ]
    },
    {
      "cell_type": "code",
      "execution_count": 74,
      "id": "1eac63d0",
      "metadata": {
        "colab": {
          "base_uri": "https://localhost:8080/",
          "height": 635
        },
        "id": "1eac63d0",
        "outputId": "3e79d034-8cb0-4c0d-d60d-849a80fb8e72"
      },
      "outputs": [
        {
          "output_type": "stream",
          "name": "stdout",
          "text": [
            "count    194543.000000\n",
            "mean         36.042345\n",
            "std          29.497004\n",
            "min           1.000000\n",
            "25%          16.000000\n",
            "50%          27.000000\n",
            "75%          43.000000\n",
            "max         142.000000\n",
            "Name: length, dtype: float64\n"
          ]
        },
        {
          "output_type": "display_data",
          "data": {
            "text/plain": [
              "<Figure size 640x480 with 1 Axes>"
            ],
            "image/png": "[encoded data removed]"
          },
          "metadata": {}
        }
      ],
      "source": [
        "\n",
        "\n",
        "#모든 값을 다 문자열로 변환한다.\n",
        "df['document'] = df['document'].astype(str)\n",
        "df['length'] = df['document'].apply(len)\n",
        "\n",
        "# 길이 통계\n",
        "print(df['length'].describe())\n",
        "\n",
        "# 시각화\n",
        "import matplotlib.pyplot as plt\n",
        "\n",
        "plt.hist(df['length'], bins=100, color='skyblue')\n",
        "plt.title('Review Length Distribution')\n",
        "plt.xlabel('Length (characters)')\n",
        "plt.ylabel('Count')\n",
        "plt.show()"
      ]
    },
    {
      "cell_type": "code",
      "source": [
        "df['pred_tok'] = [len(s.split()) for s in df['document']]\n",
        "\n",
        "# 길이 통계\n",
        "print(df['pred_tok'].describe())\n",
        "\n",
        "# 시각화\n",
        "import matplotlib.pyplot as plt\n",
        "\n",
        "plt.hist(df['pred_tok'], bins=100, color='skyblue')\n",
        "plt.title('Review Length Distribution')\n",
        "plt.xlabel('Length (characters)')\n",
        "plt.ylabel('Count')\n",
        "plt.show()"
      ],
      "metadata": {
        "colab": {
          "base_uri": "https://localhost:8080/",
          "height": 635
        },
        "id": "stdjbCQkhP35",
        "outputId": "82808f96-9a6d-472c-c687-31774de335d1"
      },
      "id": "stdjbCQkhP35",
      "execution_count": 75,
      "outputs": [
        {
          "output_type": "stream",
          "name": "stdout",
          "text": [
            "count    194543.000000\n",
            "mean          7.760192\n",
            "std           6.523433\n",
            "min           1.000000\n",
            "25%           4.000000\n",
            "50%           6.000000\n",
            "75%           9.000000\n",
            "max          42.000000\n",
            "Name: pred_tok, dtype: float64\n"
          ]
        },
        {
          "output_type": "display_data",
          "data": {
            "text/plain": [
              "<Figure size 640x480 with 1 Axes>"
            ],
            "image/png": "[encoded data removed]"
          },
          "metadata": {}
        }
      ]
    },
    {
      "cell_type": "code",
      "execution_count": 76,
      "id": "80794719",
      "metadata": {
        "colab": {
          "base_uri": "https://localhost:8080/"
        },
        "id": "80794719",
        "outputId": "d4f5ba85-37e4-4122-858d-f2a1ac1c8e48"
      },
      "outputs": [
        {
          "output_type": "stream",
          "name": "stdout",
          "text": [
            "              id           document  label  length  pred_tok\n",
            "23025    8709799  정말집중해서잘봤어요.감동적이네요      1      17         1\n",
            "133310   1142245      가슴만난잡하는너저분한영화      0      13         1\n",
            "165010    521428             암울함...      0       6         1\n",
            "63239   10045081      노래정말조아요ㅠㅠ!!!!      1      13         1\n",
            "43912    4473328           ㅋㅋ와~쩐다쩌러      1       8         1\n"
          ]
        }
      ],
      "source": [
        "# 짧은 리뷰 한번 어떻게 되어 있나 보기\n",
        "short_reviews = df[df['pred_tok'] < 2]\n",
        "print(short_reviews.sample(5, random_state=42))"
      ]
    },
    {
      "cell_type": "code",
      "execution_count": 77,
      "id": "896a06a4",
      "metadata": {
        "colab": {
          "base_uri": "https://localhost:8080/"
        },
        "id": "896a06a4",
        "outputId": "2fe73c30-4017-4046-84ff-bac98cd650b4"
      },
      "outputs": [
        {
          "output_type": "stream",
          "name": "stdout",
          "text": [
            "              id                                           document  label  \\\n",
            "104443   9854552  왠만하면 영화는 끝까지 다 보는데 끝까지 다 못 보겠더군요. 초반 한 시간만 제대로...      0   \n",
            "8813    10025634  예전에 비디오 가게에서 빌려다 봤을 때는 많이 울었던 거 같은데 지금은 감성이 메말...      1   \n",
            "73282    7495616  원 개훈남... 당레 입 닦아 주는 장면, 당레 트름 시켜 주는 장면, 미에트에게 ...      1   \n",
            "52643    9755355  바 씬에서 아델과 엠마의 그 눈빛이 잊혀지지 않아요. 여자인 저도 반해버릴 것 같은...      1   \n",
            "80913    8026574  작년에 못 봐서 이번에 다시보기로 정주행 했는데, 이렇게 완성도 있는 드라마가 왜 ...      1   \n",
            "\n",
            "        length  pred_tok  \n",
            "104443     139        37  \n",
            "8813       140        37  \n",
            "73282      140        38  \n",
            "52643      139        36  \n",
            "80913      140        36  \n"
          ]
        }
      ],
      "source": [
        "# 큰 리뷰 어떻게 되어 있나 보기\n",
        "long_reviews = df[df['pred_tok'] > 35]\n",
        "print(long_reviews.sample(5, random_state=42))"
      ]
    },
    {
      "cell_type": "markdown",
      "source": [
        "## 전처리"
      ],
      "metadata": {
        "id": "iajmAN8qBHF0"
      },
      "id": "iajmAN8qBHF0"
    },
    {
      "cell_type": "code",
      "execution_count": 78,
      "id": "33277ddc",
      "metadata": {
        "id": "33277ddc"
      },
      "outputs": [],
      "source": [
        "\n",
        "# 전처리 함수 적용\n",
        "df['document'] = df['document'].astype(str).apply(text_preprocessing)\n",
        "\n",
        "# 중복 제거\n",
        "df.drop_duplicates(subset=['document'], inplace=True)\n",
        "\n",
        "# 결측치 제거\n",
        "df.dropna(how = 'any', inplace=True)\n"
      ]
    },
    {
      "cell_type": "code",
      "source": [
        "df['length'] = df['document'].apply(len)\n",
        "\n",
        "# 길이 통계\n",
        "print(df['length'].describe())\n",
        "\n",
        "# 시각화\n",
        "import matplotlib.pyplot as plt\n",
        "\n",
        "plt.hist(df['length'], bins=100, color='skyblue')\n",
        "plt.title('Review Length Distribution after preprocess')\n",
        "plt.xlabel('Length (characters)')\n",
        "plt.ylabel('Count')\n",
        "plt.show()"
      ],
      "metadata": {
        "colab": {
          "base_uri": "https://localhost:8080/",
          "height": 635
        },
        "id": "wZmPOAsjkfzU",
        "outputId": "5065ea8c-1114-4b48-9dba-e0e3d49a5cfb"
      },
      "id": "wZmPOAsjkfzU",
      "execution_count": 79,
      "outputs": [
        {
          "output_type": "stream",
          "name": "stdout",
          "text": [
            "count    190719.000000\n",
            "mean         33.881422\n",
            "std          28.432176\n",
            "min           0.000000\n",
            "25%          15.000000\n",
            "50%          25.000000\n",
            "75%          40.000000\n",
            "max         140.000000\n",
            "Name: length, dtype: float64\n"
          ]
        },
        {
          "output_type": "display_data",
          "data": {
            "text/plain": [
              "<Figure size 640x480 with 1 Axes>"
            ],
            "image/png": "[encoded data removed]"
          },
          "metadata": {}
        }
      ]
    },
    {
      "cell_type": "code",
      "source": [
        "df['pred_tok'] = [len(s.split()) for s in df['document']]\n",
        "\n",
        "# 길이 통계\n",
        "print(df['pred_tok'].describe())\n",
        "\n",
        "# 시각화\n",
        "import matplotlib.pyplot as plt\n",
        "\n",
        "plt.hist(df['pred_tok'], bins=100, color='skyblue')\n",
        "plt.title('Review Length Distribution after preprocess')\n",
        "plt.xlabel('Length (characters)')\n",
        "plt.ylabel('Count')\n",
        "plt.show()"
      ],
      "metadata": {
        "colab": {
          "base_uri": "https://localhost:8080/",
          "height": 635
        },
        "id": "F3aP8Q0ekgeI",
        "outputId": "5c734e54-52ec-43da-b533-df374d933988"
      },
      "id": "F3aP8Q0ekgeI",
      "execution_count": 80,
      "outputs": [
        {
          "output_type": "stream",
          "name": "stdout",
          "text": [
            "count    190719.000000\n",
            "mean          8.072295\n",
            "std           6.700545\n",
            "min           0.000000\n",
            "25%           4.000000\n",
            "50%           6.000000\n",
            "75%          10.000000\n",
            "max          47.000000\n",
            "Name: pred_tok, dtype: float64\n"
          ]
        },
        {
          "output_type": "display_data",
          "data": {
            "text/plain": [
              "<Figure size 640x480 with 1 Axes>"
            ],
            "image/png": "[encoded data removed]"
          },
          "metadata": {}
        }
      ]
    },
    {
      "cell_type": "code",
      "execution_count": 81,
      "id": "c9d1c884",
      "metadata": {
        "colab": {
          "base_uri": "https://localhost:8080/"
        },
        "id": "c9d1c884",
        "outputId": "3775f3df-7ebc-4544-d3ac-29248ddbd777"
      },
      "outputs": [
        {
          "output_type": "stream",
          "name": "stdout",
          "text": [
            "             id          document  label  length  pred_tok\n",
            "60837   9760902         케이온3기나왔으면      1       9         1\n",
            "128864   148254             기대했건만      0       5         1\n",
            "103537  8384165  합채를탈락시키고정세운합격시켜나      0      16         1\n",
            "75983   8572850    재밋엇는데평가가왤케이따구지      1      14         1\n",
            "65795   7690116           감동실화라서더      1       7         1\n"
          ]
        }
      ],
      "source": [
        "# 짧은 리뷰 한번 어떻게 되어 있나 보기\n",
        "short_reviews = df[df['pred_tok'] < 2]\n",
        "print(short_reviews.sample(5, random_state=42))\n"
      ]
    },
    {
      "cell_type": "code",
      "source": [
        "# 큰 리뷰 어떻게 되어 있나 보기\n",
        "long_reviews = df[df['pred_tok'] > 35]\n",
        "print(long_reviews.sample(5, random_state=42))"
      ],
      "metadata": {
        "colab": {
          "base_uri": "https://localhost:8080/"
        },
        "id": "0xlZVEcip91-",
        "outputId": "36c51df9-15a2-42a9-e571-16e2baa3f3e9"
      },
      "id": "0xlZVEcip91-",
      "execution_count": 82,
      "outputs": [
        {
          "output_type": "stream",
          "name": "stdout",
          "text": [
            "              id                                           document  label  \\\n",
            "120361  10048126  이 영화에 10점 준 사람들은 정말 쥬라기 공원 1 보고 이 영화 보고 평점 준건가...      0   \n",
            "24960    7067641  대선 직후에 이 영화를 보게 돼서 여운이 길게 남았습니다 사실 줄거리 자체만 놓고 ...      1   \n",
            "116296   9583760  진심으로 이거 만든 예산이 아깝다 이 영화 감독은 전에 자기가 만든 공포영화처럼 화...      0   \n",
            "103284   7847472  난 송새벽 연기가 싫음 애가 연기에 무슨 감정이 들어가 있는거 같지도 않고 분노 연...      0   \n",
            "31749    8767658  평 생각이 없었는데 보고 나니 안할 수가 없네요 마지막에 결국 노예 무역 제도 폐지...      1   \n",
            "\n",
            "        length  pred_tok  \n",
            "120361     129        36  \n",
            "24960      137        37  \n",
            "116296     133        38  \n",
            "103284     135        36  \n",
            "31749      131        37  \n"
          ]
        }
      ]
    },
    {
      "cell_type": "code",
      "execution_count": 83,
      "id": "526ee737",
      "metadata": {
        "colab": {
          "base_uri": "https://localhost:8080/"
        },
        "id": "526ee737",
        "outputId": "49d53fa9-5234-4f7f-f38c-b840ea6c9e90"
      },
      "outputs": [
        {
          "output_type": "stream",
          "name": "stdout",
          "text": [
            "필터링 전 리뷰 수: 190719\n",
            "최종 리뷰 수: 182469\n"
          ]
        }
      ],
      "source": [
        "MIN_LEN = 6\n",
        "MAX_LEN = 130\n",
        "MIN_TOK = 1\n",
        "MAX_TOK = 35\n",
        "# 전처리된 df에서 길이 필터링\n",
        "df_final = df[(df['length'] >= MIN_LEN)\n",
        "            & (df['pred_tok'] >= MIN_TOK)\n",
        "            & (df['length'] <= MAX_LEN)\n",
        "            & (df['pred_tok'] <= MAX_TOK)\n",
        "          ].reset_index(drop=True)\n",
        "print(f\"필터링 전 리뷰 수: {len(df)}\")\n",
        "print(f\"최종 리뷰 수: {len(df_final)}\")"
      ]
    },
    {
      "cell_type": "code",
      "execution_count": 84,
      "id": "270608c2",
      "metadata": {
        "colab": {
          "base_uri": "https://localhost:8080/"
        },
        "id": "270608c2",
        "outputId": "de31de73-28bd-4645-bd3e-09d8e3517724"
      },
      "outputs": [
        {
          "output_type": "stream",
          "name": "stdout",
          "text": [
            "라벨 분포:\n",
            "label\n",
            "0    91273\n",
            "1    91196\n",
            "Name: count, dtype: int64\n",
            "\n",
            "라벨 비율:\n",
            "label\n",
            "0    0.500211\n",
            "1    0.499789\n",
            "Name: proportion, dtype: float64\n",
            "중복된 리뷰 수: 0\n"
          ]
        }
      ],
      "source": [
        "# 클래스 불균형 일어났는지 확인해본다.\n",
        "\n",
        "print(\"라벨 분포:\")\n",
        "print(df_final['label'].value_counts())\n",
        "\n",
        "print(\"\\n라벨 비율:\")\n",
        "print(df_final['label'].value_counts(normalize=True))\n",
        "\n",
        "print(\"중복된 리뷰 수:\", df_final.duplicated(subset=['document']).sum())"
      ]
    },
    {
      "cell_type": "markdown",
      "id": "4b371961",
      "metadata": {
        "id": "4b371961"
      },
      "source": [
        "---\n",
        "### 데이터 전처리는 잘되어진 것 같다.\n",
        "\n",
        "\n",
        "---"
      ]
    },
    {
      "cell_type": "markdown",
      "source": [
        "## 실험\n",
        "\n",
        "### SentencePiece model type = unigram, Vocab = 4000, padding = pre"
      ],
      "metadata": {
        "id": "v77VJe53BbX1"
      },
      "id": "v77VJe53BbX1"
    },
    {
      "cell_type": "code",
      "execution_count": 85,
      "id": "df62769b",
      "metadata": {
        "colab": {
          "base_uri": "https://localhost:8080/"
        },
        "id": "df62769b",
        "outputId": "14a9a54b-a7f3-4e02-a7ac-a03911372835"
      },
      "outputs": [
        {
          "output_type": "stream",
          "name": "stdout",
          "text": [
            "\n",
            "  학습용 SentencePiece 텍스트 파일 생성\n"
          ]
        }
      ],
      "source": [
        "!rm spm*\n",
        "\n",
        "# -----------------------------\n",
        "print(\"\\n  학습용 SentencePiece 텍스트 파일 생성\")\n",
        "with open(\"spm_input.txt\", \"w\") as f:\n",
        "    for row in df_final['document']:\n",
        "        f.write(row + \"\\n\")\n"
      ]
    },
    {
      "cell_type": "code",
      "execution_count": 86,
      "id": "aa359aef",
      "metadata": {
        "colab": {
          "base_uri": "https://localhost:8080/"
        },
        "id": "aa359aef",
        "outputId": "29cc4aed-0a9f-4a73-9b47-7206a1083160"
      },
      "outputs": [
        {
          "output_type": "stream",
          "name": "stdout",
          "text": [
            "\n",
            "  SentencePiece 모델 학습\n"
          ]
        }
      ],
      "source": [
        "print(\"\\n  SentencePiece 모델 학습\")\n",
        "spm.SentencePieceTrainer.Train(\n",
        "    input='spm_input.txt',\n",
        "    model_prefix='spm',\n",
        "    vocab_size=4000,\n",
        "    model_type='unigram'\n",
        ")\n"
      ]
    },
    {
      "cell_type": "code",
      "execution_count": 87,
      "id": "7af70a8e",
      "metadata": {
        "colab": {
          "base_uri": "https://localhost:8080/"
        },
        "id": "7af70a8e",
        "outputId": "01a232a8-37da-4171-ebd4-5b5846ccb2bf"
      },
      "outputs": [
        {
          "output_type": "stream",
          "name": "stdout",
          "text": [
            "\n",
            " 토크나이저 로딩 확인\n",
            "[1645, 5, 360, 13, 1469, 5, 103, 10, 0]\n",
            "['▁아버지', '가', '방', '에', '들어', '가', '신', '다', '.']\n",
            "아버지가방에들어가신다 ⁇ \n"
          ]
        }
      ],
      "source": [
        "# -----------------------------\n",
        "print(\"\\n 토크나이저 로딩 확인\")\n",
        "s = spm.SentencePieceProcessor()\n",
        "s.load(\"spm.model\")\n",
        "\n",
        "# SentencePiece를 활용한 sentence -> encoding\n",
        "tokensIDs = s.EncodeAsIds('아버지가방에들어가신다.')\n",
        "print(tokensIDs)\n",
        "\n",
        "# SentencePiece를 활용한 sentence -> encoded pieces\n",
        "print(s.SampleEncodeAsPieces('아버지가방에들어가신다.'))\n",
        "\n",
        "# SentencePiece를 활용한 encoding -> sentence 복원\n",
        "print(s.DecodeIds(tokensIDs))\n"
      ]
    },
    {
      "cell_type": "code",
      "execution_count": 88,
      "id": "c24608dc",
      "metadata": {
        "colab": {
          "base_uri": "https://localhost:8080/"
        },
        "id": "c24608dc",
        "outputId": "9adbe5e1-aefb-40ff-f2a3-ce607afea336"
      },
      "outputs": [
        {
          "output_type": "stream",
          "name": "stdout",
          "text": [
            "\n",
            " 토큰화된 데이터 준비\n"
          ]
        }
      ],
      "source": [
        "print(\"\\n 토큰화된 데이터 준비\")\n",
        "X,_,_ = sp_tokenize(s,df_final['document'],'pre')\n",
        "y = df_final['label']"
      ]
    },
    {
      "cell_type": "code",
      "execution_count": 89,
      "id": "6cf2b765",
      "metadata": {
        "colab": {
          "base_uri": "https://localhost:8080/"
        },
        "id": "6cf2b765",
        "outputId": "6204a1aa-20ae-44b3-81f1-5a041ce540e1"
      },
      "outputs": [
        {
          "output_type": "stream",
          "name": "stdout",
          "text": [
            "\n",
            "✅ [Step 5] 학습/검증 데이터 분할 및 모델 학습\n",
            "Epoch 1/5\n"
          ]
        },
        {
          "output_type": "stream",
          "name": "stderr",
          "text": [
            "/usr/local/lib/python3.11/dist-packages/keras/src/layers/core/embedding.py:93: UserWarning: Do not pass an `input_shape`/`input_dim` argument to a layer. When using Sequential models, prefer using an `Input(shape)` object as the first layer in the model instead.\n",
            "  super().__init__(**kwargs)\n"
          ]
        },
        {
          "output_type": "stream",
          "name": "stdout",
          "text": [
            "\u001b[1m1825/1825\u001b[0m \u001b[32m━━━━━━━━━━━━━━━━━━━━\u001b[0m\u001b[37m\u001b[0m \u001b[1m19s\u001b[0m 9ms/step - accuracy: 0.7691 - loss: 0.4803 - val_accuracy: 0.8427 - val_loss: 0.3536\n",
            "Epoch 2/5\n",
            "\u001b[1m1825/1825\u001b[0m \u001b[32m━━━━━━━━━━━━━━━━━━━━\u001b[0m\u001b[37m\u001b[0m \u001b[1m21s\u001b[0m 10ms/step - accuracy: 0.8545 - loss: 0.3416 - val_accuracy: 0.8474 - val_loss: 0.3401\n",
            "Epoch 3/5\n",
            "\u001b[1m1825/1825\u001b[0m \u001b[32m━━━━━━━━━━━━━━━━━━━━\u001b[0m\u001b[37m\u001b[0m \u001b[1m20s\u001b[0m 10ms/step - accuracy: 0.8686 - loss: 0.3125 - val_accuracy: 0.8522 - val_loss: 0.3413\n",
            "Epoch 4/5\n",
            "\u001b[1m1825/1825\u001b[0m \u001b[32m━━━━━━━━━━━━━━━━━━━━\u001b[0m\u001b[37m\u001b[0m \u001b[1m19s\u001b[0m 9ms/step - accuracy: 0.8846 - loss: 0.2815 - val_accuracy: 0.8496 - val_loss: 0.3392\n",
            "Epoch 5/5\n",
            "\u001b[1m1825/1825\u001b[0m \u001b[32m━━━━━━━━━━━━━━━━━━━━\u001b[0m\u001b[37m\u001b[0m \u001b[1m17s\u001b[0m 9ms/step - accuracy: 0.8955 - loss: 0.2578 - val_accuracy: 0.8514 - val_loss: 0.3706\n",
            "\n",
            "✅ [Step 6] 최종 검증 정확도\n",
            "\u001b[1m1141/1141\u001b[0m \u001b[32m━━━━━━━━━━━━━━━━━━━━\u001b[0m\u001b[37m\u001b[0m \u001b[1m6s\u001b[0m 5ms/step - accuracy: 0.8519 - loss: 0.3668\n",
            "✅ 최종 검증 정확도: 0.8514\n"
          ]
        }
      ],
      "source": [
        "print(\"\\n✅ [Step 5] 학습/검증 데이터 분할 및 모델 학습\")\n",
        "X_tv, X_test, y_tv, y_test = train_test_split(X, y, test_size=0.2, random_state=42)\n",
        "X_train, X_val, y_train, y_val = train_test_split(X_tv, y_tv, test_size=0.2, random_state=42)\n",
        "\n",
        "from tensorflow.keras import backend as K\n",
        "K.clear_session()\n",
        "\n",
        "model = Sequential([\n",
        "    Embedding(input_dim=4000, output_dim=128, input_shape=(None,)),\n",
        "    LSTM(32),\n",
        "    Dense(16, activation='relu'),\n",
        "    Dropout(0.5),\n",
        "    Dense(1, activation='sigmoid')\n",
        "])\n",
        "\n",
        "\n",
        "\n",
        "model.compile(loss='binary_crossentropy', optimizer='adam', metrics=['accuracy'])\n",
        "\n",
        "history = model.fit(\n",
        "    X_train, y_train,\n",
        "    validation_data=(X_val, y_val),\n",
        "    epochs=5,\n",
        "    batch_size=64\n",
        ")\n",
        "\n",
        "# -----------------------------\n",
        "print(\"\\n✅ [Step 6] 최종 검증 정확도\")\n",
        "loss, acc = model.evaluate(X_test, y_test)\n",
        "print(f\"✅ 최종 검증 정확도: {acc:.4f}\")"
      ]
    },
    {
      "cell_type": "code",
      "source": [
        "show_history_graph(history)"
      ],
      "metadata": {
        "colab": {
          "base_uri": "https://localhost:8080/",
          "height": 341
        },
        "id": "AAeiUtuV3KVG",
        "outputId": "a551e311-c4b2-4e4e-cc0a-e1f467e32f06"
      },
      "id": "AAeiUtuV3KVG",
      "execution_count": 90,
      "outputs": [
        {
          "output_type": "display_data",
          "data": {
            "text/plain": [
              "<Figure size 1600x600 with 2 Axes>"
            ],
            "image/png": "[encoded data removed]"
          },
          "metadata": {}
        }
      ]
    },
    {
      "cell_type": "code",
      "execution_count": 91,
      "id": "8eaeac8a",
      "metadata": {
        "colab": {
          "base_uri": "https://localhost:8080/",
          "height": 223
        },
        "id": "8eaeac8a",
        "outputId": "6ae844fa-dbcf-4391-ec80-50c770cbc6c8"
      },
      "outputs": [
        {
          "output_type": "execute_result",
          "data": {
            "text/plain": [
              "         id                                          document  label  length  \\\n",
              "0   8112052                                 어릴때보고 지금다시봐도 재밌어요      1      17   \n",
              "1   4655635                 폴리스스토리 시리즈는 1부터 뉴까지 버릴께 하나도 없음 최고      1      33   \n",
              "2   9251303  와 연기가 진짜 개쩔구나 지루할거라고 생각했는데 몰입해서 봤다 그래 이런게 진짜 영화지      1      48   \n",
              "3  10067386                        안개 자욱한 밤하늘에 떠 있는 초승달 같은 영화      1      26   \n",
              "4   2190435                     사랑을 해본사람이라면 처음부터 끝까지 웃을수 있는영화      1      29   \n",
              "\n",
              "   pred_tok  \n",
              "0         3  \n",
              "1         8  \n",
              "2        12  \n",
              "3         8  \n",
              "4         6  "
            ],
            "text/html": [
              "\n",
              "  <div id=\"df-53838b18-819f-47a7-8bce-476fab8c2746\" class=\"colab-df-container\">\n",
              "    <div>\n",
              "<style scoped>\n",
              "    .dataframe tbody tr th:only-of-type {\n",
              "        vertical-align: middle;\n",
              "    }\n",
              "\n",
              "    .dataframe tbody tr th {\n",
              "        vertical-align: top;\n",
              "    }\n",
              "\n",
              "    .dataframe thead th {\n",
              "        text-align: right;\n",
              "    }\n",
              "</style>\n",
              "<table border=\"1\" class=\"dataframe\">\n",
              "  <thead>\n",
              "    <tr style=\"text-align: right;\">\n",
              "      <th></th>\n",
              "      <th>id</th>\n",
              "      <th>document</th>\n",
              "      <th>label</th>\n",
              "      <th>length</th>\n",
              "      <th>pred_tok</th>\n",
              "    </tr>\n",
              "  </thead>\n",
              "  <tbody>\n",
              "    <tr>\n",
              "      <th>0</th>\n",
              "      <td>8112052</td>\n",
              "      <td>어릴때보고 지금다시봐도 재밌어요</td>\n",
              "      <td>1</td>\n",
              "      <td>17</td>\n",
              "      <td>3</td>\n",
              "    </tr>\n",
              "    <tr>\n",
              "      <th>1</th>\n",
              "      <td>4655635</td>\n",
              "      <td>폴리스스토리 시리즈는 1부터 뉴까지 버릴께 하나도 없음 최고</td>\n",
              "      <td>1</td>\n",
              "      <td>33</td>\n",
              "      <td>8</td>\n",
              "    </tr>\n",
              "    <tr>\n",
              "      <th>2</th>\n",
              "      <td>9251303</td>\n",
              "      <td>와 연기가 진짜 개쩔구나 지루할거라고 생각했는데 몰입해서 봤다 그래 이런게 진짜 영화지</td>\n",
              "      <td>1</td>\n",
              "      <td>48</td>\n",
              "      <td>12</td>\n",
              "    </tr>\n",
              "    <tr>\n",
              "      <th>3</th>\n",
              "      <td>10067386</td>\n",
              "      <td>안개 자욱한 밤하늘에 떠 있는 초승달 같은 영화</td>\n",
              "      <td>1</td>\n",
              "      <td>26</td>\n",
              "      <td>8</td>\n",
              "    </tr>\n",
              "    <tr>\n",
              "      <th>4</th>\n",
              "      <td>2190435</td>\n",
              "      <td>사랑을 해본사람이라면 처음부터 끝까지 웃을수 있는영화</td>\n",
              "      <td>1</td>\n",
              "      <td>29</td>\n",
              "      <td>6</td>\n",
              "    </tr>\n",
              "  </tbody>\n",
              "</table>\n",
              "</div>\n",
              "    <div class=\"colab-df-buttons\">\n",
              "\n",
              "  <div class=\"colab-df-container\">\n",
              "    <button class=\"colab-df-convert\" onclick=\"convertToInteractive('df-53838b18-819f-47a7-8bce-476fab8c2746')\"\n",
              "            title=\"Convert this dataframe to an interactive table.\"\n",
              "            style=\"display:none;\">\n",
              "\n",
              "  <svg xmlns=\"http://www.w3.org/2000/svg\" height=\"24px\" viewBox=\"0 -960 960 960\">\n",
              "    <path d=\"M120-120v-720h720v720H120Zm60-500h600v-160H180v160Zm220 220h160v-160H400v160Zm0 220h160v-160H400v160ZM180-400h160v-160H180v160Zm440 0h160v-160H620v160ZM180-180h160v-160H180v160Zm440 0h160v-160H620v160Z\"/>\n",
              "  </svg>\n",
              "    </button>\n",
              "\n",
              "  <style>\n",
              "    .colab-df-container {\n",
              "      display:flex;\n",
              "      gap: 12px;\n",
              "    }\n",
              "\n",
              "    .colab-df-convert {\n",
              "      background-color: #E8F0FE;\n",
              "      border: none;\n",
              "      border-radius: 50%;\n",
              "      cursor: pointer;\n",
              "      display: none;\n",
              "      fill: #1967D2;\n",
              "      height: 32px;\n",
              "      padding: 0 0 0 0;\n",
              "      width: 32px;\n",
              "    }\n",
              "\n",
              "    .colab-df-convert:hover {\n",
              "      background-color: #E2EBFA;\n",
              "      box-shadow: 0px 1px 2px rgba(60, 64, 67, 0.3), 0px 1px 3px 1px rgba(60, 64, 67, 0.15);\n",
              "      fill: #174EA6;\n",
              "    }\n",
              "\n",
              "    .colab-df-buttons div {\n",
              "      margin-bottom: 4px;\n",
              "    }\n",
              "\n",
              "    [theme=dark] .colab-df-convert {\n",
              "      background-color: #3B4455;\n",
              "      fill: #D2E3FC;\n",
              "    }\n",
              "\n",
              "    [theme=dark] .colab-df-convert:hover {\n",
              "      background-color: #434B5C;\n",
              "      box-shadow: 0px 1px 3px 1px rgba(0, 0, 0, 0.15);\n",
              "      filter: drop-shadow(0px 1px 2px rgba(0, 0, 0, 0.3));\n",
              "      fill: #FFFFFF;\n",
              "    }\n",
              "  </style>\n",
              "\n",
              "    <script>\n",
              "      const buttonEl =\n",
              "        document.querySelector('#df-53838b18-819f-47a7-8bce-476fab8c2746 button.colab-df-convert');\n",
              "      buttonEl.style.display =\n",
              "        google.colab.kernel.accessAllowed ? 'block' : 'none';\n",
              "\n",
              "      async function convertToInteractive(key) {\n",
              "        const element = document.querySelector('#df-53838b18-819f-47a7-8bce-476fab8c2746');\n",
              "        const dataTable =\n",
              "          await google.colab.kernel.invokeFunction('convertToInteractive',\n",
              "                                                    [key], {});\n",
              "        if (!dataTable) return;\n",
              "\n",
              "        const docLinkHtml = 'Like what you see? Visit the ' +\n",
              "          '<a target=\"_blank\" href=https://colab.research.google.com/notebooks/data_table.ipynb>data table notebook</a>'\n",
              "          + ' to learn more about interactive tables.';\n",
              "        element.innerHTML = '';\n",
              "        dataTable['output_type'] = 'display_data';\n",
              "        await google.colab.output.renderOutput(dataTable, element);\n",
              "        const docLink = document.createElement('div');\n",
              "        docLink.innerHTML = docLinkHtml;\n",
              "        element.appendChild(docLink);\n",
              "      }\n",
              "    </script>\n",
              "  </div>\n",
              "\n",
              "\n",
              "    <div id=\"df-9cbd3cd3-4573-4492-a583-d33048f7d51c\">\n",
              "      <button class=\"colab-df-quickchart\" onclick=\"quickchart('df-9cbd3cd3-4573-4492-a583-d33048f7d51c')\"\n",
              "                title=\"Suggest charts\"\n",
              "                style=\"display:none;\">\n",
              "\n",
              "<svg xmlns=\"http://www.w3.org/2000/svg\" height=\"24px\"viewBox=\"0 0 24 24\"\n",
              "     width=\"24px\">\n",
              "    <g>\n",
              "        <path d=\"M19 3H5c-1.1 0-2 .9-2 2v14c0 1.1.9 2 2 2h14c1.1 0 2-.9 2-2V5c0-1.1-.9-2-2-2zM9 17H7v-7h2v7zm4 0h-2V7h2v10zm4 0h-2v-4h2v4z\"/>\n",
              "    </g>\n",
              "</svg>\n",
              "      </button>\n",
              "\n",
              "<style>\n",
              "  .colab-df-quickchart {\n",
              "      --bg-color: #E8F0FE;\n",
              "      --fill-color: #1967D2;\n",
              "      --hover-bg-color: #E2EBFA;\n",
              "      --hover-fill-color: #174EA6;\n",
              "      --disabled-fill-color: #AAA;\n",
              "      --disabled-bg-color: #DDD;\n",
              "  }\n",
              "\n",
              "  [theme=dark] .colab-df-quickchart {\n",
              "      --bg-color: #3B4455;\n",
              "      --fill-color: #D2E3FC;\n",
              "      --hover-bg-color: #434B5C;\n",
              "      --hover-fill-color: #FFFFFF;\n",
              "      --disabled-bg-color: #3B4455;\n",
              "      --disabled-fill-color: #666;\n",
              "  }\n",
              "\n",
              "  .colab-df-quickchart {\n",
              "    background-color: var(--bg-color);\n",
              "    border: none;\n",
              "    border-radius: 50%;\n",
              "    cursor: pointer;\n",
              "    display: none;\n",
              "    fill: var(--fill-color);\n",
              "    height: 32px;\n",
              "    padding: 0;\n",
              "    width: 32px;\n",
              "  }\n",
              "\n",
              "  .colab-df-quickchart:hover {\n",
              "    background-color: var(--hover-bg-color);\n",
              "    box-shadow: 0 1px 2px rgba(60, 64, 67, 0.3), 0 1px 3px 1px rgba(60, 64, 67, 0.15);\n",
              "    fill: var(--button-hover-fill-color);\n",
              "  }\n",
              "\n",
              "  .colab-df-quickchart-complete:disabled,\n",
              "  .colab-df-quickchart-complete:disabled:hover {\n",
              "    background-color: var(--disabled-bg-color);\n",
              "    fill: var(--disabled-fill-color);\n",
              "    box-shadow: none;\n",
              "  }\n",
              "\n",
              "  .colab-df-spinner {\n",
              "    border: 2px solid var(--fill-color);\n",
              "    border-color: transparent;\n",
              "    border-bottom-color: var(--fill-color);\n",
              "    animation:\n",
              "      spin 1s steps(1) infinite;\n",
              "  }\n",
              "\n",
              "  @keyframes spin {\n",
              "    0% {\n",
              "      border-color: transparent;\n",
              "      border-bottom-color: var(--fill-color);\n",
              "      border-left-color: var(--fill-color);\n",
              "    }\n",
              "    20% {\n",
              "      border-color: transparent;\n",
              "      border-left-color: var(--fill-color);\n",
              "      border-top-color: var(--fill-color);\n",
              "    }\n",
              "    30% {\n",
              "      border-color: transparent;\n",
              "      border-left-color: var(--fill-color);\n",
              "      border-top-color: var(--fill-color);\n",
              "      border-right-color: var(--fill-color);\n",
              "    }\n",
              "    40% {\n",
              "      border-color: transparent;\n",
              "      border-right-color: var(--fill-color);\n",
              "      border-top-color: var(--fill-color);\n",
              "    }\n",
              "    60% {\n",
              "      border-color: transparent;\n",
              "      border-right-color: var(--fill-color);\n",
              "    }\n",
              "    80% {\n",
              "      border-color: transparent;\n",
              "      border-right-color: var(--fill-color);\n",
              "      border-bottom-color: var(--fill-color);\n",
              "    }\n",
              "    90% {\n",
              "      border-color: transparent;\n",
              "      border-bottom-color: var(--fill-color);\n",
              "    }\n",
              "  }\n",
              "</style>\n",
              "\n",
              "      <script>\n",
              "        async function quickchart(key) {\n",
              "          const quickchartButtonEl =\n",
              "            document.querySelector('#' + key + ' button');\n",
              "          quickchartButtonEl.disabled = true;  // To prevent multiple clicks.\n",
              "          quickchartButtonEl.classList.add('colab-df-spinner');\n",
              "          try {\n",
              "            const charts = await google.colab.kernel.invokeFunction(\n",
              "                'suggestCharts', [key], {});\n",
              "          } catch (error) {\n",
              "            console.error('Error during call to suggestCharts:', error);\n",
              "          }\n",
              "          quickchartButtonEl.classList.remove('colab-df-spinner');\n",
              "          quickchartButtonEl.classList.add('colab-df-quickchart-complete');\n",
              "        }\n",
              "        (() => {\n",
              "          let quickchartButtonEl =\n",
              "            document.querySelector('#df-9cbd3cd3-4573-4492-a583-d33048f7d51c button');\n",
              "          quickchartButtonEl.style.display =\n",
              "            google.colab.kernel.accessAllowed ? 'block' : 'none';\n",
              "        })();\n",
              "      </script>\n",
              "    </div>\n",
              "\n",
              "    </div>\n",
              "  </div>\n"
            ],
            "application/vnd.google.colaboratory.intrinsic+json": {
              "type": "dataframe",
              "variable_name": "df_final"
            }
          },
          "metadata": {},
          "execution_count": 91
        }
      ],
      "source": [
        "df_final.head()"
      ]
    },
    {
      "cell_type": "markdown",
      "source": [
        "### SentencePiece model type = unigram, Vocab = 8000, padding = pre"
      ],
      "metadata": {
        "id": "ldLlavNKHrCC"
      },
      "id": "ldLlavNKHrCC"
    },
    {
      "cell_type": "code",
      "source": [
        "!rm spm*\n",
        "\n",
        "# -----------------------------\n",
        "print(\"\\n  학습용 SentencePiece 텍스트 파일 생성\")\n",
        "with open(\"spm_input.txt\", \"w\") as f:\n",
        "    for row in df_final['document']:\n",
        "        f.write(row + \"\\n\")\n"
      ],
      "metadata": {
        "colab": {
          "base_uri": "https://localhost:8080/"
        },
        "id": "QVS7PeEw8gWC",
        "outputId": "3d32a792-40df-4c79-ca91-142164100c54"
      },
      "id": "QVS7PeEw8gWC",
      "execution_count": 92,
      "outputs": [
        {
          "output_type": "stream",
          "name": "stdout",
          "text": [
            "\n",
            "  학습용 SentencePiece 텍스트 파일 생성\n"
          ]
        }
      ]
    },
    {
      "cell_type": "code",
      "source": [
        "print(\"\\n  SentencePiece 모델 학습\")\n",
        "spm.SentencePieceTrainer.Train(\n",
        "    input='spm_input.txt',\n",
        "    model_prefix='spm',\n",
        "    vocab_size=8000,\n",
        "    model_type='unigram'\n",
        ")\n"
      ],
      "metadata": {
        "colab": {
          "base_uri": "https://localhost:8080/"
        },
        "id": "Fn11pM928pUv",
        "outputId": "02eda4a4-c9c6-47ed-851e-7597a6fd0984"
      },
      "id": "Fn11pM928pUv",
      "execution_count": 93,
      "outputs": [
        {
          "output_type": "stream",
          "name": "stdout",
          "text": [
            "\n",
            "  SentencePiece 모델 학습\n"
          ]
        }
      ]
    },
    {
      "cell_type": "code",
      "source": [
        "# -----------------------------\n",
        "print(\"\\n 토크나이저 로딩 확인\")\n",
        "s = spm.SentencePieceProcessor()\n",
        "s.load(\"spm.model\")\n",
        "\n",
        "# SentencePiece를 활용한 sentence -> encoding\n",
        "tokensIDs = s.EncodeAsIds('아버지가방에들어가신다.')\n",
        "print(tokensIDs)\n",
        "\n",
        "# SentencePiece를 활용한 sentence -> encoded pieces\n",
        "print(s.SampleEncodeAsPieces('아버지가방에들어가신다.'))\n",
        "\n",
        "# SentencePiece를 활용한 encoding -> sentence 복원\n",
        "print(s.DecodeIds(tokensIDs))\n"
      ],
      "metadata": {
        "colab": {
          "base_uri": "https://localhost:8080/"
        },
        "id": "RdoO4wdH8stm",
        "outputId": "a889c0ad-f88b-48c4-a914-71c03aa49052"
      },
      "id": "RdoO4wdH8stm",
      "execution_count": 94,
      "outputs": [
        {
          "output_type": "stream",
          "name": "stdout",
          "text": [
            "\n",
            " 토크나이저 로딩 확인\n",
            "[1263, 7, 396, 12, 1195, 7, 134, 13, 0]\n",
            "['▁', '아버지', '가', '방', '에', '들어', '가', '신', '다', '.']\n",
            "아버지가방에들어가신다 ⁇ \n"
          ]
        }
      ]
    },
    {
      "cell_type": "code",
      "source": [
        "print(\"\\n 토큰화된 데이터 준비\")\n",
        "X,_,_ = sp_tokenize(s,df_final['document'],'pre')\n",
        "y = df_final['label']"
      ],
      "metadata": {
        "colab": {
          "base_uri": "https://localhost:8080/"
        },
        "id": "II-IOALV8xQr",
        "outputId": "5d5650f0-e21d-4f86-c181-7dcd81d8b0c6"
      },
      "id": "II-IOALV8xQr",
      "execution_count": 95,
      "outputs": [
        {
          "output_type": "stream",
          "name": "stdout",
          "text": [
            "\n",
            " 토큰화된 데이터 준비\n"
          ]
        }
      ]
    },
    {
      "cell_type": "code",
      "source": [
        "print(\"\\n✅ [Step 5] 학습/검증 데이터 분할 및 모델 학습\")\n",
        "X_tv, X_test, y_tv, y_test = train_test_split(X, y, test_size=0.2, random_state=42)\n",
        "X_train, X_val, y_train, y_val = train_test_split(X_tv, y_tv, test_size=0.2, random_state=42)\n",
        "\n",
        "from tensorflow.keras import backend as K\n",
        "K.clear_session()\n",
        "\n",
        "model = Sequential([\n",
        "    Embedding(input_dim=8000, output_dim=128, input_shape=(None,)),\n",
        "    LSTM(32),\n",
        "    Dense(16, activation='relu'),\n",
        "    Dropout(0.5),\n",
        "    Dense(1, activation='sigmoid')\n",
        "])\n",
        "\n",
        "model.compile(loss='binary_crossentropy', optimizer='adam', metrics=['accuracy'])\n",
        "\n",
        "history = model.fit(\n",
        "    X_train, y_train,\n",
        "    validation_data=(X_val, y_val),\n",
        "    epochs=5,\n",
        "    batch_size=64\n",
        ")\n",
        "\n",
        "# -----------------------------\n",
        "print(\"\\n✅ [Step 6] 최종 검증 정확도\")\n",
        "loss, acc = model.evaluate(X_test, y_test)\n",
        "print(f\"✅ 최종 검증 정확도: {acc:.4f}\")"
      ],
      "metadata": {
        "colab": {
          "base_uri": "https://localhost:8080/"
        },
        "id": "CIO2LUyc83_B",
        "outputId": "edbf7ae9-86c0-462b-b95f-0e539319739f"
      },
      "id": "CIO2LUyc83_B",
      "execution_count": 96,
      "outputs": [
        {
          "output_type": "stream",
          "name": "stdout",
          "text": [
            "\n",
            "✅ [Step 5] 학습/검증 데이터 분할 및 모델 학습\n",
            "Epoch 1/5\n"
          ]
        },
        {
          "output_type": "stream",
          "name": "stderr",
          "text": [
            "/usr/local/lib/python3.11/dist-packages/keras/src/layers/core/embedding.py:93: UserWarning: Do not pass an `input_shape`/`input_dim` argument to a layer. When using Sequential models, prefer using an `Input(shape)` object as the first layer in the model instead.\n",
            "  super().__init__(**kwargs)\n"
          ]
        },
        {
          "output_type": "stream",
          "name": "stdout",
          "text": [
            "\u001b[1m1825/1825\u001b[0m \u001b[32m━━━━━━━━━━━━━━━━━━━━\u001b[0m\u001b[37m\u001b[0m \u001b[1m19s\u001b[0m 10ms/step - accuracy: 0.7661 - loss: 0.4825 - val_accuracy: 0.8504 - val_loss: 0.3405\n",
            "Epoch 2/5\n",
            "\u001b[1m1825/1825\u001b[0m \u001b[32m━━━━━━━━━━━━━━━━━━━━\u001b[0m\u001b[37m\u001b[0m \u001b[1m18s\u001b[0m 10ms/step - accuracy: 0.8694 - loss: 0.3117 - val_accuracy: 0.8554 - val_loss: 0.3317\n",
            "Epoch 3/5\n",
            "\u001b[1m1825/1825\u001b[0m \u001b[32m━━━━━━━━━━━━━━━━━━━━\u001b[0m\u001b[37m\u001b[0m \u001b[1m19s\u001b[0m 9ms/step - accuracy: 0.8902 - loss: 0.2683 - val_accuracy: 0.8556 - val_loss: 0.3405\n",
            "Epoch 4/5\n",
            "\u001b[1m1825/1825\u001b[0m \u001b[32m━━━━━━━━━━━━━━━━━━━━\u001b[0m\u001b[37m\u001b[0m \u001b[1m17s\u001b[0m 9ms/step - accuracy: 0.9107 - loss: 0.2265 - val_accuracy: 0.8524 - val_loss: 0.3743\n",
            "Epoch 5/5\n",
            "\u001b[1m1825/1825\u001b[0m \u001b[32m━━━━━━━━━━━━━━━━━━━━\u001b[0m\u001b[37m\u001b[0m \u001b[1m21s\u001b[0m 9ms/step - accuracy: 0.9276 - loss: 0.1863 - val_accuracy: 0.8517 - val_loss: 0.4172\n",
            "\n",
            "✅ [Step 6] 최종 검증 정확도\n",
            "\u001b[1m1141/1141\u001b[0m \u001b[32m━━━━━━━━━━━━━━━━━━━━\u001b[0m\u001b[37m\u001b[0m \u001b[1m5s\u001b[0m 4ms/step - accuracy: 0.8504 - loss: 0.4145\n",
            "✅ 최종 검증 정확도: 0.8493\n"
          ]
        }
      ]
    },
    {
      "cell_type": "code",
      "source": [
        "show_history_graph(history)"
      ],
      "metadata": {
        "colab": {
          "base_uri": "https://localhost:8080/",
          "height": 342
        },
        "id": "4jfl4wld87pt",
        "outputId": "75781b61-1425-4d32-ae1e-5ba24d42817b"
      },
      "id": "4jfl4wld87pt",
      "execution_count": 97,
      "outputs": [
        {
          "output_type": "display_data",
          "data": {
            "text/plain": [
              "<Figure size 1600x600 with 2 Axes>"
            ],
            "image/png": "[encoded data removed]"
          },
          "metadata": {}
        }
      ]
    },
    {
      "cell_type": "markdown",
      "source": [
        "### SentencePiece model type = unigram, Vocab = 8000, padding = post"
      ],
      "metadata": {
        "id": "enuKACDHHwiJ"
      },
      "id": "enuKACDHHwiJ"
    },
    {
      "cell_type": "code",
      "source": [
        "!rm spm*\n",
        "\n",
        "# -----------------------------\n",
        "print(\"\\n  학습용 SentencePiece 텍스트 파일 생성\")\n",
        "with open(\"spm_input.txt\", \"w\") as f:\n",
        "    for row in df_final['document']:\n",
        "        f.write(row + \"\\n\")\n"
      ],
      "metadata": {
        "colab": {
          "base_uri": "https://localhost:8080/"
        },
        "outputId": "77b8906e-d1e2-4826-947f-9097d7635018",
        "id": "_3kz7ZvA-AQA"
      },
      "execution_count": 98,
      "outputs": [
        {
          "output_type": "stream",
          "name": "stdout",
          "text": [
            "\n",
            "  학습용 SentencePiece 텍스트 파일 생성\n"
          ]
        }
      ],
      "id": "_3kz7ZvA-AQA"
    },
    {
      "cell_type": "code",
      "source": [
        "print(\"\\n  SentencePiece 모델 학습\")\n",
        "spm.SentencePieceTrainer.Train(\n",
        "    input='spm_input.txt',\n",
        "    model_prefix='spm',\n",
        "    vocab_size=8000,\n",
        "    model_type='unigram'\n",
        ")\n"
      ],
      "metadata": {
        "colab": {
          "base_uri": "https://localhost:8080/"
        },
        "outputId": "ae82b5ae-0905-480c-e649-4d1756498ee6",
        "id": "UGD_uhHp-AQC"
      },
      "execution_count": 99,
      "outputs": [
        {
          "output_type": "stream",
          "name": "stdout",
          "text": [
            "\n",
            "  SentencePiece 모델 학습\n"
          ]
        }
      ],
      "id": "UGD_uhHp-AQC"
    },
    {
      "cell_type": "code",
      "source": [
        "# -----------------------------\n",
        "print(\"\\n 토크나이저 로딩 확인\")\n",
        "s = spm.SentencePieceProcessor()\n",
        "s.load(\"spm.model\")\n",
        "\n",
        "# SentencePiece를 활용한 sentence -> encoding\n",
        "tokensIDs = s.EncodeAsIds('아버지가방에들어가신다.')\n",
        "print(tokensIDs)\n",
        "\n",
        "# SentencePiece를 활용한 sentence -> encoded pieces\n",
        "print(s.SampleEncodeAsPieces('아버지가방에들어가신다.'))\n",
        "\n",
        "# SentencePiece를 활용한 encoding -> sentence 복원\n",
        "print(s.DecodeIds(tokensIDs))\n"
      ],
      "metadata": {
        "colab": {
          "base_uri": "https://localhost:8080/"
        },
        "outputId": "ddb511d8-727e-44c7-c661-31b7509f0ee6",
        "id": "Cmn7st-4-AQF"
      },
      "execution_count": 100,
      "outputs": [
        {
          "output_type": "stream",
          "name": "stdout",
          "text": [
            "\n",
            " 토크나이저 로딩 확인\n",
            "[1263, 7, 396, 12, 1195, 7, 134, 13, 0]\n",
            "['▁', '아버지', '가', '방', '에', '들어', '가', '신', '다', '.']\n",
            "아버지가방에들어가신다 ⁇ \n"
          ]
        }
      ],
      "id": "Cmn7st-4-AQF"
    },
    {
      "cell_type": "code",
      "source": [
        "print(\"\\n 토큰화된 데이터 준비\")\n",
        "X,_,_ = sp_tokenize(s,df_final['document'],'post')\n",
        "y = df_final['label']"
      ],
      "metadata": {
        "colab": {
          "base_uri": "https://localhost:8080/"
        },
        "outputId": "ffabed38-c9f7-4cd9-8b74-e7868d5d2a02",
        "id": "3dhAlgcz-AQF"
      },
      "execution_count": 101,
      "outputs": [
        {
          "output_type": "stream",
          "name": "stdout",
          "text": [
            "\n",
            " 토큰화된 데이터 준비\n"
          ]
        }
      ],
      "id": "3dhAlgcz-AQF"
    },
    {
      "cell_type": "code",
      "source": [
        "print(\"\\n✅ [Step 5] 학습/검증 데이터 분할 및 모델 학습\")\n",
        "X_tv, X_test, y_tv, y_test = train_test_split(X, y, test_size=0.2, random_state=42)\n",
        "X_train, X_val, y_train, y_val = train_test_split(X_tv, y_tv, test_size=0.2, random_state=42)\n",
        "\n",
        "from tensorflow.keras import backend as K\n",
        "K.clear_session()\n",
        "\n",
        "model = Sequential([\n",
        "    Embedding(input_dim=8000, output_dim=128, input_shape=(None,)),\n",
        "    LSTM(32),\n",
        "    Dense(16, activation='relu'),\n",
        "    Dropout(0.5),\n",
        "    Dense(1, activation='sigmoid')\n",
        "])\n",
        "\n",
        "model.compile(loss='binary_crossentropy', optimizer='adam', metrics=['accuracy'])\n",
        "\n",
        "history = model.fit(\n",
        "    X_train, y_train,\n",
        "    validation_data=(X_val, y_val),\n",
        "    epochs=5,\n",
        "    batch_size=64\n",
        ")\n",
        "\n",
        "# -----------------------------\n",
        "print(\"\\n✅ [Step 6] 최종 검증 정확도\")\n",
        "loss, acc = model.evaluate(X_test, y_test)\n",
        "print(f\"✅ 최종 검증 정확도: {acc:.4f}\")"
      ],
      "metadata": {
        "colab": {
          "base_uri": "https://localhost:8080/"
        },
        "outputId": "0a66750b-f2be-4bc5-cf69-914901f68dd0",
        "id": "KmYhQayz-AQG"
      },
      "execution_count": 102,
      "outputs": [
        {
          "output_type": "stream",
          "name": "stdout",
          "text": [
            "\n",
            "✅ [Step 5] 학습/검증 데이터 분할 및 모델 학습\n",
            "Epoch 1/5\n",
            "\u001b[1m1825/1825\u001b[0m \u001b[32m━━━━━━━━━━━━━━━━━━━━\u001b[0m\u001b[37m\u001b[0m \u001b[1m18s\u001b[0m 9ms/step - accuracy: 0.4996 - loss: 0.6933 - val_accuracy: 0.4977 - val_loss: 0.6931\n",
            "Epoch 2/5\n",
            "\u001b[1m1825/1825\u001b[0m \u001b[32m━━━━━━━━━━━━━━━━━━━━\u001b[0m\u001b[37m\u001b[0m \u001b[1m21s\u001b[0m 9ms/step - accuracy: 0.4986 - loss: 0.6932 - val_accuracy: 0.5023 - val_loss: 0.6931\n",
            "Epoch 3/5\n",
            "\u001b[1m1825/1825\u001b[0m \u001b[32m━━━━━━━━━━━━━━━━━━━━\u001b[0m\u001b[37m\u001b[0m \u001b[1m20s\u001b[0m 9ms/step - accuracy: 0.5000 - loss: 0.6932 - val_accuracy: 0.5023 - val_loss: 0.6931\n",
            "Epoch 4/5\n",
            "\u001b[1m1825/1825\u001b[0m \u001b[32m━━━━━━━━━━━━━━━━━━━━\u001b[0m\u001b[37m\u001b[0m \u001b[1m16s\u001b[0m 9ms/step - accuracy: 0.4960 - loss: 0.6932 - val_accuracy: 0.4977 - val_loss: 0.6932\n",
            "Epoch 5/5\n",
            "\u001b[1m1825/1825\u001b[0m \u001b[32m━━━━━━━━━━━━━━━━━━━━\u001b[0m\u001b[37m\u001b[0m \u001b[1m21s\u001b[0m 9ms/step - accuracy: 0.4960 - loss: 0.6932 - val_accuracy: 0.4977 - val_loss: 0.6932\n",
            "\n",
            "✅ [Step 6] 최종 검증 정확도\n",
            "\u001b[1m1141/1141\u001b[0m \u001b[32m━━━━━━━━━━━━━━━━━━━━\u001b[0m\u001b[37m\u001b[0m \u001b[1m5s\u001b[0m 4ms/step - accuracy: 0.4979 - loss: 0.6932\n",
            "✅ 최종 검증 정확도: 0.4992\n"
          ]
        }
      ],
      "id": "KmYhQayz-AQG"
    },
    {
      "cell_type": "code",
      "source": [
        "show_history_graph(history)"
      ],
      "metadata": {
        "colab": {
          "base_uri": "https://localhost:8080/",
          "height": 335
        },
        "outputId": "15912f65-e5aa-4282-9791-c4479636e13a",
        "id": "LIutekHq-AQG"
      },
      "execution_count": 103,
      "outputs": [
        {
          "output_type": "display_data",
          "data": {
            "text/plain": [
              "<Figure size 1600x600 with 2 Axes>"
            ],
            "image/png": "[encoded data removed]"
          },
          "metadata": {}
        }
      ],
      "id": "LIutekHq-AQG"
    },
    {
      "cell_type": "markdown",
      "source": [
        "### SentencePiece model type = bpe, Vocab = 8000, padding = pre"
      ],
      "metadata": {
        "id": "bvugZ3-oIBPZ"
      },
      "id": "bvugZ3-oIBPZ"
    },
    {
      "cell_type": "code",
      "source": [
        "!rm spm*\n",
        "\n",
        "# -----------------------------\n",
        "print(\"\\n  학습용 SentencePiece 텍스트 파일 생성\")\n",
        "with open(\"spm_input.txt\", \"w\") as f:\n",
        "    for row in df_final['document']:\n",
        "        f.write(row + \"\\n\")\n"
      ],
      "metadata": {
        "colab": {
          "base_uri": "https://localhost:8080/"
        },
        "outputId": "084e6235-0669-4891-aa78-0cd3f7f98280",
        "id": "V6iitH-m_C3j"
      },
      "execution_count": 110,
      "outputs": [
        {
          "output_type": "stream",
          "name": "stdout",
          "text": [
            "\n",
            "  학습용 SentencePiece 텍스트 파일 생성\n"
          ]
        }
      ],
      "id": "V6iitH-m_C3j"
    },
    {
      "cell_type": "code",
      "source": [
        "print(\"\\n  SentencePiece 모델 학습\")\n",
        "spm.SentencePieceTrainer.Train(\n",
        "    input='spm_input.txt',\n",
        "    model_prefix='spm',\n",
        "    vocab_size=8000,\n",
        "    model_type='bpe'\n",
        ")\n"
      ],
      "metadata": {
        "colab": {
          "base_uri": "https://localhost:8080/"
        },
        "outputId": "10ea778f-729f-46f6-94f7-505b268bbc4c",
        "id": "O8Yq_-g9_C3l"
      },
      "execution_count": 111,
      "outputs": [
        {
          "output_type": "stream",
          "name": "stdout",
          "text": [
            "\n",
            "  SentencePiece 모델 학습\n"
          ]
        }
      ],
      "id": "O8Yq_-g9_C3l"
    },
    {
      "cell_type": "code",
      "source": [
        "# -----------------------------\n",
        "print(\"\\n 토크나이저 로딩 확인\")\n",
        "s = spm.SentencePieceProcessor()\n",
        "s.load(\"spm.model\")\n",
        "\n",
        "# SentencePiece를 활용한 sentence -> encoding\n",
        "tokensIDs = s.EncodeAsIds('아버지가방에들어가신다.')\n",
        "print(tokensIDs)\n",
        "\n",
        "# SentencePiece를 활용한 sentence -> encoded pieces\n",
        "print(s.SampleEncodeAsPieces('아버지가방에들어가신다.'))\n",
        "\n",
        "# SentencePiece를 활용한 encoding -> sentence 복원\n",
        "print(s.DecodeIds(tokensIDs))\n"
      ],
      "metadata": {
        "colab": {
          "base_uri": "https://localhost:8080/"
        },
        "outputId": "53aa51a0-494a-400c-e6a4-b587941a62f8",
        "id": "H8VmA2N8_C3m"
      },
      "execution_count": 112,
      "outputs": [
        {
          "output_type": "stream",
          "name": "stdout",
          "text": [
            "\n",
            " 토크나이저 로딩 확인\n",
            "[4667, 872, 6713, 6467, 1405, 6463, 6558, 6457, 0]\n",
            "['▁아버', '지가', '방', '에', '들어', '가', '신', '다', '.']\n",
            "아버지가방에들어가신다 ⁇ \n"
          ]
        }
      ],
      "id": "H8VmA2N8_C3m"
    },
    {
      "cell_type": "code",
      "source": [
        "print(\"\\n 토큰화된 데이터 준비\")\n",
        "X,_,_ = sp_tokenize(s,df_final['document'],'pre')\n",
        "y = df_final['label']"
      ],
      "metadata": {
        "colab": {
          "base_uri": "https://localhost:8080/"
        },
        "outputId": "f933210e-2800-4d97-fc45-5fa73e91eb13",
        "id": "Xj_TDfiZ_C3n"
      },
      "execution_count": 113,
      "outputs": [
        {
          "output_type": "stream",
          "name": "stdout",
          "text": [
            "\n",
            " 토큰화된 데이터 준비\n"
          ]
        }
      ],
      "id": "Xj_TDfiZ_C3n"
    },
    {
      "cell_type": "code",
      "source": [
        "print(\"\\n✅ [Step 5] 학습/검증 데이터 분할 및 모델 학습\")\n",
        "X_tv, X_test, y_tv, y_test = train_test_split(X, y, test_size=0.2, random_state=42)\n",
        "X_train, X_val, y_train, y_val = train_test_split(X_tv, y_tv, test_size=0.2, random_state=42)\n",
        "\n",
        "from tensorflow.keras import backend as K\n",
        "K.clear_session()\n",
        "\n",
        "model = Sequential([\n",
        "    Embedding(input_dim=8000, output_dim=128, input_shape=(None,)),\n",
        "    LSTM(32),\n",
        "    Dense(16, activation='relu'),\n",
        "    Dropout(0.5),\n",
        "    Dense(1, activation='sigmoid')\n",
        "])\n",
        "\n",
        "model.compile(loss='binary_crossentropy', optimizer='adam', metrics=['accuracy'])\n",
        "\n",
        "history = model.fit(\n",
        "    X_train, y_train,\n",
        "    validation_data=(X_val, y_val),\n",
        "    epochs=5,\n",
        "    batch_size=64\n",
        ")\n",
        "\n",
        "# -----------------------------\n",
        "print(\"\\n✅ [Step 6] 최종 검증 정확도\")\n",
        "loss, acc = model.evaluate(X_test, y_test)\n",
        "print(f\"✅ 최종 검증 정확도: {acc:.4f}\")"
      ],
      "metadata": {
        "colab": {
          "base_uri": "https://localhost:8080/"
        },
        "outputId": "b57cf549-6964-4089-9137-d6c18bf9a040",
        "id": "TpbhJnl__C3n"
      },
      "execution_count": 114,
      "outputs": [
        {
          "output_type": "stream",
          "name": "stdout",
          "text": [
            "\n",
            "✅ [Step 5] 학습/검증 데이터 분할 및 모델 학습\n",
            "Epoch 1/5\n",
            "\u001b[1m1825/1825\u001b[0m \u001b[32m━━━━━━━━━━━━━━━━━━━━\u001b[0m\u001b[37m\u001b[0m \u001b[1m18s\u001b[0m 9ms/step - accuracy: 0.7602 - loss: 0.4865 - val_accuracy: 0.8497 - val_loss: 0.3388\n",
            "Epoch 2/5\n",
            "\u001b[1m1825/1825\u001b[0m \u001b[32m━━━━━━━━━━━━━━━━━━━━\u001b[0m\u001b[37m\u001b[0m \u001b[1m21s\u001b[0m 9ms/step - accuracy: 0.8707 - loss: 0.3165 - val_accuracy: 0.8553 - val_loss: 0.3283\n",
            "Epoch 3/5\n",
            "\u001b[1m1825/1825\u001b[0m \u001b[32m━━━━━━━━━━━━━━━━━━━━\u001b[0m\u001b[37m\u001b[0m \u001b[1m17s\u001b[0m 9ms/step - accuracy: 0.8937 - loss: 0.2684 - val_accuracy: 0.8532 - val_loss: 0.3354\n",
            "Epoch 4/5\n",
            "\u001b[1m1825/1825\u001b[0m \u001b[32m━━━━━━━━━━━━━━━━━━━━\u001b[0m\u001b[37m\u001b[0m \u001b[1m21s\u001b[0m 9ms/step - accuracy: 0.9086 - loss: 0.2297 - val_accuracy: 0.8486 - val_loss: 0.3616\n",
            "Epoch 5/5\n",
            "\u001b[1m1825/1825\u001b[0m \u001b[32m━━━━━━━━━━━━━━━━━━━━\u001b[0m\u001b[37m\u001b[0m \u001b[1m20s\u001b[0m 9ms/step - accuracy: 0.9279 - loss: 0.1888 - val_accuracy: 0.8472 - val_loss: 0.3883\n",
            "\n",
            "✅ [Step 6] 최종 검증 정확도\n",
            "\u001b[1m1141/1141\u001b[0m \u001b[32m━━━━━━━━━━━━━━━━━━━━\u001b[0m\u001b[37m\u001b[0m \u001b[1m5s\u001b[0m 4ms/step - accuracy: 0.8448 - loss: 0.3874\n",
            "✅ 최종 검증 정확도: 0.8464\n"
          ]
        }
      ],
      "id": "TpbhJnl__C3n"
    },
    {
      "cell_type": "code",
      "source": [
        "show_history_graph(history)"
      ],
      "metadata": {
        "colab": {
          "base_uri": "https://localhost:8080/",
          "height": 342
        },
        "outputId": "14137e08-4110-4084-bf9c-c8d7d7ad507e",
        "id": "NxnbRV3s_C3o"
      },
      "execution_count": 115,
      "outputs": [
        {
          "output_type": "display_data",
          "data": {
            "text/plain": [
              "<Figure size 1600x600 with 2 Axes>"
            ],
            "image/png": "[encoded data removed]"
          },
          "metadata": {}
        }
      ],
      "id": "NxnbRV3s_C3o"
    },
    {
      "cell_type": "markdown",
      "source": [
        "## 결론 및 회고\n",
        "\n",
        "- vocab 사이즈는 적절한 값의 경우 잘 나오는거 같다. 위 실험에서는 작은 값의 결과가 좋았지만 vocab size를 키웠을때 더 좋은 결과가 나온 결과가 있었다.\n",
        "- unigram과 bpe는 큰 차이가 없었다.\n",
        "- padding 의 경우 pre 가 월등히 높은 성능을 보여줬으며 post의 경우 모델 특성때문인지 지나치게 낮은 정확도를 보였다.\n",
        "\n",
        "\n",
        "도중에 LMS가 제대로 안되기도 하고, 테스트 결과가 지속적으로 accuracy 1로 나오는 등의 여러가지 문제가 있었다. 다행히 해결되어 어느정도 결론이 도출되었지만 생각했던 테스트들을 다 해보지 못한거 같아 아쉬움이 남는다. 현재 조합별로도 하나씩만 바꿔가며 테스트를 했는데 다른 조합이나 다른 토크나이저를 썼을때의 결과를 보지 못해 안타깝다.\n"
      ],
      "metadata": {
        "id": "0Iac4chAIIdT"
      },
      "id": "0Iac4chAIIdT"
    }
  ],
  "metadata": {
    "kernelspec": {
      "display_name": "Python 3",
      "name": "python3"
    },
    "language_info": {
      "codemirror_mode": {
        "name": "ipython",
        "version": 3
      },
      "file_extension": ".py",
      "mimetype": "text/x-python",
      "name": "python",
      "nbconvert_exporter": "python",
      "pygments_lexer": "ipython3",
      "version": "3.9.7"
    },
    "colab": {
      "provenance": [],
      "gpuType": "T4"
    },
    "accelerator": "GPU"
  },
  "nbformat": 4,
  "nbformat_minor": 5
}