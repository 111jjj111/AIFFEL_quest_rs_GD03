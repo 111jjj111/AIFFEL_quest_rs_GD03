{
 "cells": [
  {
   "cell_type": "markdown",
   "metadata": {
    "id": "reg9IiWg1zdO"
   },
   "source": [
    "# 뉴스 요약봇 만들기 프로젝트"
   ]
  },
  {
   "cell_type": "code",
   "execution_count": 1,
   "metadata": {
    "colab": {
     "base_uri": "https://localhost:8080/"
    },
    "executionInfo": {
     "elapsed": 11736,
     "status": "ok",
     "timestamp": 1745215027410,
     "user": {
      "displayName": "K",
      "userId": "17697101113612252972"
     },
     "user_tz": -540
    },
    "id": "xyOaaY5U0u4J",
    "outputId": "c92bd9db-9cf7-4e5c-b4c5-5e94e1311e87"
   },
   "outputs": [
    {
     "name": "stderr",
     "output_type": "stream",
     "text": [
      "[nltk_data] Downloading package stopwords to /aiffel/nltk_data...\n",
      "[nltk_data]   Package stopwords is already up-to-date!\n"
     ]
    }
   ],
   "source": [
    "# !pip3 install summa\n",
    "\n",
    "import nltk\n",
    "import tensorflow\n",
    "import summa\n",
    "import pandas as pd\n",
    "\n",
    "nltk.download('stopwords')\n",
    "\n",
    "import numpy as np\n",
    "import os\n",
    "import re\n",
    "import matplotlib.pyplot as plt\n",
    "from nltk.corpus import stopwords\n",
    "from bs4 import BeautifulSoup\n",
    "from tensorflow.keras.preprocessing.text import Tokenizer\n",
    "from tensorflow.keras.preprocessing.sequence import pad_sequences\n",
    "import urllib.request\n",
    "import warnings\n",
    "warnings.filterwarnings(\"ignore\", category=UserWarning, module='bs4')\n",
    "\n",
    "from tensorflow.keras.layers import Input, LSTM, Embedding, Dense, Concatenate, TimeDistributed\n",
    "from tensorflow.keras.models import Model\n",
    "from tensorflow.keras.callbacks import EarlyStopping, ModelCheckpoint\n",
    "\n",
    "from tensorflow.keras.layers import AdditiveAttention\n",
    "\n",
    "from summa.summarizer import summarize\n"
   ]
  },
  {
   "cell_type": "markdown",
   "metadata": {
    "id": "FPKv3mGU14gk"
   },
   "source": [
    "## 함수 및 변수 정의"
   ]
  },
  {
   "cell_type": "code",
   "execution_count": 2,
   "metadata": {
    "executionInfo": {
     "elapsed": 27,
     "status": "ok",
     "timestamp": 1745215027677,
     "user": {
      "displayName": "K",
      "userId": "17697101113612252972"
     },
     "user_tz": -540
    },
    "id": "bilNz-XO15Mu"
   },
   "outputs": [],
   "source": [
    "# 데이터 전처리 함수\n",
    "def preprocess_sentence(sentence, remove_stopwords=True):\n",
    "    sentence = sentence.lower() # 텍스트 소문자화\n",
    "    sentence = BeautifulSoup(sentence, \"lxml\").text # <br />, <a href = ...> 등의 html 태그 제거\n",
    "    sentence = re.sub(r'\\([^)]*\\)', '', sentence) # 괄호로 닫힌 문자열 (...) 제거 Ex) my husband (and myself!) for => my husband for\n",
    "    sentence = re.sub('\"','', sentence) # 쌍따옴표 \" 제거\n",
    "    sentence = ' '.join([contractions[t] if t in contractions else t for t in sentence.split(\" \")]) # 약어 정규화\n",
    "    sentence = re.sub(r\"'s\\b\",\"\", sentence) # 소유격 제거. Ex) roland's -> roland\n",
    "    sentence = re.sub(\"[^a-zA-Z]\", \" \", sentence) # 영어 외 문자(숫자, 특수문자 등) 공백으로 변환\n",
    "    sentence = re.sub('[m]{2,}', 'mm', sentence) # m이 3개 이상이면 2개로 변경. Ex) ummmmmmm yeah -> umm yeah\n",
    "\n",
    "    # 불용어 제거 (text)\n",
    "    if remove_stopwords:\n",
    "        tokens = ' '.join(word for word in sentence.split() if not word in stopwords.words('english') if len(word) > 1)\n",
    "    # 불용어 미제거 (headline)\n",
    "    else:\n",
    "        tokens = ' '.join(word for word in sentence.split() if len(word) > 1)\n",
    "    return tokens\n",
    "\n",
    "\n",
    "# 짧은 문장 체크\n",
    "def below_threshold_len(max_len, nested_list):\n",
    "  cnt = 0\n",
    "  for s in nested_list:\n",
    "    if(len(s.split()) <= max_len):\n",
    "        cnt = cnt + 1\n",
    "  print('전체 샘플 중 길이가 %s 이하인 샘플의 비율: %s'%(max_len, (cnt / len(nested_list))))\n",
    "\n",
    "# 희귀 단어 관련 체크 함수\n",
    "def check_words_threshold(tokenizer,threshold):\n",
    "    total_cnt = len(tokenizer.word_index) # 단어의 수\n",
    "    rare_cnt = 0 # 등장 빈도수가 threshold보다 작은 단어의 개수를 카운트\n",
    "    total_freq = 0 # 훈련 데이터의 전체 단어 빈도수 총 합\n",
    "    rare_freq = 0 # 등장 빈도수가 threshold보다 작은 단어의 등장 빈도수의 총 합\n",
    "\n",
    "    # 단어와 빈도수의 쌍(pair)을 key와 value로 받는다.\n",
    "    for key, value in tokenizer.word_counts.items():\n",
    "        total_freq = total_freq + value\n",
    "\n",
    "        # 단어의 등장 빈도수가 threshold보다 작으면\n",
    "        if(value < threshold):\n",
    "            rare_cnt = rare_cnt + 1\n",
    "            rare_freq = rare_freq + value\n",
    "\n",
    "    print('단어 집합(vocabulary)의 크기 :', total_cnt)\n",
    "    print('등장 빈도가 %s번 이하인 희귀 단어의 수: %s'%(threshold - 1, rare_cnt))\n",
    "    print('단어 집합에서 희귀 단어를 제외시킬 경우의 단어 집합의 크기 %s'%(total_cnt - rare_cnt))\n",
    "    print(\"단어 집합에서 희귀 단어의 비율:\", (rare_cnt / total_cnt)*100)\n",
    "    print(\"전체 등장 빈도에서 희귀 단어 등장 빈도 비율:\", (rare_freq / total_freq)*100)\n",
    "\n",
    "# 인퍼런스 단계에서 단어 시퀀스를 완성하는 함수\n",
    "def decode_sequence(input_seq):\n",
    "    # 입력으로부터 인코더의 상태를 얻음\n",
    "    e_out, e_h, e_c = encoder_model.predict(input_seq)\n",
    "\n",
    "     # <SOS>에 해당하는 토큰 생성\n",
    "    target_seq = np.zeros((1,1))\n",
    "    target_seq[0, 0] = tar_word_to_index['sostoken']\n",
    "\n",
    "    stop_condition = False\n",
    "    decoded_sentence = ''\n",
    "    while not stop_condition: # stop_condition이 True가 될 때까지 루프 반복\n",
    "\n",
    "        output_tokens, h, c = decoder_model.predict([target_seq] + [e_out, e_h, e_c])\n",
    "        sampled_token_index = np.argmax(output_tokens[0, -1, :])\n",
    "        sampled_token = tar_index_to_word[sampled_token_index]\n",
    "\n",
    "        if (sampled_token!='eostoken'):\n",
    "            decoded_sentence += ' '+sampled_token\n",
    "\n",
    "        #  <eos>에 도달하거나 최대 길이를 넘으면 중단.\n",
    "        if (sampled_token == 'eostoken'  or len(decoded_sentence.split()) >= (headlines_max_len-1)):\n",
    "            stop_condition = True\n",
    "\n",
    "        # 길이가 1인 타겟 시퀀스를 업데이트\n",
    "        target_seq = np.zeros((1,1))\n",
    "        target_seq[0, 0] = sampled_token_index\n",
    "\n",
    "        # 상태를 업데이트 합니다.\n",
    "        e_h, e_c = h, c\n",
    "\n",
    "    return decoded_sentence\n",
    "\n",
    "# 원문의 정수 시퀀스를 텍스트 시퀀스로 변환\n",
    "def seq2text(input_seq):\n",
    "    temp=''\n",
    "    for i in input_seq:\n",
    "        if (i!=0):\n",
    "            temp = temp + src_index_to_word[i]+' '\n",
    "    return temp\n",
    "\n",
    "# 요약문의 정수 시퀀스를 텍스트 시퀀스로 변환\n",
    "def seq2headlines(input_seq):\n",
    "    temp=''\n",
    "    for i in input_seq:\n",
    "        if (i!=0 and i!=tar_word_to_index['sostoken'] and i!=tar_word_to_index['eostoken']):\n",
    "            temp = temp + tar_index_to_word[i]+' '\n",
    "    return temp\n",
    "\n"
   ]
  },
  {
   "cell_type": "markdown",
   "metadata": {
    "id": "OFRF3MBA18k4"
   },
   "source": [
    "## 데이터 수집\n"
   ]
  },
  {
   "cell_type": "code",
   "execution_count": 3,
   "metadata": {
    "colab": {
     "base_uri": "https://localhost:8080/",
     "height": 363
    },
    "executionInfo": {
     "elapsed": 482,
     "status": "ok",
     "timestamp": 1745215110365,
     "user": {
      "displayName": "K",
      "userId": "17697101113612252972"
     },
     "user_tz": -540
    },
    "id": "AdP9zqmC19fx",
    "outputId": "4a2d77a9-9542-4751-a891-4cb16a129ecf"
   },
   "outputs": [
    {
     "data": {
      "text/html": [
       "<div>\n",
       "<style scoped>\n",
       "    .dataframe tbody tr th:only-of-type {\n",
       "        vertical-align: middle;\n",
       "    }\n",
       "\n",
       "    .dataframe tbody tr th {\n",
       "        vertical-align: top;\n",
       "    }\n",
       "\n",
       "    .dataframe thead th {\n",
       "        text-align: right;\n",
       "    }\n",
       "</style>\n",
       "<table border=\"1\" class=\"dataframe\">\n",
       "  <thead>\n",
       "    <tr style=\"text-align: right;\">\n",
       "      <th></th>\n",
       "      <th>headlines</th>\n",
       "      <th>text</th>\n",
       "    </tr>\n",
       "  </thead>\n",
       "  <tbody>\n",
       "    <tr>\n",
       "      <th>52059</th>\n",
       "      <td>PM Modi has become a symbol of grand failure: ...</td>\n",
       "      <td>Speaking at a literature festival organised by...</td>\n",
       "    </tr>\n",
       "    <tr>\n",
       "      <th>40999</th>\n",
       "      <td>Goldman Sachs moves tribunal to recover Ã¢ÂÂ¹...</td>\n",
       "      <td>Goldman Sachs has approached the National Comp...</td>\n",
       "    </tr>\n",
       "    <tr>\n",
       "      <th>23032</th>\n",
       "      <td>Ishant Sharma fined 15% match fee for Malan se...</td>\n",
       "      <td>Indian fast bowler Ishant Sharma has been fine...</td>\n",
       "    </tr>\n",
       "    <tr>\n",
       "      <th>37613</th>\n",
       "      <td>India ensured Maldives lost UN Security Counci...</td>\n",
       "      <td>India did not vote in favour of the Maldives f...</td>\n",
       "    </tr>\n",
       "    <tr>\n",
       "      <th>24392</th>\n",
       "      <td>FB to open startup incubator in China despite ...</td>\n",
       "      <td>Facebook has obtained a licence to set up a st...</td>\n",
       "    </tr>\n",
       "    <tr>\n",
       "      <th>17790</th>\n",
       "      <td>Vicky Kaushal gets hand-written letter from Bi...</td>\n",
       "      <td>Actor Vicky Kaushal took to Twitter to share a...</td>\n",
       "    </tr>\n",
       "    <tr>\n",
       "      <th>66960</th>\n",
       "      <td>Akshay deletes tweet on manual scavengers afte...</td>\n",
       "      <td>Akshay Kumar deleted his tweet in which he cal...</td>\n",
       "    </tr>\n",
       "    <tr>\n",
       "      <th>65602</th>\n",
       "      <td>Aamir Khan fails to name Indian women's cricke...</td>\n",
       "      <td>Bollywood actor Aamir Khan failed to answer wh...</td>\n",
       "    </tr>\n",
       "    <tr>\n",
       "      <th>66944</th>\n",
       "      <td>Tax rebate scrapped for Mumbai houses followin...</td>\n",
       "      <td>The Brihanmumbai Municipal Corporation (BMC) h...</td>\n",
       "    </tr>\n",
       "    <tr>\n",
       "      <th>92012</th>\n",
       "      <td>I can be 50 times more brutal than terrorists:...</td>\n",
       "      <td>Philippines President Rodrigo Duterte has warn...</td>\n",
       "    </tr>\n",
       "  </tbody>\n",
       "</table>\n",
       "</div>"
      ],
      "text/plain": [
       "                                               headlines  \\\n",
       "52059  PM Modi has become a symbol of grand failure: ...   \n",
       "40999  Goldman Sachs moves tribunal to recover Ã¢ÂÂ¹...   \n",
       "23032  Ishant Sharma fined 15% match fee for Malan se...   \n",
       "37613  India ensured Maldives lost UN Security Counci...   \n",
       "24392  FB to open startup incubator in China despite ...   \n",
       "17790  Vicky Kaushal gets hand-written letter from Bi...   \n",
       "66960  Akshay deletes tweet on manual scavengers afte...   \n",
       "65602  Aamir Khan fails to name Indian women's cricke...   \n",
       "66944  Tax rebate scrapped for Mumbai houses followin...   \n",
       "92012  I can be 50 times more brutal than terrorists:...   \n",
       "\n",
       "                                                    text  \n",
       "52059  Speaking at a literature festival organised by...  \n",
       "40999  Goldman Sachs has approached the National Comp...  \n",
       "23032  Indian fast bowler Ishant Sharma has been fine...  \n",
       "37613  India did not vote in favour of the Maldives f...  \n",
       "24392  Facebook has obtained a licence to set up a st...  \n",
       "17790  Actor Vicky Kaushal took to Twitter to share a...  \n",
       "66960  Akshay Kumar deleted his tweet in which he cal...  \n",
       "65602  Bollywood actor Aamir Khan failed to answer wh...  \n",
       "66944  The Brihanmumbai Municipal Corporation (BMC) h...  \n",
       "92012  Philippines President Rodrigo Duterte has warn...  "
      ]
     },
     "execution_count": 3,
     "metadata": {},
     "output_type": "execute_result"
    }
   ],
   "source": [
    "# sample 파일 다운로드\n",
    "# import urllib.request\n",
    "# urllib.request.urlretrieve(\"https://raw.githubusercontent.com/sunnysai12345/News_Summary/master/news_summary_more.csv\", filename=\"news_summary_more.csv\")\n",
    "data = pd.read_csv('news_summary_more.csv', encoding='iso-8859-1')\n",
    "\n",
    "data.sample(10)"
   ]
  },
  {
   "cell_type": "markdown",
   "metadata": {
    "id": "cjOTb1hc2DDl"
   },
   "source": [
    "## 데이터 전처리 ( 추상적 요약 )"
   ]
  },
  {
   "cell_type": "code",
   "execution_count": 4,
   "metadata": {
    "colab": {
     "base_uri": "https://localhost:8080/",
     "height": 201
    },
    "executionInfo": {
     "elapsed": 382,
     "status": "ok",
     "timestamp": 1745215114826,
     "user": {
      "displayName": "K",
      "userId": "17697101113612252972"
     },
     "user_tz": -540
    },
    "id": "o_9qLJpt2FI6",
    "outputId": "5ab0c2be-9679-4eb2-95fe-526e34402fd5"
   },
   "outputs": [
    {
     "name": "stdout",
     "output_type": "stream",
     "text": [
      "전체 샘플수 : 98401\n",
      "headlines 열에서 중복을 배제한 유일한 샘플의 수 : 98280\n",
      "text 열에서 중복을 배제한 유일한 샘플의 수 : 98360\n"
     ]
    },
    {
     "data": {
      "text/plain": [
       "headlines    0\n",
       "text         0\n",
       "dtype: int64"
      ]
     },
     "execution_count": 4,
     "metadata": {},
     "output_type": "execute_result"
    }
   ],
   "source": [
    "# 중복 확인\n",
    "print('전체 샘플수 :', (len(data)))\n",
    "print('headlines 열에서 중복을 배제한 유일한 샘플의 수 :', data['headlines'].nunique())\n",
    "print('text 열에서 중복을 배제한 유일한 샘플의 수 :', data['text'].nunique())\n",
    "\n",
    "#결측치 확인\n",
    "data.isnull().sum()"
   ]
  },
  {
   "cell_type": "code",
   "execution_count": 5,
   "metadata": {
    "colab": {
     "base_uri": "https://localhost:8080/"
    },
    "executionInfo": {
     "elapsed": 44,
     "status": "ok",
     "timestamp": 1745215117954,
     "user": {
      "displayName": "K",
      "userId": "17697101113612252972"
     },
     "user_tz": -540
    },
    "id": "0FfDIBYP2F8g",
    "outputId": "e3ce7f8b-8854-49c2-b669-a5b853692ea1"
   },
   "outputs": [
    {
     "name": "stdout",
     "output_type": "stream",
     "text": [
      "전체 샘플수 : 98360\n"
     ]
    }
   ],
   "source": [
    "# 중복제거\n",
    "data.drop_duplicates(subset = ['text'], inplace=True)\n",
    "print('전체 샘플수 :', (len(data)))"
   ]
  },
  {
   "cell_type": "code",
   "execution_count": 6,
   "metadata": {
    "colab": {
     "base_uri": "https://localhost:8080/"
    },
    "executionInfo": {
     "elapsed": 95,
     "status": "ok",
     "timestamp": 1745215120396,
     "user": {
      "displayName": "K",
      "userId": "17697101113612252972"
     },
     "user_tz": -540
    },
    "id": "zg26Lani2HmA",
    "outputId": "79b29b81-5666-4d58-a50b-458c26d09272"
   },
   "outputs": [
    {
     "name": "stdout",
     "output_type": "stream",
     "text": [
      "headlines 열에서 중복을 배제한 유일한 샘플의 수 : 98262\n",
      "text 열에서 중복을 배제한 유일한 샘플의 수 : 98360\n"
     ]
    }
   ],
   "source": [
    "print('headlines 열에서 중복을 배제한 유일한 샘플의 수 :', data['headlines'].nunique())\n",
    "print('text 열에서 중복을 배제한 유일한 샘플의 수 :', data['text'].nunique())"
   ]
  },
  {
   "cell_type": "code",
   "execution_count": 7,
   "metadata": {
    "colab": {
     "base_uri": "https://localhost:8080/"
    },
    "executionInfo": {
     "elapsed": 35,
     "status": "ok",
     "timestamp": 1745215125879,
     "user": {
      "displayName": "K",
      "userId": "17697101113612252972"
     },
     "user_tz": -540
    },
    "id": "-SVgRz1c2I6o",
    "outputId": "642c956e-d259-4d75-f15f-a314cd02952f"
   },
   "outputs": [
    {
     "name": "stdout",
     "output_type": "stream",
     "text": [
      "정규화 사전의 수:  120\n"
     ]
    }
   ],
   "source": [
    "# 정규화 사전 준비\n",
    "contractions = {\"ain't\": \"is not\", \"aren't\": \"are not\",\"can't\": \"cannot\", \"'cause\": \"because\", \"could've\": \"could have\", \"couldn't\": \"could not\",\n",
    "                           \"didn't\": \"did not\",  \"doesn't\": \"does not\", \"don't\": \"do not\", \"hadn't\": \"had not\", \"hasn't\": \"has not\", \"haven't\": \"have not\",\n",
    "                           \"he'd\": \"he would\",\"he'll\": \"he will\", \"he's\": \"he is\", \"how'd\": \"how did\", \"how'd'y\": \"how do you\", \"how'll\": \"how will\", \"how's\": \"how is\",\n",
    "                           \"I'd\": \"I would\", \"I'd've\": \"I would have\", \"I'll\": \"I will\", \"I'll've\": \"I will have\",\"I'm\": \"I am\", \"I've\": \"I have\", \"i'd\": \"i would\",\n",
    "                           \"i'd've\": \"i would have\", \"i'll\": \"i will\",  \"i'll've\": \"i will have\",\"i'm\": \"i am\", \"i've\": \"i have\", \"isn't\": \"is not\", \"it'd\": \"it would\",\n",
    "                           \"it'd've\": \"it would have\", \"it'll\": \"it will\", \"it'll've\": \"it will have\",\"it's\": \"it is\", \"let's\": \"let us\", \"ma'am\": \"madam\",\n",
    "                           \"mayn't\": \"may not\", \"might've\": \"might have\",\"mightn't\": \"might not\",\"mightn't've\": \"might not have\", \"must've\": \"must have\",\n",
    "                           \"mustn't\": \"must not\", \"mustn't've\": \"must not have\", \"needn't\": \"need not\", \"needn't've\": \"need not have\",\"o'clock\": \"of the clock\",\n",
    "                           \"oughtn't\": \"ought not\", \"oughtn't've\": \"ought not have\", \"shan't\": \"shall not\", \"sha'n't\": \"shall not\", \"shan't've\": \"shall not have\",\n",
    "                           \"she'd\": \"she would\", \"she'd've\": \"she would have\", \"she'll\": \"she will\", \"she'll've\": \"she will have\", \"she's\": \"she is\",\n",
    "                           \"should've\": \"should have\", \"shouldn't\": \"should not\", \"shouldn't've\": \"should not have\", \"so've\": \"so have\",\"so's\": \"so as\",\n",
    "                           \"this's\": \"this is\",\"that'd\": \"that would\", \"that'd've\": \"that would have\", \"that's\": \"that is\", \"there'd\": \"there would\",\n",
    "                           \"there'd've\": \"there would have\", \"there's\": \"there is\", \"here's\": \"here is\",\"they'd\": \"they would\", \"they'd've\": \"they would have\",\n",
    "                           \"they'll\": \"they will\", \"they'll've\": \"they will have\", \"they're\": \"they are\", \"they've\": \"they have\", \"to've\": \"to have\",\n",
    "                           \"wasn't\": \"was not\", \"we'd\": \"we would\", \"we'd've\": \"we would have\", \"we'll\": \"we will\", \"we'll've\": \"we will have\", \"we're\": \"we are\",\n",
    "                           \"we've\": \"we have\", \"weren't\": \"were not\", \"what'll\": \"what will\", \"what'll've\": \"what will have\", \"what're\": \"what are\",\n",
    "                           \"what's\": \"what is\", \"what've\": \"what have\", \"when's\": \"when is\", \"when've\": \"when have\", \"where'd\": \"where did\", \"where's\": \"where is\",\n",
    "                           \"where've\": \"where have\", \"who'll\": \"who will\", \"who'll've\": \"who will have\", \"who's\": \"who is\", \"who've\": \"who have\",\n",
    "                           \"why's\": \"why is\", \"why've\": \"why have\", \"will've\": \"will have\", \"won't\": \"will not\", \"won't've\": \"will not have\",\n",
    "                           \"would've\": \"would have\", \"wouldn't\": \"would not\", \"wouldn't've\": \"would not have\", \"y'all\": \"you all\",\n",
    "                           \"y'all'd\": \"you all would\",\"y'all'd've\": \"you all would have\",\"y'all're\": \"you all are\",\"y'all've\": \"you all have\",\n",
    "                           \"you'd\": \"you would\", \"you'd've\": \"you would have\", \"you'll\": \"you will\", \"you'll've\": \"you will have\",\n",
    "                           \"you're\": \"you are\", \"you've\": \"you have\"}\n",
    "\n",
    "print(\"정규화 사전의 수: \", len(contractions))"
   ]
  },
  {
   "cell_type": "code",
   "execution_count": 8,
   "metadata": {
    "colab": {
     "base_uri": "https://localhost:8080/"
    },
    "executionInfo": {
     "elapsed": 32,
     "status": "ok",
     "timestamp": 1745215129232,
     "user": {
      "displayName": "K",
      "userId": "17697101113612252972"
     },
     "user_tz": -540
    },
    "id": "MKd81wBt2LX5",
    "outputId": "87bee640-b4dd-4d83-b718-0b646c0c38c3"
   },
   "outputs": [
    {
     "name": "stdout",
     "output_type": "stream",
     "text": [
      "불용어 개수 : 198\n",
      "['a', 'about', 'above', 'after', 'again', 'against', 'ain', 'all', 'am', 'an', 'and', 'any', 'are', 'aren', \"aren't\", 'as', 'at', 'be', 'because', 'been', 'before', 'being', 'below', 'between', 'both', 'but', 'by', 'can', 'couldn', \"couldn't\", 'd', 'did', 'didn', \"didn't\", 'do', 'does', 'doesn', \"doesn't\", 'doing', 'don', \"don't\", 'down', 'during', 'each', 'few', 'for', 'from', 'further', 'had', 'hadn', \"hadn't\", 'has', 'hasn', \"hasn't\", 'have', 'haven', \"haven't\", 'having', 'he', \"he'd\", \"he'll\", 'her', 'here', 'hers', 'herself', \"he's\", 'him', 'himself', 'his', 'how', 'i', \"i'd\", 'if', \"i'll\", \"i'm\", 'in', 'into', 'is', 'isn', \"isn't\", 'it', \"it'd\", \"it'll\", \"it's\", 'its', 'itself', \"i've\", 'just', 'll', 'm', 'ma', 'me', 'mightn', \"mightn't\", 'more', 'most', 'mustn', \"mustn't\", 'my', 'myself', 'needn', \"needn't\", 'no', 'nor', 'not', 'now', 'o', 'of', 'off', 'on', 'once', 'only', 'or', 'other', 'our', 'ours', 'ourselves', 'out', 'over', 'own', 're', 's', 'same', 'shan', \"shan't\", 'she', \"she'd\", \"she'll\", \"she's\", 'should', 'shouldn', \"shouldn't\", \"should've\", 'so', 'some', 'such', 't', 'than', 'that', \"that'll\", 'the', 'their', 'theirs', 'them', 'themselves', 'then', 'there', 'these', 'they', \"they'd\", \"they'll\", \"they're\", \"they've\", 'this', 'those', 'through', 'to', 'too', 'under', 'until', 'up', 've', 'very', 'was', 'wasn', \"wasn't\", 'we', \"we'd\", \"we'll\", \"we're\", 'were', 'weren', \"weren't\", \"we've\", 'what', 'when', 'where', 'which', 'while', 'who', 'whom', 'why', 'will', 'with', 'won', \"won't\", 'wouldn', \"wouldn't\", 'y', 'you', \"you'd\", \"you'll\", 'your', \"you're\", 'yours', 'yourself', 'yourselves', \"you've\"]\n"
     ]
    }
   ],
   "source": [
    "print('불용어 개수 :', len(stopwords.words('english') ))\n",
    "print(stopwords.words('english'))"
   ]
  },
  {
   "cell_type": "code",
   "execution_count": 9,
   "metadata": {
    "colab": {
     "base_uri": "https://localhost:8080/",
     "height": 147
    },
    "executionInfo": {
     "elapsed": 454659,
     "status": "ok",
     "timestamp": 1745215586300,
     "user": {
      "displayName": "K",
      "userId": "17697101113612252972"
     },
     "user_tz": -540
    },
    "id": "06SQ_Gb72NDa",
    "outputId": "ecf3dc4c-9503-4ac7-be56-4c0f1cb6a5b7"
   },
   "outputs": [
    {
     "data": {
      "text/plain": [
       "headlines    0\n",
       "text         0\n",
       "dtype: int64"
      ]
     },
     "execution_count": 9,
     "metadata": {},
     "output_type": "execute_result"
    }
   ],
   "source": [
    "# 전처리 함수 적용\n",
    "data['headlines'] = [preprocess_sentence(sentence, remove_stopwords=False) for sentence in data['headlines']]\n",
    "data['text'] = [preprocess_sentence(sentence) for sentence in data['text']]\n",
    "\n",
    "# 빈 값을 Null 값으로 변환\n",
    "data.replace('', np.nan, inplace=True)\n",
    "\n",
    "data.isnull().sum()\n",
    "\n",
    "#data.dropna(axis=0, inplace=True)\n",
    "#print('전체 샘플수 :', (len(data)))"
   ]
  },
  {
   "cell_type": "code",
   "execution_count": 10,
   "metadata": {
    "colab": {
     "base_uri": "https://localhost:8080/",
     "height": 1000
    },
    "executionInfo": {
     "elapsed": 2009,
     "status": "ok",
     "timestamp": 1745215588297,
     "user": {
      "displayName": "K",
      "userId": "17697101113612252972"
     },
     "user_tz": -540
    },
    "id": "DujDXiat2Ozt",
    "outputId": "593d3ec9-eda5-4cb4-e7bb-f0c6053bb137"
   },
   "outputs": [
    {
     "name": "stdout",
     "output_type": "stream",
     "text": [
      "텍스트의 최소 길이 : 1\n",
      "텍스트의 최대 길이 : 60\n",
      "텍스트의 평균 길이 : 35.09968483123221\n",
      "요약의 최소 길이 : 1\n",
      "요약의 최대 길이 : 16\n",
      "요약의 평균 길이 : 9.299532330215534\n"
     ]
    },
    {
     "data": {
      "image/png": "[encoded data removed]",
      "text/plain": [
       "<Figure size 432x288 with 2 Axes>"
      ]
     },
     "metadata": {
      "needs_background": "light"
     },
     "output_type": "display_data"
    },
    {
     "data": {
      "image/png": "[encoded data removed]",
      "text/plain": [
       "<Figure size 432x288 with 1 Axes>"
      ]
     },
     "metadata": {
      "needs_background": "light"
     },
     "output_type": "display_data"
    },
    {
     "data": {
      "image/png": "[encoded data removed]",
      "text/plain": [
       "<Figure size 432x288 with 1 Axes>"
      ]
     },
     "metadata": {
      "needs_background": "light"
     },
     "output_type": "display_data"
    }
   ],
   "source": [
    "# 문장 길이 시각화 확인\n",
    "text_len = [len(s.split()) for s in data['text']]\n",
    "headlines_len = [len(s.split()) for s in data['headlines']]\n",
    "\n",
    "print('텍스트의 최소 길이 : {}'.format(np.min(text_len)))\n",
    "print('텍스트의 최대 길이 : {}'.format(np.max(text_len)))\n",
    "print('텍스트의 평균 길이 : {}'.format(np.mean(text_len)))\n",
    "print('요약의 최소 길이 : {}'.format(np.min(headlines_len)))\n",
    "print('요약의 최대 길이 : {}'.format(np.max(headlines_len)))\n",
    "print('요약의 평균 길이 : {}'.format(np.mean(headlines_len)))\n",
    "\n",
    "plt.subplot(1,2,1)\n",
    "plt.boxplot(text_len)\n",
    "plt.title('text')\n",
    "plt.subplot(1,2,2)\n",
    "plt.boxplot(headlines_len)\n",
    "plt.title('headlines')\n",
    "plt.tight_layout()\n",
    "plt.show()\n",
    "\n",
    "plt.title('text')\n",
    "plt.hist(text_len, bins = 40)\n",
    "plt.xlabel('length of samples')\n",
    "plt.ylabel('number of samples')\n",
    "plt.show()\n",
    "\n",
    "plt.title('headlines')\n",
    "plt.hist(headlines_len, bins = 40)\n",
    "plt.xlabel('length of samples')\n",
    "plt.ylabel('number of samples')\n",
    "plt.show()"
   ]
  },
  {
   "cell_type": "code",
   "execution_count": 11,
   "metadata": {
    "colab": {
     "base_uri": "https://localhost:8080/"
    },
    "executionInfo": {
     "elapsed": 253,
     "status": "ok",
     "timestamp": 1745215658358,
     "user": {
      "displayName": "K",
      "userId": "17697101113612252972"
     },
     "user_tz": -540
    },
    "id": "LZzWmrEF2SZc",
    "outputId": "29945856-47b8-42eb-84dc-7e4c55c9eec8"
   },
   "outputs": [
    {
     "name": "stdout",
     "output_type": "stream",
     "text": [
      "전체 샘플 중 길이가 43 이하인 샘플의 비율: 0.9871797478649857\n",
      "전체 샘플 중 길이가 12 이하인 샘플의 비율: 0.9880337535583571\n"
     ]
    }
   ],
   "source": [
    "# 최대 길이\n",
    "\n",
    "text_max_len = 43\n",
    "headlines_max_len = 12\n",
    "\n",
    "below_threshold_len(text_max_len, data['text'])\n",
    "below_threshold_len(headlines_max_len,  data['headlines'])"
   ]
  },
  {
   "cell_type": "code",
   "execution_count": 12,
   "metadata": {
    "colab": {
     "base_uri": "https://localhost:8080/"
    },
    "executionInfo": {
     "elapsed": 1169,
     "status": "ok",
     "timestamp": 1745215662960,
     "user": {
      "displayName": "K",
      "userId": "17697101113612252972"
     },
     "user_tz": -540
    },
    "id": "eC36L2mG2xif",
    "outputId": "7def0ab7-4a7c-44fe-dc9b-86c394b29955"
   },
   "outputs": [
    {
     "name": "stdout",
     "output_type": "stream",
     "text": [
      "전체 샘플수 : 95935\n"
     ]
    }
   ],
   "source": [
    "data = data[(data['text'].str.split().str.len() <= text_max_len) &\n",
    "            (data['headlines'].str.split().str.len() <= headlines_max_len)]\n",
    "\n",
    "print('전체 샘플수 :', (len(data)))"
   ]
  },
  {
   "cell_type": "code",
   "execution_count": 13,
   "metadata": {
    "executionInfo": {
     "elapsed": 30,
     "status": "ok",
     "timestamp": 1745215667179,
     "user": {
      "displayName": "K",
      "userId": "17697101113612252972"
     },
     "user_tz": -540
    },
    "id": "EU1qohva2zvV"
   },
   "outputs": [],
   "source": [
    "# 요약 데이터에는 시작 토큰과 종료 토큰을 추가한다.\n",
    "data['decoder_input'] = data['headlines'].apply(lambda x : 'sostoken '+ x)\n",
    "data['decoder_target'] = data['headlines'].apply(lambda x : x + ' eostoken')\n",
    "data.head()\n",
    "\n",
    "# numppy 타입 저장\n",
    "encoder_input = np.array(data['text']) # 인코더의 입력\n",
    "decoder_input = np.array(data['decoder_input']) # 디코더의 입력\n",
    "decoder_target = np.array(data['decoder_target']) # 디코더의 레이블"
   ]
  },
  {
   "cell_type": "code",
   "execution_count": 14,
   "metadata": {
    "colab": {
     "base_uri": "https://localhost:8080/"
    },
    "executionInfo": {
     "elapsed": 42,
     "status": "ok",
     "timestamp": 1745215677538,
     "user": {
      "displayName": "K",
      "userId": "17697101113612252972"
     },
     "user_tz": -540
    },
    "id": "JcRLfqIT25us",
    "outputId": "cc2bab1f-1a1b-4503-e21f-c09105a3f4f3"
   },
   "outputs": [
    {
     "name": "stdout",
     "output_type": "stream",
     "text": [
      "훈련 데이터의 개수 : 76748\n",
      "훈련 레이블의 개수 : 76748\n",
      "테스트 데이터의 개수 : 19187\n",
      "테스트 레이블의 개수 : 19187\n"
     ]
    }
   ],
   "source": [
    "#데이터 랜덤 셔플\n",
    "indices = np.arange(encoder_input.shape[0])\n",
    "np.random.shuffle(indices)\n",
    "encoder_input = encoder_input[indices]\n",
    "decoder_input = decoder_input[indices]\n",
    "decoder_target = decoder_target[indices]\n",
    "\n",
    "\n",
    "#데이터 비율 8:2 훈련 테스트 데이터 나누기\n",
    "n_of_val = int(len(encoder_input)*0.2)\n",
    "encoder_input_train = encoder_input[:-n_of_val]\n",
    "decoder_input_train = decoder_input[:-n_of_val]\n",
    "decoder_target_train = decoder_target[:-n_of_val]\n",
    "\n",
    "encoder_input_test = encoder_input[-n_of_val:]\n",
    "decoder_input_test = decoder_input[-n_of_val:]\n",
    "decoder_target_test = decoder_target[-n_of_val:]\n",
    "\n",
    "print('훈련 데이터의 개수 :', len(encoder_input_train))\n",
    "print('훈련 레이블의 개수 :', len(decoder_input_train))\n",
    "print('테스트 데이터의 개수 :', len(encoder_input_test))\n",
    "print('테스트 레이블의 개수 :', len(decoder_input_test))\n"
   ]
  },
  {
   "cell_type": "code",
   "execution_count": 15,
   "metadata": {
    "colab": {
     "base_uri": "https://localhost:8080/"
    },
    "executionInfo": {
     "elapsed": 2032,
     "status": "ok",
     "timestamp": 1745215683984,
     "user": {
      "displayName": "K",
      "userId": "17697101113612252972"
     },
     "user_tz": -540
    },
    "id": "gR-FF94b27f2",
    "outputId": "b4ebd3a8-8540-4d79-c046-d8b729676779"
   },
   "outputs": [
    {
     "name": "stdout",
     "output_type": "stream",
     "text": [
      "단어 집합(vocabulary)의 크기 : 68509\n",
      "등장 빈도가 6번 이하인 희귀 단어의 수: 46638\n",
      "단어 집합에서 희귀 단어를 제외시킬 경우의 단어 집합의 크기 21871\n",
      "단어 집합에서 희귀 단어의 비율: 68.07572727670816\n",
      "전체 등장 빈도에서 희귀 단어 등장 빈도 비율: 3.525585266153003\n"
     ]
    }
   ],
   "source": [
    "# 인코더 데이터 토크나이징\n",
    "src_tokenizer = Tokenizer() # 토크나이저 정의\n",
    "src_tokenizer.fit_on_texts(encoder_input_train) # 입력된 데이터로부터 단어 집합 생성\n",
    "# 단어 빈도 확인\n",
    "check_words_threshold(src_tokenizer,7)"
   ]
  },
  {
   "cell_type": "code",
   "execution_count": 16,
   "metadata": {
    "colab": {
     "base_uri": "https://localhost:8080/"
    },
    "executionInfo": {
     "elapsed": 3986,
     "status": "ok",
     "timestamp": 1745215700794,
     "user": {
      "displayName": "K",
      "userId": "17697101113612252972"
     },
     "user_tz": -540
    },
    "id": "NVZfrbjh29YF",
    "outputId": "c4e959cf-7a30-41ae-e8d1-3a3c74debf0c"
   },
   "outputs": [
    {
     "name": "stdout",
     "output_type": "stream",
     "text": [
      "[[63, 1953, 62, 6964, 245, 88, 52, 223, 258, 7340, 9, 385, 73, 505, 258, 7340, 84, 139, 74, 230, 63, 2307, 3724, 467, 267, 229, 11971, 505, 691, 258, 7340], [309, 3357, 11086, 2323, 7341, 260, 2525, 19191, 9479, 1419, 392, 4135, 7341, 6025, 7050, 1151, 2578, 4135, 8410, 2579, 7050, 4135, 5482, 69, 616, 1141, 31, 19192, 574, 7341, 2456, 7050, 479], [11348, 1508, 1480, 412, 886, 75, 2377, 3430, 597, 6347, 1211, 1608, 22, 458, 18110, 343, 1508, 3795, 303, 322, 1312, 303, 14564, 1798, 8272, 2355, 120, 762, 1819, 2580, 27, 303, 101, 418]]\n"
     ]
    }
   ],
   "source": [
    "# 인코더 vocab 크기 제한\n",
    "src_vocab = 20000\n",
    "src_tokenizer = Tokenizer(num_words=src_vocab) # 단어 집합의 크기를 20,000으로 제한\n",
    "src_tokenizer.fit_on_texts(encoder_input_train) # 단어 집합 재생성\n",
    "\n",
    "# 텍스트 시퀀스를 정수 시퀀스로 변환\n",
    "encoder_input_train = src_tokenizer.texts_to_sequences(encoder_input_train)\n",
    "encoder_input_test = src_tokenizer.texts_to_sequences(encoder_input_test)\n",
    "\n",
    "# 잘 진행되었는지 샘플 출력\n",
    "print(encoder_input_train[:3])"
   ]
  },
  {
   "cell_type": "code",
   "execution_count": 17,
   "metadata": {
    "colab": {
     "base_uri": "https://localhost:8080/"
    },
    "executionInfo": {
     "elapsed": 712,
     "status": "ok",
     "timestamp": 1745215705990,
     "user": {
      "displayName": "K",
      "userId": "17697101113612252972"
     },
     "user_tz": -540
    },
    "id": "2BypkeBL2_Te",
    "outputId": "9f711edc-c59e-4a28-9a5c-0088dc448ed0"
   },
   "outputs": [
    {
     "name": "stdout",
     "output_type": "stream",
     "text": [
      "단어 집합(vocabulary)의 크기 : 29672\n",
      "등장 빈도가 5번 이하인 희귀 단어의 수: 19409\n",
      "단어 집합에서 희귀 단어를 제외시킬 경우의 단어 집합의 크기 10263\n",
      "단어 집합에서 희귀 단어의 비율: 65.41183607441359\n",
      "전체 등장 빈도에서 희귀 단어 등장 빈도 비율: 4.75107944402911\n"
     ]
    }
   ],
   "source": [
    "# 디코더 데이터 토크나이징\n",
    "tar_tokenizer = Tokenizer()\n",
    "tar_tokenizer.fit_on_texts(decoder_input_train)\n",
    "# 단어 빈도 확인\n",
    "check_words_threshold(tar_tokenizer,6)\n"
   ]
  },
  {
   "cell_type": "code",
   "execution_count": 18,
   "metadata": {
    "colab": {
     "base_uri": "https://localhost:8080/"
    },
    "executionInfo": {
     "elapsed": 3656,
     "status": "ok",
     "timestamp": 1745215720590,
     "user": {
      "displayName": "K",
      "userId": "17697101113612252972"
     },
     "user_tz": -540
    },
    "id": "-5Ge1CPR3A_m",
    "outputId": "581e8872-56d2-48ea-f738-f538cadbe27a"
   },
   "outputs": [
    {
     "name": "stdout",
     "output_type": "stream",
     "text": [
      "input\n",
      "input  [[1, 35, 179, 10, 106, 171, 16, 361, 4775, 4, 3825], [1, 6402, 930, 598, 4612, 525, 10, 3261, 69, 4462], [1, 531, 1220, 3, 157, 1993, 1150, 3, 3532, 322, 62], [1, 266, 7, 532, 1084, 380, 5341, 127, 678, 130], [1, 39, 26, 3113, 427, 3826, 10, 1632, 3442]]\n",
      "target\n",
      "decoder  [[35, 179, 10, 106, 171, 16, 361, 4775, 4, 3825, 2], [6402, 930, 598, 4612, 525, 10, 3261, 69, 4462, 2], [531, 1220, 3, 157, 1993, 1150, 3, 3532, 322, 62, 2], [266, 7, 532, 1084, 380, 5341, 127, 678, 130, 2], [39, 26, 3113, 427, 3826, 10, 1632, 3442, 2]]\n"
     ]
    }
   ],
   "source": [
    "# 디코더 vocab 크기 제한\n",
    "tar_vocab = 10000\n",
    "tar_tokenizer = Tokenizer(num_words=tar_vocab)\n",
    "tar_tokenizer.fit_on_texts(decoder_input_train)\n",
    "tar_tokenizer.fit_on_texts(decoder_target_train)\n",
    "\n",
    "# 텍스트 시퀀스를 정수 시퀀스로 변환\n",
    "decoder_input_train = tar_tokenizer.texts_to_sequences(decoder_input_train)\n",
    "decoder_target_train = tar_tokenizer.texts_to_sequences(decoder_target_train)\n",
    "decoder_input_test = tar_tokenizer.texts_to_sequences(decoder_input_test)\n",
    "decoder_target_test = tar_tokenizer.texts_to_sequences(decoder_target_test)\n",
    "\n",
    "# 잘 변환되었는지 확인\n",
    "print('input')\n",
    "print('input ',decoder_input_train[:5])\n",
    "print('target')\n",
    "print('decoder ',decoder_target_train[:5])\n"
   ]
  },
  {
   "cell_type": "code",
   "execution_count": 19,
   "metadata": {
    "colab": {
     "base_uri": "https://localhost:8080/"
    },
    "executionInfo": {
     "elapsed": 93,
     "status": "ok",
     "timestamp": 1745214666357,
     "user": {
      "displayName": "K",
      "userId": "17697101113612252972"
     },
     "user_tz": -540
    },
    "id": "hgDrcjbW3Cyd",
    "outputId": "9cae744e-3379-439b-ee00-e4438ad67d35"
   },
   "outputs": [
    {
     "name": "stdout",
     "output_type": "stream",
     "text": [
      "삭제할 훈련 데이터의 개수 : 1\n",
      "삭제할 테스트 데이터의 개수 : 0\n",
      "훈련 데이터의 개수 : 76747\n",
      "훈련 레이블의 개수 : 76747\n",
      "테스트 데이터의 개수 : 19187\n",
      "테스트 레이블의 개수 : 19187\n"
     ]
    }
   ],
   "source": [
    "# SOS, EOS 만 남은 데이터 제거\n",
    "drop_train = [index for index, sentence in enumerate(decoder_input_train) if len(sentence) == 1]\n",
    "drop_test = [index for index, sentence in enumerate(decoder_input_test) if len(sentence) == 1]\n",
    "\n",
    "print('삭제할 훈련 데이터의 개수 :', len(drop_train))\n",
    "print('삭제할 테스트 데이터의 개수 :', len(drop_test))\n",
    "\n",
    "encoder_input_train = [sentence for index, sentence in enumerate(encoder_input_train) if index not in drop_train]\n",
    "decoder_input_train = [sentence for index, sentence in enumerate(decoder_input_train) if index not in drop_train]\n",
    "decoder_target_train = [sentence for index, sentence in enumerate(decoder_target_train) if index not in drop_train]\n",
    "\n",
    "encoder_input_test = [sentence for index, sentence in enumerate(encoder_input_test) if index not in drop_test]\n",
    "decoder_input_test = [sentence for index, sentence in enumerate(decoder_input_test) if index not in drop_test]\n",
    "decoder_target_test = [sentence for index, sentence in enumerate(decoder_target_test) if index not in drop_test]\n",
    "\n",
    "print('훈련 데이터의 개수 :', len(encoder_input_train))\n",
    "print('훈련 레이블의 개수 :', len(decoder_input_train))\n",
    "print('테스트 데이터의 개수 :', len(encoder_input_test))\n",
    "print('테스트 레이블의 개수 :', len(decoder_input_test))"
   ]
  },
  {
   "cell_type": "code",
   "execution_count": 20,
   "metadata": {
    "executionInfo": {
     "elapsed": 669,
     "status": "ok",
     "timestamp": 1745216031953,
     "user": {
      "displayName": "K",
      "userId": "17697101113612252972"
     },
     "user_tz": -540
    },
    "id": "4njokZaG3Eu0"
   },
   "outputs": [],
   "source": [
    "# 패딩\n",
    "encoder_input_train = pad_sequences(encoder_input_train, maxlen=text_max_len, padding='post')\n",
    "encoder_input_test = pad_sequences(encoder_input_test, maxlen=text_max_len, padding='post')\n",
    "decoder_input_train = pad_sequences(decoder_input_train, maxlen=headlines_max_len, padding='post')\n",
    "decoder_target_train = pad_sequences(decoder_target_train, maxlen=headlines_max_len, padding='post')\n",
    "decoder_input_test = pad_sequences(decoder_input_test, maxlen=headlines_max_len, padding='post')\n",
    "decoder_target_test = pad_sequences(decoder_target_test, maxlen=headlines_max_len, padding='post')"
   ]
  },
  {
   "cell_type": "markdown",
   "metadata": {
    "id": "jpxQgn0T3HTV"
   },
   "source": [
    "## 모델 설계( 추상적 요약 )\n",
    "### 인코더"
   ]
  },
  {
   "cell_type": "code",
   "execution_count": 21,
   "metadata": {
    "executionInfo": {
     "elapsed": 1024,
     "status": "ok",
     "timestamp": 1745216037054,
     "user": {
      "displayName": "K",
      "userId": "17697101113612252972"
     },
     "user_tz": -540
    },
    "id": "MLApX92p3LIv"
   },
   "outputs": [],
   "source": [
    "# 인코더 설계 시작\n",
    "embedding_dim = 128\n",
    "hidden_size = 256\n",
    "\n",
    "# 인코더\n",
    "encoder_inputs = Input(shape=(text_max_len,))\n",
    "\n",
    "# 인코더의 임베딩 층\n",
    "enc_emb = Embedding(src_vocab, embedding_dim)(encoder_inputs)\n",
    "\n",
    "# 인코더의 LSTM 1\n",
    "# encoder_lstm1 = LSTM(hidden_size, return_sequences=True, return_state=True ,dropout = 0.4, recurrent_dropout = 0.4)\n",
    "encoder_lstm1 = LSTM(hidden_size, return_sequences=True, return_state=True ,dropout = 0.4)\n",
    "encoder_output1, state_h1, state_c1 = encoder_lstm1(enc_emb)\n",
    "\n",
    "# 인코더의 LSTM 2\n",
    "encoder_lstm2 = LSTM(hidden_size, return_sequences=True, return_state=True ,dropout = 0.4)\n",
    "encoder_output2, state_h2, state_c2 = encoder_lstm2(encoder_output1)\n",
    "\n",
    "# 인코더의 LSTM 3\n",
    "encoder_lstm3 = LSTM(hidden_size, return_sequences=True, return_state=True ,dropout = 0.4)\n",
    "encoder_outputs, state_h, state_c = encoder_lstm3(encoder_output2)"
   ]
  },
  {
   "cell_type": "markdown",
   "metadata": {
    "id": "SPvOf29I3NCB"
   },
   "source": [
    "### 디코더 ( 어텐션 매커니즘 적용 )"
   ]
  },
  {
   "cell_type": "code",
   "execution_count": 22,
   "metadata": {
    "colab": {
     "base_uri": "https://localhost:8080/",
     "height": 737
    },
    "executionInfo": {
     "elapsed": 166,
     "status": "ok",
     "timestamp": 1745216039773,
     "user": {
      "displayName": "K",
      "userId": "17697101113612252972"
     },
     "user_tz": -540
    },
    "id": "kuZr6rT93T_w",
    "outputId": "5b13cdba-6250-47e0-9204-a21c03b5a1e4"
   },
   "outputs": [
    {
     "name": "stdout",
     "output_type": "stream",
     "text": [
      "Model: \"model\"\n",
      "__________________________________________________________________________________________________\n",
      "Layer (type)                    Output Shape         Param #     Connected to                     \n",
      "==================================================================================================\n",
      "input_1 (InputLayer)            [(None, 43)]         0                                            \n",
      "__________________________________________________________________________________________________\n",
      "embedding (Embedding)           (None, 43, 128)      2560000     input_1[0][0]                    \n",
      "__________________________________________________________________________________________________\n",
      "lstm (LSTM)                     [(None, 43, 256), (N 394240      embedding[0][0]                  \n",
      "__________________________________________________________________________________________________\n",
      "input_2 (InputLayer)            [(None, None)]       0                                            \n",
      "__________________________________________________________________________________________________\n",
      "lstm_1 (LSTM)                   [(None, 43, 256), (N 525312      lstm[0][0]                       \n",
      "__________________________________________________________________________________________________\n",
      "embedding_1 (Embedding)         (None, None, 128)    1280000     input_2[0][0]                    \n",
      "__________________________________________________________________________________________________\n",
      "lstm_2 (LSTM)                   [(None, 43, 256), (N 525312      lstm_1[0][0]                     \n",
      "__________________________________________________________________________________________________\n",
      "lstm_3 (LSTM)                   [(None, None, 256),  394240      embedding_1[0][0]                \n",
      "                                                                 lstm_2[0][1]                     \n",
      "                                                                 lstm_2[0][2]                     \n",
      "__________________________________________________________________________________________________\n",
      "attention_layer (AdditiveAttent (None, None, 256)    256         lstm_3[0][0]                     \n",
      "                                                                 lstm_2[0][0]                     \n",
      "__________________________________________________________________________________________________\n",
      "concat_layer (Concatenate)      (None, None, 512)    0           lstm_3[0][0]                     \n",
      "                                                                 attention_layer[0][0]            \n",
      "__________________________________________________________________________________________________\n",
      "dense (Dense)                   (None, None, 10000)  5130000     concat_layer[0][0]               \n",
      "==================================================================================================\n",
      "Total params: 10,809,360\n",
      "Trainable params: 10,809,360\n",
      "Non-trainable params: 0\n",
      "__________________________________________________________________________________________________\n"
     ]
    }
   ],
   "source": [
    "# 디코더 설계\n",
    "decoder_inputs = Input(shape=(None,))\n",
    "\n",
    "# 디코더의 임베딩 층\n",
    "dec_emb_layer = Embedding(tar_vocab, embedding_dim)\n",
    "dec_emb = dec_emb_layer(decoder_inputs)\n",
    "\n",
    "# 디코더의 LSTM\n",
    "# decoder_lstm = LSTM(hidden_size, return_sequences=True, return_state=True, dropout=0.4, recurrent_dropout=0.2)\n",
    "decoder_lstm = LSTM(hidden_size, return_sequences=True, return_state=True, dropout=0.4)\n",
    "decoder_outputs, _, _ = decoder_lstm(dec_emb, initial_state=[state_h, state_c])\n",
    "\n",
    "\n",
    "# 어텐션 층(어텐션 함수)\n",
    "attn_layer = AdditiveAttention(name='attention_layer')\n",
    "\n",
    "# 인코더와 디코더의 모든 time step의 hidden state를 어텐션 층에 전달하고 결과를 리턴\n",
    "attn_out = attn_layer([decoder_outputs, encoder_outputs])\n",
    "\n",
    "\n",
    "# 어텐션의 결과와 디코더의 hidden state들을 연결\n",
    "decoder_concat_input = Concatenate(axis=-1, name='concat_layer')([decoder_outputs, attn_out])\n",
    "\n",
    "# 디코더의 출력층\n",
    "decoder_softmax_layer = Dense(tar_vocab, activation='softmax')\n",
    "decoder_softmax_outputs = decoder_softmax_layer(decoder_concat_input)\n",
    "\n",
    "# 모델 정의\n",
    "model = Model([encoder_inputs, decoder_inputs], decoder_softmax_outputs)\n",
    "model.summary()"
   ]
  },
  {
   "cell_type": "markdown",
   "metadata": {
    "id": "szFDjKob3Wuq"
   },
   "source": [
    "## 모델 훈련( 추상적 요약 )"
   ]
  },
  {
   "cell_type": "code",
   "execution_count": 23,
   "metadata": {
    "colab": {
     "base_uri": "https://localhost:8080/"
    },
    "id": "2Rn4rgu_3YZb",
    "outputId": "c8731a9f-05f5-440b-e020-4157be6c6cc6"
   },
   "outputs": [
    {
     "name": "stdout",
     "output_type": "stream",
     "text": [
      "Epoch 1/50\n",
      "300/300 [==============================] - 84s 99ms/step - loss: 5.6225 - val_loss: 5.2134\n",
      "Epoch 2/50\n",
      "300/300 [==============================] - 30s 101ms/step - loss: 5.0445 - val_loss: 4.8243\n",
      "Epoch 3/50\n",
      "300/300 [==============================] - 33s 110ms/step - loss: 4.6949 - val_loss: 4.5659\n",
      "Epoch 4/50\n",
      "300/300 [==============================] - 32s 107ms/step - loss: 4.4264 - val_loss: 4.3749\n",
      "Epoch 5/50\n",
      "300/300 [==============================] - 32s 107ms/step - loss: 4.2272 - val_loss: 4.2408\n",
      "Epoch 6/50\n",
      "300/300 [==============================] - 33s 108ms/step - loss: 4.0641 - val_loss: 4.1418\n",
      "Epoch 7/50\n",
      "300/300 [==============================] - 32s 107ms/step - loss: 3.9219 - val_loss: 4.0545\n",
      "Epoch 8/50\n",
      "300/300 [==============================] - 32s 108ms/step - loss: 3.7965 - val_loss: 3.9825\n",
      "Epoch 9/50\n",
      "300/300 [==============================] - 33s 108ms/step - loss: 3.6829 - val_loss: 3.9264\n",
      "Epoch 10/50\n",
      "300/300 [==============================] - 32s 108ms/step - loss: 3.5821 - val_loss: 3.8824\n",
      "Epoch 11/50\n",
      "300/300 [==============================] - 32s 108ms/step - loss: 3.4918 - val_loss: 3.8419\n",
      "Epoch 12/50\n",
      "300/300 [==============================] - 32s 108ms/step - loss: 3.4095 - val_loss: 3.8145\n",
      "Epoch 13/50\n",
      "300/300 [==============================] - 32s 108ms/step - loss: 3.3327 - val_loss: 3.7814\n",
      "Epoch 14/50\n",
      "300/300 [==============================] - 32s 108ms/step - loss: 3.2634 - val_loss: 3.7640\n",
      "Epoch 15/50\n",
      "300/300 [==============================] - 32s 108ms/step - loss: 3.1984 - val_loss: 3.7462\n",
      "Epoch 16/50\n",
      "300/300 [==============================] - 33s 108ms/step - loss: 3.1394 - val_loss: 3.7300\n",
      "Epoch 17/50\n",
      "300/300 [==============================] - 32s 108ms/step - loss: 3.0829 - val_loss: 3.7171\n",
      "Epoch 18/50\n",
      "300/300 [==============================] - 32s 108ms/step - loss: 3.0301 - val_loss: 3.7057\n",
      "Epoch 19/50\n",
      "300/300 [==============================] - 32s 108ms/step - loss: 2.9800 - val_loss: 3.6985\n",
      "Epoch 20/50\n",
      "300/300 [==============================] - 32s 108ms/step - loss: 2.9339 - val_loss: 3.6938\n",
      "Epoch 21/50\n",
      "300/300 [==============================] - 33s 108ms/step - loss: 2.8911 - val_loss: 3.6895\n",
      "Epoch 22/50\n",
      "300/300 [==============================] - 32s 108ms/step - loss: 2.8501 - val_loss: 3.6874\n",
      "Epoch 23/50\n",
      "300/300 [==============================] - 32s 108ms/step - loss: 2.8093 - val_loss: 3.6848\n",
      "Epoch 24/50\n",
      "300/300 [==============================] - 32s 108ms/step - loss: 2.7737 - val_loss: 3.6757\n",
      "Epoch 25/50\n",
      "300/300 [==============================] - 33s 108ms/step - loss: 2.7377 - val_loss: 3.6769\n",
      "Epoch 26/50\n",
      "300/300 [==============================] - 32s 108ms/step - loss: 2.7013 - val_loss: 3.6747\n",
      "Epoch 27/50\n",
      "300/300 [==============================] - 32s 108ms/step - loss: 2.6712 - val_loss: 3.6753\n",
      "Epoch 28/50\n",
      "300/300 [==============================] - 32s 108ms/step - loss: 2.6410 - val_loss: 3.6757\n",
      "Epoch 00028: early stopping\n"
     ]
    }
   ],
   "source": [
    "model.compile(optimizer='rmsprop', loss='sparse_categorical_crossentropy')\n",
    "es = EarlyStopping(monitor='val_loss', patience=2, verbose=1)\n",
    "history = model.fit(x=[encoder_input_train, decoder_input_train], y=decoder_target_train, \\\n",
    "          validation_data=([encoder_input_test, decoder_input_test], decoder_target_test), \\\n",
    "          batch_size=256, callbacks=[es], epochs=50)"
   ]
  },
  {
   "cell_type": "code",
   "execution_count": 24,
   "metadata": {
    "id": "0rynrifd3bMf"
   },
   "outputs": [
    {
     "data": {
      "text/plain": [
       "<function matplotlib.pyplot.show(close=None, block=None)>"
      ]
     },
     "execution_count": 24,
     "metadata": {},
     "output_type": "execute_result"
    },
    {
     "data": {
      "image/png": "[encoded data removed]",
      "text/plain": [
       "<Figure size 432x288 with 1 Axes>"
      ]
     },
     "metadata": {
      "needs_background": "light"
     },
     "output_type": "display_data"
    }
   ],
   "source": [
    "plt.plot(history.history['loss'], label='train')\n",
    "plt.plot(history.history['val_loss'], label='test')\n",
    "plt.legend()\n",
    "plt.show\n"
   ]
  },
  {
   "cell_type": "markdown",
   "metadata": {
    "id": "p09y8km83gN3"
   },
   "source": [
    "## 인퍼런스 모델 구현( 추상적 요약 )"
   ]
  },
  {
   "cell_type": "code",
   "execution_count": 25,
   "metadata": {
    "id": "hMYEa5Mw3iy8"
   },
   "outputs": [],
   "source": [
    "src_index_to_word = src_tokenizer.index_word # 원문 단어 집합에서 정수 -> 단어를 얻음\n",
    "tar_word_to_index = tar_tokenizer.word_index # 요약 단어 집합에서 단어 -> 정수를 얻음\n",
    "tar_index_to_word = tar_tokenizer.index_word # 요약 단어 집합에서 정수 -> 단어를 얻음\n"
   ]
  },
  {
   "cell_type": "markdown",
   "metadata": {
    "id": "1nCL2DUa3mMl"
   },
   "source": [
    "### 인코더"
   ]
  },
  {
   "cell_type": "code",
   "execution_count": 26,
   "metadata": {
    "id": "X7o0RCpp3m5F"
   },
   "outputs": [],
   "source": [
    "# 인코더 설계\n",
    "encoder_model = Model(inputs=encoder_inputs, outputs=[encoder_outputs, state_h, state_c])\n",
    "\n",
    "# 이전 시점의 상태들을 저장하는 텐서\n",
    "decoder_state_input_h = Input(shape=(hidden_size,))\n",
    "decoder_state_input_c = Input(shape=(hidden_size,))\n",
    "\n",
    "dec_emb2 = dec_emb_layer(decoder_inputs)\n",
    "\n",
    "# 문장의 다음 단어를 예측하기 위해서 초기 상태(initial_state)를 이전 시점의 상태로 사용. 이는 뒤의 함수 decode_sequence()에 구현\n",
    "# 훈련 과정에서와 달리 LSTM의 리턴하는 은닉 상태와 셀 상태인 state_h와 state_c를 버리지 않음.\n",
    "decoder_outputs2, state_h2, state_c2 = decoder_lstm(dec_emb2, initial_state=[decoder_state_input_h, decoder_state_input_c])\n"
   ]
  },
  {
   "cell_type": "markdown",
   "metadata": {
    "id": "dwOf96L03pqi"
   },
   "source": [
    "### 디코더"
   ]
  },
  {
   "cell_type": "code",
   "execution_count": 27,
   "metadata": {
    "id": "sRTwT84H3rAj"
   },
   "outputs": [],
   "source": [
    "# 어텐션 함수\n",
    "decoder_hidden_state_input = Input(shape=(text_max_len, hidden_size))\n",
    "attn_out_inf = attn_layer([decoder_outputs2, decoder_hidden_state_input])\n",
    "decoder_inf_concat = Concatenate(axis=-1, name='concat')([decoder_outputs2, attn_out_inf])\n",
    "\n",
    "# 디코더의 출력층\n",
    "decoder_outputs2 = decoder_softmax_layer(decoder_inf_concat)\n",
    "\n",
    "# 최종 디코더 모델\n",
    "decoder_model = Model(\n",
    "    [decoder_inputs] + [decoder_hidden_state_input,decoder_state_input_h, decoder_state_input_c],\n",
    "    [decoder_outputs2] + [state_h2, state_c2])\n"
   ]
  },
  {
   "cell_type": "markdown",
   "metadata": {
    "id": "QvlKa12R3tsa"
   },
   "source": [
    "### 결과 확인\n",
    "\n",
    "- 전처리에 의해 문장이 어색해진 것에 비하면 문법적으로는 읽어지는 수준의 요약을 보여준다\n",
    "- 하지만 의미상으로 실제 요약보다는 많이 떨어져보임"
   ]
  },
  {
   "cell_type": "code",
   "execution_count": 117,
   "metadata": {
    "id": "gj4p2GfO4DPt"
   },
   "outputs": [
    {
     "name": "stdout",
     "output_type": "stream",
     "text": [
      "원문 : year old girl allegedly gangraped two days ago medical test yet non availability doctors government hospital ghaziabad two minors detained connection case also awaiting medical tests victim playing accused took secluded spot raped \n",
      "실제 요약 : rape victim medical test delayed over absence of doctors \n",
      "예측 요약 :  year old girl raped by in delhi\n",
      "\n",
      "\n",
      "원문 : united states president donald trump themed ecstasy pills sold united kingdom tagline trump makes partying great pills pink orange coloured shape head face people reportedly said going pill describing quality orange donald trump tablets \n",
      "실제 요약 : tablets shaped like trump head being sold in uk \n",
      "예측 요약 :  trump mistakenly sold for lakh\n",
      "\n",
      "\n",
      "원문 : priyanka chopra production based rabindranath tagore love story barred shooting campus bharati university objection focussing love life said vice chancellor kali sen however film director chatterjee claimed former vice chancellor kumar datta gave permission december last year \n",
      "실제 요약 : priyanka film barred from shooting in university \n",
      "예측 요약 :  priyanka chopra to be part of priyanka chopra\n",
      "\n",
      "\n",
      "원문 : needing runs last carlos brathwaite smashed ben stokes first four deliveries successive sixes windies defeated england world final april four sixes final brathwaite hit three sixes seven last assault helped windies become first team win two world \n",
      "실제 요약 : windies won world after final over read \n",
      "예측 요약 :  hits sixes in world cup for sixes in the first time\n",
      "\n",
      "\n",
      "원문 : two bike borne men saturday snatched phone gambhir diplomat called pakistan un delhi gambhir currently vacation capital walk mother men stopped pretext asking directions reports said phone iphone plus contained crucial official documents \n",
      "실제 요약 : phone of envoy who called pak stolen in delhi \n",
      "예측 요약 :  pakistan launches its own daughter\n",
      "\n",
      "\n"
     ]
    }
   ],
   "source": [
    "# 추상적 요약 결과 확인\n",
    "import random\n",
    "# 랜덤 샘플링을 위한 고유한 인덱스를 5개 생성\n",
    "sampled_indices = random.sample(range(len(decoder_input_test)), 5)\n",
    "\n",
    "for i in sampled_indices:\n",
    "    print(\"원문 :\", seq2text(encoder_input_test[i]))\n",
    "    print(\"실제 요약 :\", seq2headlines(decoder_input_test[i]))\n",
    "    print(\"예측 요약 :\", decode_sequence(encoder_input_test[i].reshape(1, text_max_len)))\n",
    "    print(\"\\n\")"
   ]
  },
  {
   "cell_type": "markdown",
   "metadata": {
    "id": "SXDF4lnJ4EZK"
   },
   "source": [
    "## 추출적 요약 ( Summa 이용 )\n",
    "\n",
    "- Summa의 경우 문장 단위로만 요약이 되는 것으로 보인다.\n",
    "- 반환할 문장보다 요구되는 길이가 짧은 경우 요약을 반환하지 않음\n",
    "- 중요 문장을 선택해 나열하는 수준의 요약으로 보인다."
   ]
  },
  {
   "cell_type": "code",
   "execution_count": 142,
   "metadata": {},
   "outputs": [
    {
     "name": "stdout",
     "output_type": "stream",
     "text": [
      "In meetings at the president's private Florida club, Mar-a-Lago, Trump has spoken with Kevin Warsh, a former Fed governor, about potentially firing Powell before his term ends and possibly selecting Warsh to be his replacement, the people said.\n",
      "Trump interviewed Warsh for the Fed chair job in 2017 before choosing Powell, who became chair the following year.\n"
     ]
    }
   ],
   "source": [
    "home = os.getenv('HOME')\n",
    "path = os.path.join(home, 'President Has Mulled Powell Fate for Months.txt')\n",
    "with open(path, encoding = 'UTF-8') as f:\n",
    "    text = f.read()\n",
    "\n",
    "# 50단어 요약\n",
    "print(summarize(text, words=50))"
   ]
  },
  {
   "cell_type": "code",
   "execution_count": 138,
   "metadata": {},
   "outputs": [
    {
     "name": "stdout",
     "output_type": "stream",
     "text": [
      "WASHINGTON -- President Trump has for months privately discussed firing Federal Reserve Chair Jerome Powell, according to people familiar with the matter, but he hasn't made a final decision about whether to try to oust him before his term ends next year.\n",
      "In meetings at the president's private Florida club, Mar-a-Lago, Trump has spoken with Kevin Warsh, a former Fed governor, about potentially firing Powell before his term ends and possibly selecting Warsh to be his replacement, the people said.\n",
      "Still, any argument against firing Powell hasn't stopped Trump from making the case to allies in private meetings that the Fed chair should lose his job and that the Fed's governing law, which says policymakers can only be removed \"for cause,\" isn't strong enough to hold up in court if he sought to remove Powell.\n",
      "Powell said Wednesday he didn't think that legal challenge, which concerns Trump's removal of a member of the National Labor Relations Board, would ultimately apply to the Fed -- presumably because the Supreme Court, even if it rolls back its 1935 ruling, would find a way to protect Fed governors from removal.\n",
      "Trump interviewed Warsh for the Fed chair job in 2017 before choosing Powell, who became chair the following year.\n"
     ]
    }
   ],
   "source": [
    "# 10% 요약\n",
    "print(summarize(text, ratio=0.1))"
   ]
  },
  {
   "cell_type": "markdown",
   "metadata": {},
   "source": [
    "### 비교용 AI 요약본\n",
    "\n",
    "#### AI 두문장 요약\n",
    "Former President Trump has privately discussed firing Federal Reserve Chair Jerome Powell before his term ends, though no final decision has been made. Legal and political challenges, along with internal disagreement among Trump's advisers, make such a move highly uncertain and potentially destabilizing.\n",
    "\n",
    "#### AI 10% 요약\n",
    "Former President Trump has repeatedly discussed firing Federal Reserve Chair Jerome Powell before his term ends, frustrated by what he sees as Powell’s failure to cut interest rates quickly enough. Though Trump believes he has the authority to remove Powell, legal precedent, internal divisions among his advisers, and concerns about undermining the Fed’s independence have so far prevented action. Some advisers, including Treasury Secretary Scott Bessent and Kevin Warsh, whom Trump has considered as a potential replacement, have cautioned against the move due to potential market instability and legal challenges. The issue is further complicated by the Supreme Court’s possible reconsideration of the 1935 \"Humphrey’s Executor\" decision, which limits a president’s ability to remove independent agency officials.\n",
    "\n"
   ]
  },
  {
   "cell_type": "markdown",
   "metadata": {},
   "source": [
    "## 분석 ( 추상적 요약 추출적 요약 비교 )\n",
    "\n",
    "| 비교 항목             | 추상적 요약                        | 추출적 요약                        |\n",
    "|------------------------|-------------------------------------|-------------------------------------|\n",
    "| 문법 완성도         | 자연스럽다고까지 할 순 없으나 문법에 맞는 경우가 많다        | 문장자체를 가져와서 문장의 문법은 이상없었으나 문장 사이를 연결하는 조사등이 어색한 경우가 있음  |\n",
    "| 핵심 단어 포함 여부 | 일부 누락되거나 유사어로 대체되는 경우가 있다        | 핵심 문장자체를 포함       |\n",
    "| 문장 단어 연결 흐름 | 대체적으로 자연스러운 경우가 많음          | 연속된 문장이 선택된 경우가 아니면 연결 흐름이 이상하다.  |\n",
    "| 문장 중복 여부      | 중복된 의미의 문장은 사용되지 않는 것으로 보임        | 비슷한 의미의 문장이 다시 출현하는 경우가 있음 |\n",
    "| 문장 길이    | 알아서 적절한 길이로 요약      | 원문 문장 길이에 따라 요약 한계 존재하는 것으로 보임(어느정도 길이 이하의 요약 생성 안됨)  |"
   ]
  },
  {
   "cell_type": "code",
   "execution_count": null,
   "metadata": {},
   "outputs": [],
   "source": [
    "# Summ 요약및 비교 확인을 위해 데이터 원본 준비\n",
    "# 모델을 재훈련하는데 시간이 많이 들어 data를 추가로 읽어들여 처리\n",
    "\n",
    "#import urllib.request\n",
    "#urllib.request.urlretrieve(\"https://raw.githubusercontent.com/sunnysai12345/News_Summary/master/news_summary_more.csv\", filename=\"news_summary_more.csv\")\n",
    "data_ori = pd.read_csv('news_summary_more.csv', encoding='iso-8859-1')\n",
    "# 중복제거\n",
    "data_ori.drop_duplicates(subset = ['text'], inplace=True)\n",
    "\n",
    "# 빈 값을 Null 값으로 변환\n",
    "data.replace('', np.nan, inplace=True)\n"
   ]
  },
  {
   "cell_type": "code",
   "execution_count": 121,
   "metadata": {
    "executionInfo": {
     "elapsed": 4,
     "status": "aborted",
     "timestamp": 1745214681185,
     "user": {
      "displayName": "K",
      "userId": "17697101113612252972"
     },
     "user_tz": -540
    },
    "id": "2HBZzXR-4K8k"
   },
   "outputs": [
    {
     "name": "stdout",
     "output_type": "stream",
     "text": [
      "원문 (기사)    : A Gurugram court on Monday sentenced a lawyer to three years in jail for cheating his handicapped client in 2008. Out of a compensation of Ã¢ÂÂ¹5.63 lakh awarded to the victim in a case, the lawyer usurped Ã¢ÂÂ¹2 lakh using fraudulent means. The court said the punishment was necessary as his actions could shake people's faith in the legal system.\n",
      "원문 (헤드라인):  Lawyer jailed for 3 years for cheating client in Gurugram\n",
      "\n",
      "\n",
      "전처리된 원문  : gurugram court monday sentenced lawyer three years jail cheating handicapped client compensation lakh awarded victim case lawyer lakh using fraudulent means court said punishment necessary actions could shake people faith legal system \n",
      "전처리된 헤드라인 :  lawyer jailed for years for cheating client in gurugram\n",
      "추상 요약(어텐션) :   man sentenced to life term for years in jail\n",
      "추출 요약(Summ10%):  \n",
      "추출 요약(Summ40%):  A Gurugram court on Monday sentenced a lawyer to three years in jail for cheating his handicapped client in 2008.\n",
      "\n",
      "================================================================================\n",
      "\n",
      "원문 (기사)    : Former Indian all-rounder Roger Binny has said Indian cricketer Hardik Pandya is lucky to be called an all-rounder. \"He doesn't contribute with the bat...He has got into the Test team based on his exploits in T20 cricket,\" added Roger. Pandya has scored 39 runs and has taken six wickets in eight matches in the limited-overs series against South Africa.\n",
      "원문 (헤드라인):  Hardik Pandya lucky to be called an all-rounder: Roger Binny\n",
      "\n",
      "\n",
      "전처리된 원문  : former indian rounder roger binny said indian cricketer hardik pandya lucky called rounder contribute bat got test team based exploits cricket added roger pandya scored runs taken six wickets eight matches limited overs series south africa \n",
      "전처리된 헤드라인 :  hardik pandya lucky to be called an all rounder roger binny\n",
      "추상 요약(어텐션) :   pandya has the biggest batsman in the ipl team ganguly\n",
      "추출 요약(Summ10%):  \n",
      "추출 요약(Summ40%):  Former Indian all-rounder Roger Binny has said Indian cricketer Hardik Pandya is lucky to be called an all-rounder.\n",
      "\n",
      "================================================================================\n",
      "\n",
      "원문 (기사)    : On March 18, 1965, Soviet cosmonaut Alexey Leonov performed the first spacewalk in history. Leonov exited his spacecraft through a cylindrical airlock after which his spacesuit inflated due to internal pressure against the vacuum of space, making it difficult to re-enter. He then broke protocol, depressurised the suit off oxygen and successfully entered the module, ending the 12-minute spacewalk.\n",
      "원문 (헤드라인):  1st-ever spacewalk in human history nearly ended in accident\n",
      "\n",
      "\n",
      "전처리된 원문  : march soviet cosmonaut performed first spacewalk history exited spacecraft spacesuit inflated due internal pressure vacuum space making difficult enter broke protocol suit oxygen successfully entered module ending minute spacewalk \n",
      "전처리된 헤드라인 :  st ever spacewalk in human history nearly ended in accident\n",
      "추상 요약(어텐션) :   first ever space was taken off first time since jan\n",
      "추출 요약(Summ10%):  \n",
      "추출 요약(Summ40%):  On March 18, 1965, Soviet cosmonaut Alexey Leonov performed the first spacewalk in history.\n",
      "\n",
      "================================================================================\n",
      "\n",
      "원문 (기사)    : Comedians Bharti Singh and Krushna Abhishek will be joining the second season of 'The Kapil Sharma Show', as per reports. \"It's going to be a mega reunion as all of us will get together after a long time. It's going to be a treat for the audience,\" said Bharti. Comedian Kiku Sharda confirmed he will be part of the show.  \n",
      "원문 (헤드라인):  Bharti, Krushna to join 2nd season of Kapil's show: Reports\n",
      "\n",
      "\n",
      "전처리된 원문  : comedians bharti singh krushna abhishek joining second season kapil sharma show per reports going mega us get together long time going treat audience said bharti comedian kiku sharda confirmed part show \n",
      "전처리된 헤드라인 :  bharti krushna to join nd season of kapil show reports\n",
      "추상 요약(어텐션) :   kapil sharma to host his next year reports\n",
      "추출 요약(Summ10%):  \n",
      "추출 요약(Summ40%):  It's going to be a treat for the audience,\" said Bharti.\n",
      "\n",
      "================================================================================\n",
      "\n",
      "원문 (기사)    : Army Chief Bipin Rawat on Wednesday said that security agencies were getting reports of terror organisations across the border planning attacks like the Uri attack. He added that security of warfare installations in remote areas is becoming a cause for concern. Notably, 19 jawans were martyred in the militant attack on an army base in Uri in September last year.\n",
      "원문 (헤드라인):  Reports of terrorists planning Uri-like attack: Army Chief\n",
      "\n",
      "\n",
      "전처리된 원문  : army chief bipin rawat wednesday said security agencies getting reports terror organisations across border planning attacks like uri attack added security warfare installations remote areas becoming cause concern notably jawans martyred militant attack army base uri september last year \n",
      "전처리된 헤드라인 :  reports of terrorists planning uri like attack army chief\n",
      "추상 요약(어텐션) :   militants can be killed in kashmir army chief\n",
      "추출 요약(Summ10%):  \n",
      "추출 요약(Summ40%):  Army Chief Bipin Rawat on Wednesday said that security agencies were getting reports of terror organisations across the border planning attacks like the Uri attack.\n",
      "\n",
      "================================================================================\n",
      "\n"
     ]
    }
   ],
   "source": [
    "import random\n",
    "# 랜덤 샘플링을 위한 고유한 인덱스를 10개 생성\n",
    "sampled_indices = random.sample(range(len(decoder_input_test)), 10)\n",
    "\n",
    "for idx in sampled_indices:\n",
    "    # decoder_input_test에서 인덱스에 해당하는 텍스트 추출\n",
    "    decoder_input = decoder_input_test[idx]\n",
    "    \n",
    "    # decoder_input을 seq2headlines로 변환하여 예측된 요약 생성\n",
    "    pre_headlines = seq2headlines(decoder_input).strip()\n",
    "    \n",
    " \n",
    "    # data_ori에서 headline 컬럼이 decoder_input과 같은 값을 가진 원본 데이터를 찾기\n",
    "    matching_index = data[data['headlines'] == pre_headlines].index\n",
    "\n",
    "    matching_rows = data_ori.loc[matching_index]\n",
    "   \n",
    "    # matching_rows가 하나만 존재할 경우에만 처리\n",
    "    if len(matching_rows) != 1:\n",
    "        continue  # 하나의 값만 존재하지 않으면 건너뛰기\n",
    "    # 원문과 실제 요약 출력\n",
    "    print(\"원문 (기사)    : \"+str(matching_rows['text'].values[0]))\n",
    "    print(\"원문 (헤드라인): \",str(matching_rows['headlines'].values[0]))\n",
    "    print(\"\\n\")\n",
    "    print(\"전처리된 원문  : \"+seq2text(encoder_input_test[idx]))\n",
    "    print(\"전처리된 헤드라인 : \", pre_headlines)\n",
    "    print(\"추상 요약(어텐션) : \", decode_sequence(encoder_input_test[idx].reshape(1, text_max_len)))\n",
    "    print(\"추출 요약(Summ10%): \", summarize(str(matching_rows['text'].values[0]), ratio=0.1))\n",
    "    print(\"추출 요약(Summ40%): \", summarize(str(matching_rows['text'].values[0]), ratio=0.4))\n",
    "    print(\"\\n\"+\"=\"*80+\"\\n\")\n"
   ]
  },
  {
   "cell_type": "markdown",
   "metadata": {
    "id": "PYObcehs4Lrv"
   },
   "source": [
    "## 회고\n",
    "추상적 요약과 추출적 요약에 대해서 조금은 알수 있게 되었다. 그리고 컴퓨팅 자원의 소중함을 느낀다. 클라우드에서 계속 되지 않아서 코랩으로 작성하고 그러다 몇번 끊어지고 다시 돌리다보니 리소스가 끝나있고 로컬 환경을 구축해야겠다는 생각을 했다. 그리고 데이터 원본을 잘 저장하고 원본을 다시 잘 찾을 수 있도록 인덱스나 매핑 관리는 잘해야겠다고 느꼈다. 아직 기초적인 수준의 내용을 적용한 것이라 그런지 생성형 AI의 요약과는 많은 차이가 있었다. 개선점을 더 고민해봐야하지만 시간상 할 수 없었다. 텍스트를 다루게 된다면 어떤 점을 고민하고 공부해야될 것인가에 대해서 생각을 해봐야할 것 같다. 다하고 든 생각인데 모델이 과적합된 것은 아닐까 생각해보게된다 10번 이내로 돌렸을때의 결과를 확인해보고싶지만 시간이 너무 많이 든다. 이렇게 적어두고 나중에 시간이 있을때 해봐야겠다."
   ]
  },
  {
   "cell_type": "code",
   "execution_count": null,
   "metadata": {},
   "outputs": [],
   "source": []
  }
 ],
 "metadata": {
  "colab": {
   "authorship_tag": "ABX9TyPKiQGlOgB1D8n9eTPDuOfD",
   "provenance": []
  },
  "kernelspec": {
   "display_name": "Python 3 (ipykernel)",
   "language": "python",
   "name": "python3"
  },
  "language_info": {
   "codemirror_mode": {
    "name": "ipython",
    "version": 3
   },
   "file_extension": ".py",
   "mimetype": "text/x-python",
   "name": "python",
   "nbconvert_exporter": "python",
   "pygments_lexer": "ipython3",
   "version": "3.9.7"
  }
 },
 "nbformat": 4,
 "nbformat_minor": 1
}
