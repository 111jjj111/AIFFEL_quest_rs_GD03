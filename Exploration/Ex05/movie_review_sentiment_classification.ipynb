{
 "cells": [
  {
   "cell_type": "markdown",
   "id": "76f49a0e",
   "metadata": {},
   "source": [
    "# 네이버 영화리뷰 감성분석 도전하기\n",
    "\n",
    "### 라이브러리 import"
   ]
  },
  {
   "cell_type": "code",
   "execution_count": 1,
   "id": "7d370965",
   "metadata": {},
   "outputs": [],
   "source": [
    "import konlpy\n",
    "import gensim\n",
    "import pandas as pd\n",
    "import os\n",
    "from konlpy.tag import Mecab\n",
    "import numpy as np\n",
    "from collections import Counter\n",
    "import tensorflow as tf\n",
    "import matplotlib.pyplot as plt\n",
    "from tensorflow.keras.initializers import Constant\n",
    "from gensim.models.keyedvectors import Word2VecKeyedVectors"
   ]
  },
  {
   "cell_type": "markdown",
   "id": "633a73ea",
   "metadata": {},
   "source": [
    "### 함수 및 변수"
   ]
  },
  {
   "cell_type": "code",
   "execution_count": 2,
   "id": "9a55648f",
   "metadata": {},
   "outputs": [],
   "source": [
    "\n",
    "# 사전 크기 및 차원\n",
    "vocab_size = 10000    # 어휘 사전의 크기입니다(10,000개의 단어)\n",
    "word_vector_dim = 64  # 워드 벡터의 차원 수 \n",
    "\n",
    "# 훈련 파일\n",
    "train_file = '~/aiffel/sentiment_classification/data/ratings_train.txt'\n",
    "test_file = '~/aiffel/sentiment_classification/data/ratings_test.txt'\n",
    "\n",
    "# 워드벡터 파일\n",
    "w2v_file1 = os.getenv('HOME')+'/aiffel/sentiment_classification/data/word2vec1.txt'\n",
    "w2v_file2 = os.getenv('HOME')+'/aiffel/sentiment_classification/data/word2vec2.txt'\n",
    "w2v_file3 = os.getenv('HOME')+'/aiffel/sentiment_classification/data/word2vec3.txt'\n",
    "w2v_ko_file = os.getenv('HOME')+'/aiffel/sentiment_classification/data/word2vec_ko.model'\n",
    "\n",
    "# 토크나이저\n",
    "tokenizer = Mecab()\n",
    "stopwords = ['의','가','이','은','들','는','좀','잘','걍','과','도','를','으로','자','에','와','한','하다']\n",
    "\n",
    "# 데이터 로더 (텍스트 전처리 및 인덱스 변환 & 인덱스 딕셔너리 제공 )\n",
    "def load_data(train_data, test_data, num_words=10000):\n",
    "    # 데이터 중복 제거\n",
    "    train_data.drop_duplicates(subset=['document'], inplace=True)\n",
    "    test_data.drop_duplicates(subset=['document'], inplace=True)\n",
    "\n",
    "    # 결측치 제거\n",
    "    train_data.dropna(how = 'any', inplace=True)\n",
    "    test_data.dropna(how = 'any', inplace=True)\n",
    "\n",
    "    # 한글 외 제거 (감성 분석에는 !등이 의미가 있다고 하여 제거)\n",
    "    # train_data['document'] = train_data['document'].str.replace(\"[^ㄱ-ㅎㅏ-ㅣ가-힣 ]\",\"\", regex=True)\n",
    "    # test_data['document'] = test_data['document'].str.replace(\"[^ㄱ-ㅎㅏ-ㅣ가-힣 ]\",\"\", regex=True)\n",
    "    \n",
    "    # 토큰화\n",
    "    X_train = train_data['document'].apply(tokenizer.morphs)\n",
    "    X_test = test_data['document'].apply(tokenizer.morphs)\n",
    "    \n",
    "    # 불용어 제거\n",
    "    X_train = X_train.apply(lambda x: [item for item in x if item not in stopwords]).tolist()\n",
    "    X_test = X_test.apply(lambda x: [item for item in x if item not in stopwords]).tolist()\n",
    "\n",
    "\n",
    "    # 사전 word_to_index 구성\n",
    "    words = np.concatenate(X_train).tolist()\n",
    "    counter = Counter(words)\n",
    "    counter = counter.most_common(num_words-4)\n",
    "    # mecab은 내부적으로만 BOS등을 사용하고 반환 토큰에는 해당 내용이 없음 \n",
    "    vocab = ['<PAD>', '<BOS>', '<UNK>', '<UNUSED>'] + [key for key, _ in counter]\n",
    "    word_to_index = {word:index for index, word in enumerate(vocab)}\n",
    "    \n",
    "    # 텍스트 스트링을 사전 인덱스 스트링으로 변환\n",
    "    def wordlist_to_indexlist(wordlist):\n",
    "        return [word_to_index[word] if word in word_to_index else word_to_index['<UNK>'] for word in wordlist]\n",
    "        \n",
    "    X_train = list(map(wordlist_to_indexlist, X_train))\n",
    "    X_test = list(map(wordlist_to_indexlist, X_test))\n",
    "    \n",
    "    # X_train, y_train, X_test, y_test, word_to_index 리턴\n",
    "    return X_train, np.array(list(train_data['label'])), X_test, np.array(list(test_data['label'])), word_to_index\n",
    "\n",
    "\n",
    "# 문장 1개를 활용할 딕셔너리와 함께 주면, 단어 인덱스 리스트 벡터로 변환해 주는 함수입니다. \n",
    "# 단, 모든 문장은 <BOS>로 시작하는 것으로 합니다. \n",
    "def get_encoded_sentence(sentence, word_to_index):\n",
    "    return [word_to_index['<BOS>']]+[word_to_index[word] if word in word_to_index else word_to_index['<UNK>'] for word in sentence.split()]\n",
    "\n",
    "# 여러 개의 문장 리스트를 한꺼번에 단어 인덱스 리스트 벡터로 encode해 주는 함수입니다. \n",
    "def get_encoded_sentences(sentences, word_to_index):\n",
    "    return [get_encoded_sentence(sentence, word_to_index) for sentence in sentences]\n",
    "\n",
    "# 숫자 벡터로 encode된 문장을 원래대로 decode하는 함수입니다. \n",
    "def get_decoded_sentence(encoded_sentence, index_to_word):\n",
    "    return ' '.join(index_to_word[index] if index in index_to_word else '<UNK>' for index in encoded_sentence[1:])  #[1:]를 통해 <BOS>를 제외\n",
    "\n",
    "# 여러 개의 숫자 벡터로 encode된 문장을 한꺼번에 원래대로 decode하는 함수입니다. \n",
    "def get_decoded_sentences(encoded_sentences, index_to_word):\n",
    "    return [get_decoded_sentence(encoded_sentence, index_to_word) for encoded_sentence in encoded_sentences]\n",
    "\n",
    "# history 확인용 그래프 함수\n",
    "def show_history_graph(history):\n",
    "    history_dict = history.history\n",
    "    \n",
    "    acc = history_dict['accuracy']\n",
    "    val_acc = history_dict['val_accuracy']\n",
    "    loss = history_dict['loss']\n",
    "    val_loss = history_dict['val_loss']\n",
    "\n",
    "    epochs = range(1, len(acc) + 1)\n",
    "\n",
    "    fig, (ax1, ax2) = plt.subplots(1, 2, figsize=(16, 6))\n",
    "\n",
    "    # \"bo\"는 \"파란색 점\"입니다\n",
    "    ax1.plot(epochs, loss, 'bo', label='Training loss')\n",
    "    # b는 \"파란 실선\"입니다\n",
    "    ax1.plot(epochs, val_loss, 'b', label='Validation loss')\n",
    "    ax1.set_title('Training and validation loss')\n",
    "    ax1.set_xlabel('Epochs')\n",
    "    ax1.set_ylabel('Loss')\n",
    "    ax1.legend()\n",
    "\n",
    "    ax2.plot(epochs, acc, 'bo', label='Training acc')\n",
    "    ax2.plot(epochs, val_acc, 'b', label='Validation acc')\n",
    "    ax2.set_title('Training and validation accuracy')\n",
    "    ax2.set_xlabel('Epochs')\n",
    "    ax2.set_ylabel('Accuracy')\n",
    "    ax2.legend()\n",
    "    \n",
    "    plt.show()\n",
    "    \n",
    "# 학습된 임베딩 파라미터를 파일에 저장하는 함수\n",
    "def save_word_vector(model, word2vec_file_path=\"\"):\n",
    "    f = open(word2vec_file_path, 'w')\n",
    "    f.write('{} {}\\n'.format(vocab_size-4, word_vector_dim))\n",
    "\n",
    "    # 단어 개수(에서 특수문자 4개는 제외하고)만큼의 워드 벡터를 파일에 기록합니다. \n",
    "    vectors = model.get_weights()[0]\n",
    "    for i in range(4,vocab_size):\n",
    "        f.write('{} {}\\n'.format(index_to_word[i], ' '.join(map(str, list(vectors[i, :])))))\n",
    "    f.close()\n",
    "\n",
    "# 모델별 워드 벡터에서 유사 단어 찾는 함수\n",
    "def similar_by_word_per_wv(wvs, word):\n",
    "    result_dict = {}\n",
    "\n",
    "    for model_name, wv in zip(wvs[\"model\"], wvs[\"wv\"]):\n",
    "        if word in wv:\n",
    "            similar_words = wv.similar_by_word(word, topn=7)  # 7개로 제한\n",
    "            word_sim_list = [f\"{w}-{round(sim, 4)}\" for w, sim in similar_words]\n",
    "        else:\n",
    "            word_sim_list = [f\"'{word}' not in vocab\"]\n",
    "        \n",
    "        result_dict[model_name] = word_sim_list\n",
    "\n",
    "    # 데이터프레임 생성\n",
    "    df = pd.DataFrame.from_dict(result_dict, orient='index')\n",
    "\n",
    "    # 열 이름을 1부터 시작하게 설정\n",
    "    df.columns = [str(i) for i in range(1, len(df.columns)+1)]\n",
    "\n",
    "    return df"
   ]
  },
  {
   "cell_type": "markdown",
   "id": "533b8bcb",
   "metadata": {},
   "source": [
    "## 데이터 준비 및 전처리 "
   ]
  },
  {
   "cell_type": "code",
   "execution_count": 3,
   "id": "7c90699c",
   "metadata": {},
   "outputs": [
    {
     "data": {
      "text/html": [
       "<div>\n",
       "<style scoped>\n",
       "    .dataframe tbody tr th:only-of-type {\n",
       "        vertical-align: middle;\n",
       "    }\n",
       "\n",
       "    .dataframe tbody tr th {\n",
       "        vertical-align: top;\n",
       "    }\n",
       "\n",
       "    .dataframe thead th {\n",
       "        text-align: right;\n",
       "    }\n",
       "</style>\n",
       "<table border=\"1\" class=\"dataframe\">\n",
       "  <thead>\n",
       "    <tr style=\"text-align: right;\">\n",
       "      <th></th>\n",
       "      <th>id</th>\n",
       "      <th>document</th>\n",
       "      <th>label</th>\n",
       "    </tr>\n",
       "  </thead>\n",
       "  <tbody>\n",
       "    <tr>\n",
       "      <th>0</th>\n",
       "      <td>9976970</td>\n",
       "      <td>아 더빙.. 진짜 짜증나네요 목소리</td>\n",
       "      <td>0</td>\n",
       "    </tr>\n",
       "    <tr>\n",
       "      <th>1</th>\n",
       "      <td>3819312</td>\n",
       "      <td>흠...포스터보고 초딩영화줄....오버연기조차 가볍지 않구나</td>\n",
       "      <td>1</td>\n",
       "    </tr>\n",
       "    <tr>\n",
       "      <th>2</th>\n",
       "      <td>10265843</td>\n",
       "      <td>너무재밓었다그래서보는것을추천한다</td>\n",
       "      <td>0</td>\n",
       "    </tr>\n",
       "    <tr>\n",
       "      <th>3</th>\n",
       "      <td>9045019</td>\n",
       "      <td>교도소 이야기구먼 ..솔직히 재미는 없다..평점 조정</td>\n",
       "      <td>0</td>\n",
       "    </tr>\n",
       "    <tr>\n",
       "      <th>4</th>\n",
       "      <td>6483659</td>\n",
       "      <td>사이몬페그의 익살스런 연기가 돋보였던 영화!스파이더맨에서 늙어보이기만 했던 커스틴 ...</td>\n",
       "      <td>1</td>\n",
       "    </tr>\n",
       "  </tbody>\n",
       "</table>\n",
       "</div>"
      ],
      "text/plain": [
       "         id                                           document  label\n",
       "0   9976970                                아 더빙.. 진짜 짜증나네요 목소리      0\n",
       "1   3819312                  흠...포스터보고 초딩영화줄....오버연기조차 가볍지 않구나      1\n",
       "2  10265843                                  너무재밓었다그래서보는것을추천한다      0\n",
       "3   9045019                      교도소 이야기구먼 ..솔직히 재미는 없다..평점 조정      0\n",
       "4   6483659  사이몬페그의 익살스런 연기가 돋보였던 영화!스파이더맨에서 늙어보이기만 했던 커스틴 ...      1"
      ]
     },
     "execution_count": 3,
     "metadata": {},
     "output_type": "execute_result"
    }
   ],
   "source": [
    "# Raw 데이터 읽어서 확인\n",
    "train_data = pd.read_table(train_file)\n",
    "test_data = pd.read_table(test_file)\n",
    "\n",
    "train_data.head()"
   ]
  },
  {
   "cell_type": "code",
   "execution_count": 4,
   "id": "140a4b83",
   "metadata": {},
   "outputs": [
    {
     "name": "stdout",
     "output_type": "stream",
     "text": [
      "문장길이 평균 :  15.96940191154864\n",
      "문장길이 최대 :  116\n",
      "문장길이 표준편차 :  12.843571191092\n",
      "pad_sequences maxlen :  41\n",
      "전체 문장의 93.42988343341575%가 maxlen 설정값 이내에 포함됩니다. \n"
     ]
    }
   ],
   "source": [
    "# 데이터 로딩 \n",
    "X_train, y_train, X_test, y_test, word_to_index = load_data(train_data, test_data)\n",
    "\n",
    "# 인덱스별 단어 저장\n",
    "index_to_word = {index:word for word, index in word_to_index.items()}\n",
    "\n",
    "# 최대 토큰수 계산\n",
    "total_data_text = list(X_train) + list(X_test)\n",
    "# 텍스트데이터 문장길이의 리스트를 생성한 후\n",
    "num_tokens = [len(tokens) for tokens in total_data_text]\n",
    "num_tokens = np.array(num_tokens)\n",
    "# 문장길이의 평균값, 최대값, 표준편차를 계산해 본다. \n",
    "print('문장길이 평균 : ', np.mean(num_tokens))\n",
    "print('문장길이 최대 : ', np.max(num_tokens))\n",
    "print('문장길이 표준편차 : ', np.std(num_tokens))\n",
    "\n",
    "# 평균 + 2*표준편차)로 계산하여 최대 토큰수 구함  \n",
    "max_tokens = np.mean(num_tokens) + 2 * np.std(num_tokens)\n",
    "maxlen = int(max_tokens)\n",
    "print('pad_sequences maxlen : ', maxlen)\n",
    "print(f'전체 문장의 {np.sum(num_tokens < max_tokens) / len(num_tokens) * 100}%가 maxlen 설정값 이내에 포함됩니다. ')"
   ]
  },
  {
   "cell_type": "code",
   "execution_count": 5,
   "id": "074430ae",
   "metadata": {},
   "outputs": [
    {
     "name": "stdout",
     "output_type": "stream",
     "text": [
      "(146182, 41)\n"
     ]
    }
   ],
   "source": [
    "# 계산된 최대 길이로 패딩 (pre 패딩 사용)\n",
    "X_train = tf.keras.preprocessing.sequence.pad_sequences(X_train,\n",
    "                                                        value=word_to_index[\"<PAD>\"],\n",
    "                                                        padding='pre',\n",
    "                                                        maxlen=maxlen)\n",
    "\n",
    "X_test = tf.keras.preprocessing.sequence.pad_sequences(X_test,\n",
    "                                                       value=word_to_index[\"<PAD>\"],\n",
    "                                                       padding='pre', \n",
    "                                                       maxlen=maxlen)\n",
    "\n",
    "print(X_train.shape)"
   ]
  },
  {
   "cell_type": "code",
   "execution_count": 6,
   "id": "9ee27792",
   "metadata": {},
   "outputs": [
    {
     "name": "stdout",
     "output_type": "stream",
     "text": [
      "29236\n",
      "(116946, 41)\n",
      "(116946,)\n"
     ]
    }
   ],
   "source": [
    "# validation 용 데이터 따로 구성\n",
    "num_val_set = X_train.shape[0]//5\n",
    "print(num_val_set)\n",
    "\n",
    "# validation set \n",
    "x_val = X_train[:num_val_set]   \n",
    "y_val = y_train[:num_val_set]\n",
    "\n",
    "# validation set을 제외한 나머지 \n",
    "partial_x_train = X_train[num_val_set:]  \n",
    "partial_y_train = y_train[num_val_set:]\n",
    "\n",
    "print(partial_x_train.shape)\n",
    "print(partial_y_train.shape)"
   ]
  },
  {
   "cell_type": "markdown",
   "id": "a3bbcb1c",
   "metadata": {},
   "source": [
    "## 모델 준비\n",
    "\n",
    "- Conv1D with MaxPooling, LSTM, 양방향 LSTM 세가지 모델 준비\n",
    "- 최종 단계에 dense layer 두개 공통 적용 (16차원 relu -> 1차원 sigmoid )\n",
    "- dense layer 사이에만 dropout 레이어 적용"
   ]
  },
  {
   "cell_type": "code",
   "execution_count": 7,
   "id": "a92a5f69",
   "metadata": {},
   "outputs": [
    {
     "name": "stdout",
     "output_type": "stream",
     "text": [
      "Model: \"sequential\"\n",
      "_________________________________________________________________\n",
      "Layer (type)                 Output Shape              Param #   \n",
      "=================================================================\n",
      "embedding (Embedding)        (None, None, 64)          640000    \n",
      "_________________________________________________________________\n",
      "conv1d (Conv1D)              (None, None, 32)          14368     \n",
      "_________________________________________________________________\n",
      "max_pooling1d (MaxPooling1D) (None, None, 32)          0         \n",
      "_________________________________________________________________\n",
      "conv1d_1 (Conv1D)            (None, None, 32)          7200      \n",
      "_________________________________________________________________\n",
      "global_max_pooling1d (Global (None, 32)                0         \n",
      "_________________________________________________________________\n",
      "dense (Dense)                (None, 16)                528       \n",
      "_________________________________________________________________\n",
      "dropout (Dropout)            (None, 16)                0         \n",
      "_________________________________________________________________\n",
      "dense_1 (Dense)              (None, 1)                 17        \n",
      "=================================================================\n",
      "Total params: 662,113\n",
      "Trainable params: 662,113\n",
      "Non-trainable params: 0\n",
      "_________________________________________________________________\n"
     ]
    }
   ],
   "source": [
    "# Conv1D with MaxPooling\n",
    "\n",
    "model1 = tf.keras.Sequential()\n",
    "model1.add(tf.keras.layers.Embedding(vocab_size, word_vector_dim, input_shape=(None,)))\n",
    "model1.add(tf.keras.layers.Conv1D(32, 7, activation='relu'))\n",
    "model1.add(tf.keras.layers.MaxPooling1D(4))\n",
    "model1.add(tf.keras.layers.Conv1D(32, 7, activation='relu'))\n",
    "model1.add(tf.keras.layers.GlobalMaxPooling1D())\n",
    "model1.add(tf.keras.layers.Dense(16, activation='relu'))\n",
    "model1.add(tf.keras.layers.Dropout(0.5))\n",
    "model1.add(tf.keras.layers.Dense(1, activation='sigmoid'))  # 최종 출력은 긍정/부정을 나타내는 1dim 입니다.\n",
    "\n",
    "model1.summary()"
   ]
  },
  {
   "cell_type": "code",
   "execution_count": 8,
   "id": "d7b422e8",
   "metadata": {},
   "outputs": [
    {
     "name": "stdout",
     "output_type": "stream",
     "text": [
      "Model: \"sequential_1\"\n",
      "_________________________________________________________________\n",
      "Layer (type)                 Output Shape              Param #   \n",
      "=================================================================\n",
      "embedding_1 (Embedding)      (None, None, 64)          640000    \n",
      "_________________________________________________________________\n",
      "lstm (LSTM)                  (None, 32)                12416     \n",
      "_________________________________________________________________\n",
      "dense_2 (Dense)              (None, 16)                528       \n",
      "_________________________________________________________________\n",
      "dropout_1 (Dropout)          (None, 16)                0         \n",
      "_________________________________________________________________\n",
      "dense_3 (Dense)              (None, 1)                 17        \n",
      "=================================================================\n",
      "Total params: 652,961\n",
      "Trainable params: 652,961\n",
      "Non-trainable params: 0\n",
      "_________________________________________________________________\n"
     ]
    }
   ],
   "source": [
    "# LSTM\n",
    "\n",
    "model2 = tf.keras.Sequential()\n",
    "model2.add(tf.keras.layers.Embedding(vocab_size, word_vector_dim, input_shape=(None,)))\n",
    "model2.add(tf.keras.layers.LSTM(32))\n",
    "model2.add(tf.keras.layers.Dense(16, activation='relu'))\n",
    "model2.add(tf.keras.layers.Dropout(0.5))\n",
    "model2.add(tf.keras.layers.Dense(1, activation='sigmoid'))\n",
    "\n",
    "model2.summary()"
   ]
  },
  {
   "cell_type": "code",
   "execution_count": 9,
   "id": "55d30670",
   "metadata": {},
   "outputs": [
    {
     "name": "stdout",
     "output_type": "stream",
     "text": [
      "Model: \"sequential_2\"\n",
      "_________________________________________________________________\n",
      "Layer (type)                 Output Shape              Param #   \n",
      "=================================================================\n",
      "embedding_2 (Embedding)      (None, None, 64)          640000    \n",
      "_________________________________________________________________\n",
      "bidirectional (Bidirectional (None, 64)                24832     \n",
      "_________________________________________________________________\n",
      "dense_4 (Dense)              (None, 16)                1040      \n",
      "_________________________________________________________________\n",
      "dropout_2 (Dropout)          (None, 16)                0         \n",
      "_________________________________________________________________\n",
      "dense_5 (Dense)              (None, 1)                 17        \n",
      "=================================================================\n",
      "Total params: 665,889\n",
      "Trainable params: 665,889\n",
      "Non-trainable params: 0\n",
      "_________________________________________________________________\n"
     ]
    }
   ],
   "source": [
    "# 양방향 LSTM\n",
    "\n",
    "model3 = tf.keras.Sequential()\n",
    "model3.add(tf.keras.layers.Embedding(vocab_size, word_vector_dim, input_shape=(None,)))\n",
    "model3.add(tf.keras.layers.Bidirectional(tf.keras.layers.LSTM(32)))\n",
    "model3.add(tf.keras.layers.Dense(16, activation='relu'))\n",
    "model3.add(tf.keras.layers.Dropout(0.5))\n",
    "model3.add(tf.keras.layers.Dense(1, activation='sigmoid'))\n",
    "\n",
    "model3.summary()"
   ]
  },
  {
   "cell_type": "markdown",
   "id": "70e3457e",
   "metadata": {},
   "source": [
    "# 모델 훈련\n",
    "- 20 번 epochs를 적용하여 훈련하였으나 항상 10이하에서 과대적합이 발생\n",
    "- 여러가지 테스트를 수행하면서 수행 시간 단축을 위해 early_stop 적용 (이전 과정 분석시 문제 없을 것으로 판단 )\n",
    "- 몇몇 파라미터를 변경하면서 테스트를 하였으나 최종 훈련 과정만 기록 \n",
    "- 한글 외 토큰을 제외하여 문장 구성을 변경하였으나 감성 분석에는 느낌표등 분석에 도움이 된다는 내용을 보고 느낌표 마침표등 토큰이 포함되도록 함\n"
   ]
  },
  {
   "cell_type": "code",
   "execution_count": 10,
   "id": "9f4980a1",
   "metadata": {},
   "outputs": [
    {
     "name": "stdout",
     "output_type": "stream",
     "text": [
      "Epoch 1/20\n",
      "457/457 [==============================] - 6s 5ms/step - loss: 0.5211 - accuracy: 0.7256 - val_loss: 0.4248 - val_accuracy: 0.7896\n",
      "Epoch 2/20\n",
      "457/457 [==============================] - 2s 5ms/step - loss: 0.4084 - accuracy: 0.8167 - val_loss: 0.4122 - val_accuracy: 0.7985\n",
      "Epoch 3/20\n",
      "457/457 [==============================] - 2s 5ms/step - loss: 0.3540 - accuracy: 0.8450 - val_loss: 0.4217 - val_accuracy: 0.8019\n",
      "Epoch 4/20\n",
      "457/457 [==============================] - 2s 5ms/step - loss: 0.2870 - accuracy: 0.8776 - val_loss: 0.4672 - val_accuracy: 0.7902\n",
      "Epoch 5/20\n",
      "457/457 [==============================] - 2s 5ms/step - loss: 0.2282 - accuracy: 0.9041 - val_loss: 0.5552 - val_accuracy: 0.7861\n"
     ]
    }
   ],
   "source": [
    "# Conv1D with MaxPooling\n",
    "\n",
    "model1.compile(optimizer='adam',\n",
    "              loss='binary_crossentropy',\n",
    "              metrics=['accuracy'])\n",
    "              \n",
    "epochs=20  # 몇 epoch를 훈련하면 좋을지 결과를 보면서 바꾸어 봅시다. \n",
    "\n",
    "\n",
    "early_stop = tf.keras.callbacks.EarlyStopping(monitor='val_loss', patience=3, restore_best_weights=True)\n",
    "\n",
    "\n",
    "history1 = model1.fit(partial_x_train,\n",
    "                    partial_y_train,\n",
    "                    epochs=epochs,\n",
    "                    batch_size=256,\n",
    "                    validation_data=(x_val, y_val),\n",
    "                    verbose=1,\n",
    "                     callbacks=[early_stop])"
   ]
  },
  {
   "cell_type": "code",
   "execution_count": 11,
   "id": "ba8e2d22",
   "metadata": {},
   "outputs": [
    {
     "name": "stdout",
     "output_type": "stream",
     "text": [
      "Epoch 1/20\n",
      "457/457 [==============================] - 5s 6ms/step - loss: 0.4353 - accuracy: 0.8062 - val_loss: 0.3471 - val_accuracy: 0.8481\n",
      "Epoch 2/20\n",
      "457/457 [==============================] - 3s 6ms/step - loss: 0.3421 - accuracy: 0.8606 - val_loss: 0.3357 - val_accuracy: 0.8529\n",
      "Epoch 3/20\n",
      "457/457 [==============================] - 3s 6ms/step - loss: 0.3074 - accuracy: 0.8742 - val_loss: 0.3433 - val_accuracy: 0.8537\n",
      "Epoch 4/20\n",
      "457/457 [==============================] - 3s 6ms/step - loss: 0.2795 - accuracy: 0.8870 - val_loss: 0.3438 - val_accuracy: 0.8555\n",
      "Epoch 5/20\n",
      "457/457 [==============================] - 3s 6ms/step - loss: 0.2537 - accuracy: 0.8972 - val_loss: 0.3685 - val_accuracy: 0.8550\n"
     ]
    }
   ],
   "source": [
    "# LSTM\n",
    "\n",
    "model2.compile(optimizer='adam',\n",
    "              loss='binary_crossentropy',\n",
    "              metrics=['accuracy'])\n",
    "              \n",
    "epochs=20  # 몇 epoch를 훈련하면 좋을지 결과를 보면서 바꾸어 봅시다. \n",
    "\n",
    "early_stop = tf.keras.callbacks.EarlyStopping(monitor='val_loss', patience=3, restore_best_weights=True)\n",
    "\n",
    "\n",
    "history2 = model2.fit(partial_x_train,\n",
    "                    partial_y_train,\n",
    "                    epochs=epochs,\n",
    "                    batch_size=256,\n",
    "                    validation_data=(x_val, y_val),\n",
    "                    verbose=1,\n",
    "                     callbacks=[early_stop])"
   ]
  },
  {
   "cell_type": "code",
   "execution_count": 12,
   "id": "a56bd384",
   "metadata": {},
   "outputs": [
    {
     "name": "stdout",
     "output_type": "stream",
     "text": [
      "Epoch 1/20\n",
      "457/457 [==============================] - 7s 9ms/step - loss: 0.4550 - accuracy: 0.7926 - val_loss: 0.3477 - val_accuracy: 0.8494\n",
      "Epoch 2/20\n",
      "457/457 [==============================] - 3s 8ms/step - loss: 0.3448 - accuracy: 0.8607 - val_loss: 0.3341 - val_accuracy: 0.8544\n",
      "Epoch 3/20\n",
      "457/457 [==============================] - 3s 8ms/step - loss: 0.3087 - accuracy: 0.8759 - val_loss: 0.3421 - val_accuracy: 0.8576\n",
      "Epoch 4/20\n",
      "457/457 [==============================] - 3s 8ms/step - loss: 0.2799 - accuracy: 0.8880 - val_loss: 0.3414 - val_accuracy: 0.8582\n",
      "Epoch 5/20\n",
      "457/457 [==============================] - 3s 8ms/step - loss: 0.2549 - accuracy: 0.8980 - val_loss: 0.3765 - val_accuracy: 0.8566\n"
     ]
    }
   ],
   "source": [
    "# 양방향 LSTM\n",
    "model3.compile(optimizer='adam',\n",
    "              loss='binary_crossentropy',\n",
    "              metrics=['accuracy'])\n",
    "              \n",
    "epochs=20  # 몇 epoch를 훈련하면 좋을지 결과를 보면서 바꾸어 봅시다. \n",
    "\n",
    "history3 = model3.fit(partial_x_train,\n",
    "                    partial_y_train,\n",
    "                    epochs=epochs,\n",
    "                    batch_size=256,\n",
    "                    validation_data=(x_val, y_val),\n",
    "                    verbose=1,\n",
    "                     callbacks=[early_stop])"
   ]
  },
  {
   "cell_type": "markdown",
   "id": "d7292620",
   "metadata": {},
   "source": [
    "## 모델 훈련 결과\n",
    "\n",
    "- 두가지 LSTM 에서 비슷하게 좋은 결과를 볼 수 있지만 85% 달성 실패\n",
    "- 1D Conv는 LSTM에 비해 아쉬운 결과로 80%를 넘지 못함"
   ]
  },
  {
   "cell_type": "code",
   "execution_count": 13,
   "id": "1fe02170",
   "metadata": {},
   "outputs": [
    {
     "name": "stdout",
     "output_type": "stream",
     "text": [
      "1537/1537 - 3s - loss: 0.4188 - accuracy: 0.7961\n",
      "[0.4188392460346222, 0.7961022853851318]\n"
     ]
    }
   ],
   "source": [
    "# Conv1D with MaxPooling\n",
    "results1 = model1.evaluate(X_test,  y_test, verbose=2)\n",
    "\n",
    "print(results1)"
   ]
  },
  {
   "cell_type": "code",
   "execution_count": 14,
   "id": "35ac4a41",
   "metadata": {},
   "outputs": [
    {
     "name": "stdout",
     "output_type": "stream",
     "text": [
      "1537/1537 - 3s - loss: 0.3438 - accuracy: 0.8474\n",
      "[0.34381917119026184, 0.8474276065826416]\n"
     ]
    }
   ],
   "source": [
    "# LSTM\n",
    "results2 = model2.evaluate(X_test,  y_test, verbose=2)\n",
    "\n",
    "print(results2)"
   ]
  },
  {
   "cell_type": "code",
   "execution_count": 15,
   "id": "db8a4911",
   "metadata": {},
   "outputs": [
    {
     "name": "stdout",
     "output_type": "stream",
     "text": [
      "1537/1537 - 4s - loss: 0.3427 - accuracy: 0.8492\n",
      "[0.342651903629303, 0.8492178320884705]\n"
     ]
    }
   ],
   "source": [
    "# 양방향 LSTM\n",
    "results3 = model3.evaluate(X_test,  y_test, verbose=2)\n",
    "\n",
    "print(results3)"
   ]
  },
  {
   "cell_type": "markdown",
   "id": "67f9e2ed",
   "metadata": {},
   "source": [
    "## Loss, Accuracy 그래프 시각화\n",
    "- Conv1D 의 경우 LSTM보다 validation loss가 증가하는 기울기가 더 빠른 것을 볼 수 있음\n",
    " -> 과대 적합이 더 빠르게 된다고 판단된다. 데이터 순서에 대한 반영이 다르기때문으로 보임\n",
    " "
   ]
  },
  {
   "cell_type": "code",
   "execution_count": 16,
   "id": "956b03a6",
   "metadata": {},
   "outputs": [
    {
     "data": {
      "image/png": "[encoded data removed]",
      "text/plain": [
       "<Figure size 1152x432 with 2 Axes>"
      ]
     },
     "metadata": {
      "needs_background": "light"
     },
     "output_type": "display_data"
    }
   ],
   "source": [
    "# # Conv1D with MaxPooling\n",
    "show_history_graph(history1)"
   ]
  },
  {
   "cell_type": "code",
   "execution_count": 17,
   "id": "8f647535",
   "metadata": {},
   "outputs": [
    {
     "data": {
      "image/png": "[encoded data removed]",
      "text/plain": [
       "<Figure size 1152x432 with 2 Axes>"
      ]
     },
     "metadata": {
      "needs_background": "light"
     },
     "output_type": "display_data"
    }
   ],
   "source": [
    "# LSTM\n",
    "show_history_graph(history2)"
   ]
  },
  {
   "cell_type": "code",
   "execution_count": 18,
   "id": "ab858ef8",
   "metadata": {},
   "outputs": [
    {
     "data": {
      "image/png": "[encoded data removed]",
      "text/plain": [
       "<Figure size 1152x432 with 2 Axes>"
      ]
     },
     "metadata": {
      "needs_background": "light"
     },
     "output_type": "display_data"
    }
   ],
   "source": [
    "# 양방향 LSTM\n",
    "show_history_graph(history3)"
   ]
  },
  {
   "cell_type": "markdown",
   "id": "e0e10157",
   "metadata": {},
   "source": [
    "## 학습된 Embedding 레이어 분석\n",
    "- 자체 학습된 데이터는 리뷰라는 특수 상황만을 반영했기 때문에 의미적 유사성이 일반적이지 않은 것으로 보인다. 영화 평가와 관련이 없는 단어의 경우는 왜 유사 단어로 묶였는지 이해하기 어려운 부분이 많다. 영화 평가와 관련된 단어의 경우 그런 평가의 리뷰를 쓸 때 사용될 수 있는 단어들이 유사 단어로 분류되고 있으나 일반적인 의미에서 유사한 단어는 아닌 경우가 많다.\n",
    "- 사전 학습된 모델의 경우는 계절은 계절끼리 가족관계는 가족관계끼리 그리고 영화 장르도 영화 장르끼리 유사하게 묶여 관계적 분류에 따라서 유사 단어로 되거나 의미적인 부분에서 유사한 부분으로 어느정도 이해가 가는 유사 단어를 보여준다.\n",
    "- 영화 리뷰 분류 작업이라는 특수성이 있으므로 자체 학습 데이터가 무의미한 것은 아닌 것으로 보이나 사전 학습 모델의 의미를 추가해준다면 일반화 성능이 높아질 것으로 기대해 볼 수 있겠다.\n"
   ]
  },
  {
   "cell_type": "code",
   "execution_count": 19,
   "id": "5ecb70fa",
   "metadata": {},
   "outputs": [],
   "source": [
    "# 워드 벡터 분석 준비\n",
    "\n",
    "# 모델별 워드 벡터 파일 저장\n",
    "save_word_vector(model1, w2v_file1)\n",
    "save_word_vector(model2, w2v_file2)\n",
    "save_word_vector(model3, w2v_file3)\n",
    "\n",
    "# 모델별 워드 벡터 로드\n",
    "wv1 = Word2VecKeyedVectors.load_word2vec_format(w2v_file1, binary=False)\n",
    "wv2 = Word2VecKeyedVectors.load_word2vec_format(w2v_file2, binary=False)\n",
    "wv3 = Word2VecKeyedVectors.load_word2vec_format(w2v_file3, binary=False)\n",
    "\n",
    "# 사전 정의된 워드 벡터 로드\n",
    "wv_ko = Word2VecKeyedVectors.load(w2v_ko_file)\n",
    "\n",
    "wvs = {\"model\" : [\"Conv1D\",\"LSTM\",\"Bi-LSTM\",\"wv_ko\"], \"wv\":[wv1,wv2, wv3, wv_ko.wv] }\n",
    "\n",
    "# similar_by_word_per_wv 함수 정의는 위에 "
   ]
  },
  {
   "cell_type": "code",
   "execution_count": 20,
   "id": "3011a052",
   "metadata": {},
   "outputs": [
    {
     "data": {
      "text/html": [
       "<div>\n",
       "<style scoped>\n",
       "    .dataframe tbody tr th:only-of-type {\n",
       "        vertical-align: middle;\n",
       "    }\n",
       "\n",
       "    .dataframe tbody tr th {\n",
       "        vertical-align: top;\n",
       "    }\n",
       "\n",
       "    .dataframe thead th {\n",
       "        text-align: right;\n",
       "    }\n",
       "</style>\n",
       "<table border=\"1\" class=\"dataframe\">\n",
       "  <thead>\n",
       "    <tr style=\"text-align: right;\">\n",
       "      <th></th>\n",
       "      <th>1</th>\n",
       "      <th>2</th>\n",
       "      <th>3</th>\n",
       "      <th>4</th>\n",
       "      <th>5</th>\n",
       "      <th>6</th>\n",
       "      <th>7</th>\n",
       "    </tr>\n",
       "  </thead>\n",
       "  <tbody>\n",
       "    <tr>\n",
       "      <th>Conv1D</th>\n",
       "      <td>긍정-0.5178</td>\n",
       "      <td>줄-0.5047</td>\n",
       "      <td>한방-0.4853</td>\n",
       "      <td>책-0.467</td>\n",
       "      <td>결국-0.4475</td>\n",
       "      <td>냉정-0.4259</td>\n",
       "      <td>나레이션-0.4233</td>\n",
       "    </tr>\n",
       "    <tr>\n",
       "      <th>LSTM</th>\n",
       "      <td>싱크-0.4955</td>\n",
       "      <td>이래저래-0.4305</td>\n",
       "      <td>나눠서-0.4253</td>\n",
       "      <td>어-0.4225</td>\n",
       "      <td>압박-0.4124</td>\n",
       "      <td>수상-0.3829</td>\n",
       "      <td>웨슬리-0.3739</td>\n",
       "    </tr>\n",
       "    <tr>\n",
       "      <th>Bi-LSTM</th>\n",
       "      <td>제길-0.5501</td>\n",
       "      <td>집착-0.5322</td>\n",
       "      <td>짜증-0.5218</td>\n",
       "      <td>톰-0.515</td>\n",
       "      <td>ㅡㅜ-0.5095</td>\n",
       "      <td>숫-0.5032</td>\n",
       "      <td>오죽-0.5024</td>\n",
       "    </tr>\n",
       "    <tr>\n",
       "      <th>wv_ko</th>\n",
       "      <td>조카-0.9233</td>\n",
       "      <td>아들-0.8791</td>\n",
       "      <td>외삼촌-0.8787</td>\n",
       "      <td>남동생-0.8766</td>\n",
       "      <td>친형-0.8748</td>\n",
       "      <td>이복동생-0.8748</td>\n",
       "      <td>삼촌-0.8712</td>\n",
       "    </tr>\n",
       "  </tbody>\n",
       "</table>\n",
       "</div>"
      ],
      "text/plain": [
       "                 1            2           3           4          5  \\\n",
       "Conv1D   긍정-0.5178     줄-0.5047   한방-0.4853     책-0.467  결국-0.4475   \n",
       "LSTM     싱크-0.4955  이래저래-0.4305  나눠서-0.4253    어-0.4225  압박-0.4124   \n",
       "Bi-LSTM  제길-0.5501    집착-0.5322   짜증-0.5218     톰-0.515  ㅡㅜ-0.5095   \n",
       "wv_ko    조카-0.9233    아들-0.8791  외삼촌-0.8787  남동생-0.8766  친형-0.8748   \n",
       "\n",
       "                   6            7  \n",
       "Conv1D     냉정-0.4259  나레이션-0.4233  \n",
       "LSTM       수상-0.3829   웨슬리-0.3739  \n",
       "Bi-LSTM     숫-0.5032    오죽-0.5024  \n",
       "wv_ko    이복동생-0.8748    삼촌-0.8712  "
      ]
     },
     "execution_count": 20,
     "metadata": {},
     "output_type": "execute_result"
    }
   ],
   "source": [
    "similar_by_word_per_wv(wvs, \"동생\")"
   ]
  },
  {
   "cell_type": "code",
   "execution_count": 21,
   "id": "42f112d9",
   "metadata": {
    "scrolled": true
   },
   "outputs": [
    {
     "data": {
      "text/html": [
       "<div>\n",
       "<style scoped>\n",
       "    .dataframe tbody tr th:only-of-type {\n",
       "        vertical-align: middle;\n",
       "    }\n",
       "\n",
       "    .dataframe tbody tr th {\n",
       "        vertical-align: top;\n",
       "    }\n",
       "\n",
       "    .dataframe thead th {\n",
       "        text-align: right;\n",
       "    }\n",
       "</style>\n",
       "<table border=\"1\" class=\"dataframe\">\n",
       "  <thead>\n",
       "    <tr style=\"text-align: right;\">\n",
       "      <th></th>\n",
       "      <th>1</th>\n",
       "      <th>2</th>\n",
       "      <th>3</th>\n",
       "      <th>4</th>\n",
       "      <th>5</th>\n",
       "      <th>6</th>\n",
       "      <th>7</th>\n",
       "    </tr>\n",
       "  </thead>\n",
       "  <tbody>\n",
       "    <tr>\n",
       "      <th>Conv1D</th>\n",
       "      <td>ㅎㅎ-0.8441</td>\n",
       "      <td>이제야-0.822</td>\n",
       "      <td>탄탄-0.821</td>\n",
       "      <td>가히-0.8204</td>\n",
       "      <td>미소-0.8194</td>\n",
       "      <td>흠뻑-0.8187</td>\n",
       "      <td>입가-0.8181</td>\n",
       "    </tr>\n",
       "    <tr>\n",
       "      <th>LSTM</th>\n",
       "      <td>남긴다-0.7448</td>\n",
       "      <td>엄청-0.7365</td>\n",
       "      <td>봐도-0.7349</td>\n",
       "      <td>채워-0.7269</td>\n",
       "      <td>잼-0.722</td>\n",
       "      <td>모임-0.7201</td>\n",
       "      <td>흘러가-0.7097</td>\n",
       "    </tr>\n",
       "    <tr>\n",
       "      <th>Bi-LSTM</th>\n",
       "      <td>이웃-0.7832</td>\n",
       "      <td>봐도-0.7759</td>\n",
       "      <td>수수-0.7592</td>\n",
       "      <td>숫자-0.7435</td>\n",
       "      <td>흘러가-0.7361</td>\n",
       "      <td>물질-0.7322</td>\n",
       "      <td>행동-0.7314</td>\n",
       "    </tr>\n",
       "    <tr>\n",
       "      <th>wv_ko</th>\n",
       "      <td>가을-0.9201</td>\n",
       "      <td>여름-0.8531</td>\n",
       "      <td>겨울-0.8039</td>\n",
       "      <td>초여름-0.7416</td>\n",
       "      <td>늦여름-0.7038</td>\n",
       "      <td>늦가을-0.6825</td>\n",
       "      <td>초겨울-0.6319</td>\n",
       "    </tr>\n",
       "  </tbody>\n",
       "</table>\n",
       "</div>"
      ],
      "text/plain": [
       "                  1          2          3           4           5           6  \\\n",
       "Conv1D    ㅎㅎ-0.8441  이제야-0.822   탄탄-0.821   가히-0.8204   미소-0.8194   흠뻑-0.8187   \n",
       "LSTM     남긴다-0.7448  엄청-0.7365  봐도-0.7349   채워-0.7269     잼-0.722   모임-0.7201   \n",
       "Bi-LSTM   이웃-0.7832  봐도-0.7759  수수-0.7592   숫자-0.7435  흘러가-0.7361   물질-0.7322   \n",
       "wv_ko     가을-0.9201  여름-0.8531  겨울-0.8039  초여름-0.7416  늦여름-0.7038  늦가을-0.6825   \n",
       "\n",
       "                  7  \n",
       "Conv1D    입가-0.8181  \n",
       "LSTM     흘러가-0.7097  \n",
       "Bi-LSTM   행동-0.7314  \n",
       "wv_ko    초겨울-0.6319  "
      ]
     },
     "execution_count": 21,
     "metadata": {},
     "output_type": "execute_result"
    }
   ],
   "source": [
    "similar_by_word_per_wv(wvs, \"봄\")"
   ]
  },
  {
   "cell_type": "code",
   "execution_count": 22,
   "id": "c771461a",
   "metadata": {},
   "outputs": [
    {
     "data": {
      "text/html": [
       "<div>\n",
       "<style scoped>\n",
       "    .dataframe tbody tr th:only-of-type {\n",
       "        vertical-align: middle;\n",
       "    }\n",
       "\n",
       "    .dataframe tbody tr th {\n",
       "        vertical-align: top;\n",
       "    }\n",
       "\n",
       "    .dataframe thead th {\n",
       "        text-align: right;\n",
       "    }\n",
       "</style>\n",
       "<table border=\"1\" class=\"dataframe\">\n",
       "  <thead>\n",
       "    <tr style=\"text-align: right;\">\n",
       "      <th></th>\n",
       "      <th>1</th>\n",
       "      <th>2</th>\n",
       "      <th>3</th>\n",
       "      <th>4</th>\n",
       "      <th>5</th>\n",
       "      <th>6</th>\n",
       "      <th>7</th>\n",
       "    </tr>\n",
       "  </thead>\n",
       "  <tbody>\n",
       "    <tr>\n",
       "      <th>Conv1D</th>\n",
       "      <td>아까움-0.9489</td>\n",
       "      <td>아까-0.9478</td>\n",
       "      <td>헛웃음-0.9468</td>\n",
       "      <td>느니-0.9445</td>\n",
       "      <td>개뿔-0.9436</td>\n",
       "      <td>돌렸-0.9435</td>\n",
       "      <td>그닥-0.9434</td>\n",
       "    </tr>\n",
       "    <tr>\n",
       "      <th>LSTM</th>\n",
       "      <td>낚였-0.9721</td>\n",
       "      <td>조악-0.9709</td>\n",
       "      <td>하품-0.9672</td>\n",
       "      <td>낭비-0.9667</td>\n",
       "      <td>boring-0.9663</td>\n",
       "      <td>유치원생-0.9632</td>\n",
       "      <td>부실-0.9628</td>\n",
       "    </tr>\n",
       "    <tr>\n",
       "      <th>Bi-LSTM</th>\n",
       "      <td>낭비-0.9744</td>\n",
       "      <td>그다지-0.97</td>\n",
       "      <td>짝퉁-0.9694</td>\n",
       "      <td>조악-0.9678</td>\n",
       "      <td>개콘-0.9657</td>\n",
       "      <td>차라리-0.9648</td>\n",
       "      <td>하품-0.9648</td>\n",
       "    </tr>\n",
       "    <tr>\n",
       "      <th>wv_ko</th>\n",
       "      <td>전대미문-0.647</td>\n",
       "      <td>초유-0.629</td>\n",
       "      <td>최고-0.6104</td>\n",
       "      <td>희대-0.5654</td>\n",
       "      <td>뜻밖-0.56</td>\n",
       "      <td>엄청난-0.5393</td>\n",
       "      <td>최저-0.5323</td>\n",
       "    </tr>\n",
       "  </tbody>\n",
       "</table>\n",
       "</div>"
      ],
      "text/plain": [
       "                  1          2           3          4              5  \\\n",
       "Conv1D   아까움-0.9489  아까-0.9478  헛웃음-0.9468  느니-0.9445      개뿔-0.9436   \n",
       "LSTM      낚였-0.9721  조악-0.9709   하품-0.9672  낭비-0.9667  boring-0.9663   \n",
       "Bi-LSTM   낭비-0.9744   그다지-0.97   짝퉁-0.9694  조악-0.9678      개콘-0.9657   \n",
       "wv_ko    전대미문-0.647   초유-0.629   최고-0.6104  희대-0.5654        뜻밖-0.56   \n",
       "\n",
       "                   6          7  \n",
       "Conv1D     돌렸-0.9435  그닥-0.9434  \n",
       "LSTM     유치원생-0.9632  부실-0.9628  \n",
       "Bi-LSTM   차라리-0.9648  하품-0.9648  \n",
       "wv_ko     엄청난-0.5393  최저-0.5323  "
      ]
     },
     "execution_count": 22,
     "metadata": {},
     "output_type": "execute_result"
    }
   ],
   "source": [
    "similar_by_word_per_wv(wvs,\"최악\")"
   ]
  },
  {
   "cell_type": "code",
   "execution_count": 23,
   "id": "7623aa75",
   "metadata": {},
   "outputs": [
    {
     "data": {
      "text/html": [
       "<div>\n",
       "<style scoped>\n",
       "    .dataframe tbody tr th:only-of-type {\n",
       "        vertical-align: middle;\n",
       "    }\n",
       "\n",
       "    .dataframe tbody tr th {\n",
       "        vertical-align: top;\n",
       "    }\n",
       "\n",
       "    .dataframe thead th {\n",
       "        text-align: right;\n",
       "    }\n",
       "</style>\n",
       "<table border=\"1\" class=\"dataframe\">\n",
       "  <thead>\n",
       "    <tr style=\"text-align: right;\">\n",
       "      <th></th>\n",
       "      <th>1</th>\n",
       "      <th>2</th>\n",
       "      <th>3</th>\n",
       "      <th>4</th>\n",
       "      <th>5</th>\n",
       "      <th>6</th>\n",
       "      <th>7</th>\n",
       "    </tr>\n",
       "  </thead>\n",
       "  <tbody>\n",
       "    <tr>\n",
       "      <th>Conv1D</th>\n",
       "      <td>신들린-0.8834</td>\n",
       "      <td>귀여워-0.8621</td>\n",
       "      <td>틈-0.8593</td>\n",
       "      <td>프렌즈-0.8551</td>\n",
       "      <td>뿌듯-0.8539</td>\n",
       "      <td>미소-0.8516</td>\n",
       "      <td>웰메이드-0.8512</td>\n",
       "    </tr>\n",
       "    <tr>\n",
       "      <th>LSTM</th>\n",
       "      <td>쵝오-0.8722</td>\n",
       "      <td>헌신-0.8714</td>\n",
       "      <td>정윤희-0.8707</td>\n",
       "      <td>유쾌-0.8634</td>\n",
       "      <td>레전드-0.8572</td>\n",
       "      <td>틈-0.8565</td>\n",
       "      <td>감독판-0.8559</td>\n",
       "    </tr>\n",
       "    <tr>\n",
       "      <th>Bi-LSTM</th>\n",
       "      <td>손색-0.9072</td>\n",
       "      <td>뗄-0.8818</td>\n",
       "      <td>후편-0.8814</td>\n",
       "      <td>훈훈-0.8788</td>\n",
       "      <td>웃겨요-0.8772</td>\n",
       "      <td>살아가-0.8747</td>\n",
       "      <td>귀여워-0.8744</td>\n",
       "    </tr>\n",
       "    <tr>\n",
       "      <th>wv_ko</th>\n",
       "      <td>올바른-0.6504</td>\n",
       "      <td>본연-0.6309</td>\n",
       "      <td>최적-0.6016</td>\n",
       "      <td>개개인-0.575</td>\n",
       "      <td>최선-0.5638</td>\n",
       "      <td>제고-0.5471</td>\n",
       "      <td>양질-0.5419</td>\n",
       "    </tr>\n",
       "  </tbody>\n",
       "</table>\n",
       "</div>"
      ],
      "text/plain": [
       "                  1           2           3           4           5  \\\n",
       "Conv1D   신들린-0.8834  귀여워-0.8621    틈-0.8593  프렌즈-0.8551   뿌듯-0.8539   \n",
       "LSTM      쵝오-0.8722   헌신-0.8714  정윤희-0.8707   유쾌-0.8634  레전드-0.8572   \n",
       "Bi-LSTM   손색-0.9072    뗄-0.8818   후편-0.8814   훈훈-0.8788  웃겨요-0.8772   \n",
       "wv_ko    올바른-0.6504   본연-0.6309   최적-0.6016   개개인-0.575   최선-0.5638   \n",
       "\n",
       "                  6            7  \n",
       "Conv1D    미소-0.8516  웰메이드-0.8512  \n",
       "LSTM       틈-0.8565   감독판-0.8559  \n",
       "Bi-LSTM  살아가-0.8747   귀여워-0.8744  \n",
       "wv_ko     제고-0.5471    양질-0.5419  "
      ]
     },
     "execution_count": 23,
     "metadata": {},
     "output_type": "execute_result"
    }
   ],
   "source": [
    "similar_by_word_per_wv(wvs,\"최상\")"
   ]
  },
  {
   "cell_type": "code",
   "execution_count": 24,
   "id": "9de3da96",
   "metadata": {},
   "outputs": [
    {
     "data": {
      "text/html": [
       "<div>\n",
       "<style scoped>\n",
       "    .dataframe tbody tr th:only-of-type {\n",
       "        vertical-align: middle;\n",
       "    }\n",
       "\n",
       "    .dataframe tbody tr th {\n",
       "        vertical-align: top;\n",
       "    }\n",
       "\n",
       "    .dataframe thead th {\n",
       "        text-align: right;\n",
       "    }\n",
       "</style>\n",
       "<table border=\"1\" class=\"dataframe\">\n",
       "  <thead>\n",
       "    <tr style=\"text-align: right;\">\n",
       "      <th></th>\n",
       "      <th>1</th>\n",
       "      <th>2</th>\n",
       "      <th>3</th>\n",
       "      <th>4</th>\n",
       "      <th>5</th>\n",
       "      <th>6</th>\n",
       "      <th>7</th>\n",
       "    </tr>\n",
       "  </thead>\n",
       "  <tbody>\n",
       "    <tr>\n",
       "      <th>Conv1D</th>\n",
       "      <td>둔-0.5084</td>\n",
       "      <td>칼-0.4835</td>\n",
       "      <td>상속자-0.4824</td>\n",
       "      <td>마이너-0.4706</td>\n",
       "      <td>특공대-0.4695</td>\n",
       "      <td>안중근-0.4402</td>\n",
       "      <td>희대-0.4369</td>\n",
       "    </tr>\n",
       "    <tr>\n",
       "      <th>LSTM</th>\n",
       "      <td>세기-0.5227</td>\n",
       "      <td>편승-0.449</td>\n",
       "      <td>심지어-0.4426</td>\n",
       "      <td>실력-0.4236</td>\n",
       "      <td>단막극-0.4218</td>\n",
       "      <td>핑-0.4216</td>\n",
       "      <td>단조로운-0.4125</td>\n",
       "    </tr>\n",
       "    <tr>\n",
       "      <th>Bi-LSTM</th>\n",
       "      <td>실소-0.697</td>\n",
       "      <td>빡-0.6836</td>\n",
       "      <td>...;;;-0.6628</td>\n",
       "      <td>독수리-0.6582</td>\n",
       "      <td>더러워-0.6532</td>\n",
       "      <td>망친다-0.6523</td>\n",
       "      <td>진부-0.6517</td>\n",
       "    </tr>\n",
       "    <tr>\n",
       "      <th>wv_ko</th>\n",
       "      <td>스릴러-0.8268</td>\n",
       "      <td>드라마-0.7935</td>\n",
       "      <td>미스터리-0.7878</td>\n",
       "      <td>로맨스-0.7693</td>\n",
       "      <td>영화-0.7489</td>\n",
       "      <td>액션-0.743</td>\n",
       "      <td>로맨틱-0.7338</td>\n",
       "    </tr>\n",
       "  </tbody>\n",
       "</table>\n",
       "</div>"
      ],
      "text/plain": [
       "                  1           2              3           4           5  \\\n",
       "Conv1D     둔-0.5084    칼-0.4835     상속자-0.4824  마이너-0.4706  특공대-0.4695   \n",
       "LSTM      세기-0.5227    편승-0.449     심지어-0.4426   실력-0.4236  단막극-0.4218   \n",
       "Bi-LSTM    실소-0.697    빡-0.6836  ...;;;-0.6628  독수리-0.6582  더러워-0.6532   \n",
       "wv_ko    스릴러-0.8268  드라마-0.7935    미스터리-0.7878  로맨스-0.7693   영화-0.7489   \n",
       "\n",
       "                  6            7  \n",
       "Conv1D   안중근-0.4402    희대-0.4369  \n",
       "LSTM       핑-0.4216  단조로운-0.4125  \n",
       "Bi-LSTM  망친다-0.6523    진부-0.6517  \n",
       "wv_ko      액션-0.743   로맨틱-0.7338  "
      ]
     },
     "execution_count": 24,
     "metadata": {},
     "output_type": "execute_result"
    }
   ],
   "source": [
    "similar_by_word_per_wv(wvs,\"코미디\")"
   ]
  },
  {
   "cell_type": "markdown",
   "id": "2f67798b",
   "metadata": {},
   "source": [
    "## 한국어 Word2Vec 임베딩 활용하여 성능 개선\n",
    "- 기존 3개의 모델에 사전 훈련된 임베딩 적용 \n"
   ]
  },
  {
   "cell_type": "code",
   "execution_count": 25,
   "id": "a7204900",
   "metadata": {},
   "outputs": [
    {
     "data": {
      "text/plain": [
       "(302960, 100)"
      ]
     },
     "execution_count": 25,
     "metadata": {},
     "output_type": "execute_result"
    }
   ],
   "source": [
    "# 사전 정의 모델의 임베딩 단어 차원 확인 - 100 차원\n",
    "wv_ko.wv.vectors.shape\n"
   ]
  },
  {
   "cell_type": "markdown",
   "id": "078d710e",
   "metadata": {},
   "source": [
    "### 임베딩 메트릭스 생성"
   ]
  },
  {
   "cell_type": "code",
   "execution_count": 26,
   "id": "d5664438",
   "metadata": {},
   "outputs": [],
   "source": [
    "\n",
    "word_vector_dim = wv_ko.wv.vectors.shape[1]   # 워드 벡터의 차원수 ( 가져온 모델의 차원수로 변경)\n",
    "\n",
    "embedding_matrix = np.random.rand(vocab_size, word_vector_dim)\n",
    "\n",
    "# embedding_matrix에 Word2Vec 워드 벡터를 단어 하나씩마다 차례차례 카피한다.\n",
    "for i in range(4,vocab_size):\n",
    "    if index_to_word[i] in wv_ko.wv:\n",
    "        embedding_matrix[i] = wv_ko.wv[index_to_word[i]]"
   ]
  },
  {
   "cell_type": "markdown",
   "id": "c1c5dfc0",
   "metadata": {},
   "source": [
    "### 모델 준비 (한국어 Word2Vec 임베딩 적용)"
   ]
  },
  {
   "cell_type": "code",
   "execution_count": 27,
   "id": "60b5fbc9",
   "metadata": {},
   "outputs": [
    {
     "name": "stdout",
     "output_type": "stream",
     "text": [
      "Model: \"sequential_3\"\n",
      "_________________________________________________________________\n",
      "Layer (type)                 Output Shape              Param #   \n",
      "=================================================================\n",
      "embedding_3 (Embedding)      (None, 41, 100)           1000000   \n",
      "_________________________________________________________________\n",
      "conv1d_2 (Conv1D)            (None, 35, 32)            22432     \n",
      "_________________________________________________________________\n",
      "max_pooling1d_1 (MaxPooling1 (None, 8, 32)             0         \n",
      "_________________________________________________________________\n",
      "conv1d_3 (Conv1D)            (None, 2, 32)             7200      \n",
      "_________________________________________________________________\n",
      "global_max_pooling1d_1 (Glob (None, 32)                0         \n",
      "_________________________________________________________________\n",
      "dense_6 (Dense)              (None, 16)                528       \n",
      "_________________________________________________________________\n",
      "dropout_3 (Dropout)          (None, 16)                0         \n",
      "_________________________________________________________________\n",
      "dense_7 (Dense)              (None, 1)                 17        \n",
      "=================================================================\n",
      "Total params: 1,030,177\n",
      "Trainable params: 1,030,177\n",
      "Non-trainable params: 0\n",
      "_________________________________________________________________\n"
     ]
    }
   ],
   "source": [
    "# Conv1D with MaxPooling\n",
    "model4 = tf.keras.Sequential()\n",
    "model4.add(tf.keras.layers.Embedding(vocab_size, \n",
    "                                 word_vector_dim, \n",
    "                                 embeddings_initializer=Constant(embedding_matrix),  # 카피한 임베딩을 여기서 활용\n",
    "                                 input_length=maxlen, \n",
    "                                 trainable=True))   # trainable을 True로 주면 Fine-tuning\n",
    "model4.add(tf.keras.layers.Conv1D(32, 7, activation='relu'))\n",
    "model4.add(tf.keras.layers.MaxPooling1D(4))\n",
    "model4.add(tf.keras.layers.Conv1D(32, 7, activation='relu'))\n",
    "model4.add(tf.keras.layers.GlobalMaxPooling1D())\n",
    "model4.add(tf.keras.layers.Dense(16, activation='relu'))\n",
    "model4.add(tf.keras.layers.Dropout(0.5))\n",
    "model4.add(tf.keras.layers.Dense(1, activation='sigmoid'))  # 최종 출력은 긍정/부정을 나타내는 1dim 입니다.\n",
    "\n",
    "model4.summary()"
   ]
  },
  {
   "cell_type": "code",
   "execution_count": 28,
   "id": "4a46f35f",
   "metadata": {},
   "outputs": [
    {
     "name": "stdout",
     "output_type": "stream",
     "text": [
      "Model: \"sequential_4\"\n",
      "_________________________________________________________________\n",
      "Layer (type)                 Output Shape              Param #   \n",
      "=================================================================\n",
      "embedding_4 (Embedding)      (None, 41, 100)           1000000   \n",
      "_________________________________________________________________\n",
      "lstm_2 (LSTM)                (None, 32)                17024     \n",
      "_________________________________________________________________\n",
      "dense_8 (Dense)              (None, 16)                528       \n",
      "_________________________________________________________________\n",
      "dropout_4 (Dropout)          (None, 16)                0         \n",
      "_________________________________________________________________\n",
      "dense_9 (Dense)              (None, 1)                 17        \n",
      "=================================================================\n",
      "Total params: 1,017,569\n",
      "Trainable params: 1,017,569\n",
      "Non-trainable params: 0\n",
      "_________________________________________________________________\n"
     ]
    }
   ],
   "source": [
    "# LSTM\n",
    "model5 = tf.keras.Sequential()\n",
    "model5.add(tf.keras.layers.Embedding(vocab_size, \n",
    "                                 word_vector_dim, \n",
    "                                 embeddings_initializer=Constant(embedding_matrix),  # 카피한 임베딩을 여기서 활용\n",
    "                                 input_length=maxlen, \n",
    "                                 trainable=True))   # trainable을 True로 주면 Fine-tuning\n",
    "model5.add(tf.keras.layers.LSTM(32))\n",
    "model5.add(tf.keras.layers.Dense(16, activation='relu'))\n",
    "model5.add(tf.keras.layers.Dropout(0.5))\n",
    "model5.add(tf.keras.layers.Dense(1, activation='sigmoid'))\n",
    "\n",
    "model5.summary()"
   ]
  },
  {
   "cell_type": "code",
   "execution_count": 29,
   "id": "568b46fb",
   "metadata": {},
   "outputs": [
    {
     "name": "stdout",
     "output_type": "stream",
     "text": [
      "Model: \"sequential_5\"\n",
      "_________________________________________________________________\n",
      "Layer (type)                 Output Shape              Param #   \n",
      "=================================================================\n",
      "embedding_5 (Embedding)      (None, 41, 100)           1000000   \n",
      "_________________________________________________________________\n",
      "bidirectional_1 (Bidirection (None, 64)                34048     \n",
      "_________________________________________________________________\n",
      "dense_10 (Dense)             (None, 16)                1040      \n",
      "_________________________________________________________________\n",
      "dropout_5 (Dropout)          (None, 16)                0         \n",
      "_________________________________________________________________\n",
      "dense_11 (Dense)             (None, 1)                 17        \n",
      "=================================================================\n",
      "Total params: 1,035,105\n",
      "Trainable params: 1,035,105\n",
      "Non-trainable params: 0\n",
      "_________________________________________________________________\n"
     ]
    }
   ],
   "source": [
    "# 양방향 LSTM\n",
    "model6 = tf.keras.Sequential()\n",
    "model6.add(tf.keras.layers.Embedding(vocab_size, \n",
    "                                 word_vector_dim, \n",
    "                                 embeddings_initializer=Constant(embedding_matrix),  # 카피한 임베딩을 여기서 활용\n",
    "                                 input_length=maxlen, \n",
    "                                 trainable=True))   # trainable을 True로 주면 Fine-tuning\n",
    "model6.add(tf.keras.layers.Bidirectional(tf.keras.layers.LSTM(32)))\n",
    "model6.add(tf.keras.layers.Dense(16, activation='relu'))\n",
    "model6.add(tf.keras.layers.Dropout(0.5))\n",
    "model6.add(tf.keras.layers.Dense(1, activation='sigmoid'))\n",
    "model6.summary()"
   ]
  },
  {
   "cell_type": "markdown",
   "id": "85c2e9ce",
   "metadata": {},
   "source": [
    "### 모델 훈련 (한국어 Word2Vec 임베딩 적용)"
   ]
  },
  {
   "cell_type": "code",
   "execution_count": 30,
   "id": "baa6ae54",
   "metadata": {},
   "outputs": [
    {
     "name": "stdout",
     "output_type": "stream",
     "text": [
      "Epoch 1/20\n",
      "457/457 [==============================] - 3s 6ms/step - loss: 0.6457 - accuracy: 0.6147 - val_loss: 0.5590 - val_accuracy: 0.7092\n",
      "Epoch 2/20\n",
      "457/457 [==============================] - 2s 5ms/step - loss: 0.5387 - accuracy: 0.7281 - val_loss: 0.5041 - val_accuracy: 0.7503\n",
      "Epoch 3/20\n",
      "457/457 [==============================] - 2s 5ms/step - loss: 0.4853 - accuracy: 0.7622 - val_loss: 0.4663 - val_accuracy: 0.7685\n",
      "Epoch 4/20\n",
      "457/457 [==============================] - 2s 5ms/step - loss: 0.4496 - accuracy: 0.7844 - val_loss: 0.4530 - val_accuracy: 0.7777\n",
      "Epoch 5/20\n",
      "457/457 [==============================] - 2s 5ms/step - loss: 0.4229 - accuracy: 0.8036 - val_loss: 0.4441 - val_accuracy: 0.7855\n",
      "Epoch 6/20\n",
      "457/457 [==============================] - 2s 5ms/step - loss: 0.3975 - accuracy: 0.8164 - val_loss: 0.4647 - val_accuracy: 0.7738\n",
      "Epoch 7/20\n",
      "457/457 [==============================] - 2s 5ms/step - loss: 0.3770 - accuracy: 0.8257 - val_loss: 0.4488 - val_accuracy: 0.7852\n",
      "Epoch 8/20\n",
      "457/457 [==============================] - 2s 5ms/step - loss: 0.3574 - accuracy: 0.8359 - val_loss: 0.4621 - val_accuracy: 0.7866\n"
     ]
    }
   ],
   "source": [
    "# Conv1D with MaxPooling\n",
    "model4.compile(optimizer='adam',\n",
    "              loss='binary_crossentropy',\n",
    "              metrics=['accuracy'])\n",
    "              \n",
    "epochs=20  # 몇 epoch를 훈련하면 좋을지 결과를 보면서 바꾸어 봅시다. \n",
    "\n",
    "\n",
    "early_stop = tf.keras.callbacks.EarlyStopping(monitor='val_loss', patience=3, restore_best_weights=True)\n",
    "\n",
    "\n",
    "history4 = model4.fit(partial_x_train,\n",
    "                    partial_y_train,\n",
    "                    epochs=epochs,\n",
    "                    batch_size=256,\n",
    "                    validation_data=(x_val, y_val),\n",
    "                    verbose=1,\n",
    "                     callbacks=[early_stop])"
   ]
  },
  {
   "cell_type": "code",
   "execution_count": 31,
   "id": "f801f368",
   "metadata": {},
   "outputs": [
    {
     "name": "stdout",
     "output_type": "stream",
     "text": [
      "Epoch 1/20\n",
      "457/457 [==============================] - 4s 6ms/step - loss: 0.5309 - accuracy: 0.7317 - val_loss: 0.3940 - val_accuracy: 0.8239\n",
      "Epoch 2/20\n",
      "457/457 [==============================] - 3s 6ms/step - loss: 0.3941 - accuracy: 0.8332 - val_loss: 0.3504 - val_accuracy: 0.8486\n",
      "Epoch 3/20\n",
      "457/457 [==============================] - 3s 6ms/step - loss: 0.3492 - accuracy: 0.8567 - val_loss: 0.3408 - val_accuracy: 0.8498\n",
      "Epoch 4/20\n",
      "457/457 [==============================] - 3s 6ms/step - loss: 0.3241 - accuracy: 0.8690 - val_loss: 0.3350 - val_accuracy: 0.8538\n",
      "Epoch 5/20\n",
      "457/457 [==============================] - 3s 6ms/step - loss: 0.3029 - accuracy: 0.8786 - val_loss: 0.3349 - val_accuracy: 0.8572\n",
      "Epoch 6/20\n",
      "457/457 [==============================] - 3s 6ms/step - loss: 0.2882 - accuracy: 0.8861 - val_loss: 0.3407 - val_accuracy: 0.8571\n",
      "Epoch 7/20\n",
      "457/457 [==============================] - 3s 6ms/step - loss: 0.2747 - accuracy: 0.8916 - val_loss: 0.3358 - val_accuracy: 0.8583\n",
      "Epoch 8/20\n",
      "457/457 [==============================] - 3s 6ms/step - loss: 0.2605 - accuracy: 0.8986 - val_loss: 0.3402 - val_accuracy: 0.8584\n"
     ]
    }
   ],
   "source": [
    "# LSTM\n",
    "model5.compile(optimizer='adam',\n",
    "              loss='binary_crossentropy',\n",
    "              metrics=['accuracy'])\n",
    "              \n",
    "epochs=20  # 몇 epoch를 훈련하면 좋을지 결과를 보면서 바꾸어 봅시다. \n",
    "\n",
    "\n",
    "early_stop = tf.keras.callbacks.EarlyStopping(monitor='val_loss', patience=3, restore_best_weights=True)\n",
    "\n",
    "\n",
    "history5 = model5.fit(partial_x_train,\n",
    "                    partial_y_train,\n",
    "                    epochs=epochs,\n",
    "                    batch_size=256,\n",
    "                    validation_data=(x_val, y_val),\n",
    "                    verbose=1,\n",
    "                     callbacks=[early_stop])"
   ]
  },
  {
   "cell_type": "code",
   "execution_count": 32,
   "id": "6b343819",
   "metadata": {},
   "outputs": [
    {
     "name": "stdout",
     "output_type": "stream",
     "text": [
      "Epoch 1/20\n",
      "457/457 [==============================] - 7s 9ms/step - loss: 0.5232 - accuracy: 0.7362 - val_loss: 0.3954 - val_accuracy: 0.8208\n",
      "Epoch 2/20\n",
      "457/457 [==============================] - 3s 8ms/step - loss: 0.3925 - accuracy: 0.8336 - val_loss: 0.3571 - val_accuracy: 0.8409\n",
      "Epoch 3/20\n",
      "457/457 [==============================] - 3s 8ms/step - loss: 0.3498 - accuracy: 0.8549 - val_loss: 0.3406 - val_accuracy: 0.8505\n",
      "Epoch 4/20\n",
      "457/457 [==============================] - 3s 8ms/step - loss: 0.3212 - accuracy: 0.8690 - val_loss: 0.3379 - val_accuracy: 0.8533\n",
      "Epoch 5/20\n",
      "457/457 [==============================] - 3s 8ms/step - loss: 0.3010 - accuracy: 0.8783 - val_loss: 0.3350 - val_accuracy: 0.8554\n",
      "Epoch 6/20\n",
      "457/457 [==============================] - 4s 8ms/step - loss: 0.2854 - accuracy: 0.8866 - val_loss: 0.3376 - val_accuracy: 0.8573\n",
      "Epoch 7/20\n",
      "457/457 [==============================] - 3s 8ms/step - loss: 0.2709 - accuracy: 0.8932 - val_loss: 0.3480 - val_accuracy: 0.8552\n",
      "Epoch 8/20\n",
      "457/457 [==============================] - 4s 8ms/step - loss: 0.2557 - accuracy: 0.9004 - val_loss: 0.3525 - val_accuracy: 0.8558\n"
     ]
    }
   ],
   "source": [
    "# 양방향 LSTM\n",
    "model6.compile(optimizer='adam',\n",
    "              loss='binary_crossentropy',\n",
    "              metrics=['accuracy'])\n",
    "              \n",
    "epochs=20  # 몇 epoch를 훈련하면 좋을지 결과를 보면서 바꾸어 봅시다. \n",
    "\n",
    "\n",
    "early_stop = tf.keras.callbacks.EarlyStopping(monitor='val_loss', patience=3, restore_best_weights=True)\n",
    "\n",
    "\n",
    "history6 = model6.fit(partial_x_train,\n",
    "                    partial_y_train,\n",
    "                    epochs=epochs,\n",
    "                    batch_size=256,\n",
    "                    validation_data=(x_val, y_val),\n",
    "                    verbose=1,\n",
    "                     callbacks=[early_stop])"
   ]
  },
  {
   "cell_type": "markdown",
   "id": "ecca9464",
   "metadata": {},
   "source": [
    "### 훈련 결과 확인 (한국어 Word2Vec 임베딩 적용)\n",
    "- Conv1D의 경우 오히려 결과가 안좋아짐 정확하진 않으나 순서에 대한 반영이 떨어지는 conv1d의 특성으로 인한 것이 아닐까 생각됨\n",
    "- LSTM 의 경우 85% 달성하였으나 정확도 향상이 기대보다는 떨어짐 \n",
    "- 낮은 향상의 원인 및 개선까지 하고싶었으나 시간부족 (LMS에 잘 적용하면 5% 향상된다고 써있어서...)"
   ]
  },
  {
   "cell_type": "code",
   "execution_count": 33,
   "id": "776cb533",
   "metadata": {},
   "outputs": [
    {
     "name": "stdout",
     "output_type": "stream",
     "text": [
      "1537/1537 - 3s - loss: 0.4527 - accuracy: 0.7799\n",
      "[0.45274078845977783, 0.7799092531204224]\n"
     ]
    }
   ],
   "source": [
    "# Conv1D with MaxPooling\n",
    "results4 = model4.evaluate(X_test,  y_test, verbose=2)\n",
    "\n",
    "print(results4)"
   ]
  },
  {
   "cell_type": "code",
   "execution_count": 34,
   "id": "b6780223",
   "metadata": {},
   "outputs": [
    {
     "name": "stdout",
     "output_type": "stream",
     "text": [
      "1537/1537 - 3s - loss: 0.3452 - accuracy: 0.8539\n",
      "[0.3452270030975342, 0.8539373874664307]\n"
     ]
    }
   ],
   "source": [
    "# LSTM\n",
    "results5 = model5.evaluate(X_test,  y_test, verbose=2)\n",
    "\n",
    "print(results5)"
   ]
  },
  {
   "cell_type": "code",
   "execution_count": 35,
   "id": "87f11668",
   "metadata": {},
   "outputs": [
    {
     "name": "stdout",
     "output_type": "stream",
     "text": [
      "1537/1537 - 4s - loss: 0.3426 - accuracy: 0.8542\n",
      "[0.34258806705474854, 0.8542425036430359]\n"
     ]
    }
   ],
   "source": [
    "# 양방향 LSTM\n",
    "results6 = model6.evaluate(X_test,  y_test, verbose=2)\n",
    "\n",
    "print(results6)"
   ]
  },
  {
   "cell_type": "markdown",
   "id": "0a849ae7",
   "metadata": {},
   "source": [
    "### Loss, Accuracy 그래프 시각화\n",
    "- 모든 그래프에서 과적합되는 기울기가 줄어든 것을 확인할 수 있다.\n",
    " -> 일반화가 더 잘될 것이라는 예상이 맞는 것으로 보인다.\n",
    " "
   ]
  },
  {
   "cell_type": "code",
   "execution_count": 36,
   "id": "61c3e58b",
   "metadata": {},
   "outputs": [
    {
     "data": {
      "image/png": "[encoded data removed]",
      "text/plain": [
       "<Figure size 1152x432 with 2 Axes>"
      ]
     },
     "metadata": {
      "needs_background": "light"
     },
     "output_type": "display_data"
    }
   ],
   "source": [
    "# Conv1D with MaxPooling\n",
    "show_history_graph(history4)"
   ]
  },
  {
   "cell_type": "code",
   "execution_count": 37,
   "id": "28710a36",
   "metadata": {},
   "outputs": [
    {
     "data": {
      "image/png": "[encoded data removed]",
      "text/plain": [
       "<Figure size 1152x432 with 2 Axes>"
      ]
     },
     "metadata": {
      "needs_background": "light"
     },
     "output_type": "display_data"
    }
   ],
   "source": [
    "# LSTM\n",
    "show_history_graph(history5)"
   ]
  },
  {
   "cell_type": "code",
   "execution_count": 39,
   "id": "75e8a13a",
   "metadata": {},
   "outputs": [
    {
     "data": {
      "image/png": "[encoded data removed]",
      "text/plain": [
       "<Figure size 1152x432 with 2 Axes>"
      ]
     },
     "metadata": {
      "needs_background": "light"
     },
     "output_type": "display_data"
    }
   ],
   "source": [
    "# 양방향 LSTM\n",
    "show_history_graph(history6)"
   ]
  },
  {
   "cell_type": "markdown",
   "id": "52a5b84b",
   "metadata": {},
   "source": [
    "## 회고\n",
    "\n",
    "생각보다 자체학습 모델의 정확도가 높았다고 생각된다. 몇번 안되는 훈련으로 과접합이될만큼 학습 속도가 빨랐다. 회고를 작성하면서 든 생각이 학습률 조정을 해볼걸 하는 생각을 해본다. 프로젝트 시작할때는 뭔가 막막했는데 다 하고나니 그래도 텍스트 분류 모델에 대해 조금은 이해도가 올라간것 같다. 모델을 향상하는 작업은 아직 어려운 것 같다. 학습 노드에서는 확인할 부분들이 주어져 있어서 해결할 수 있었지만 실제로 어떤 부분을 확인하고 어떤 부분을 처리해야되는지 여전히 잘 모른다고 느낀다. 아직 아는게 적은만큼 더 배우다보면 알게되지 않을까 생각한다. "
   ]
  },
  {
   "cell_type": "code",
   "execution_count": null,
   "id": "64e66cce",
   "metadata": {},
   "outputs": [],
   "source": []
  }
 ],
 "metadata": {
  "kernelspec": {
   "display_name": "Python 3 (ipykernel)",
   "language": "python",
   "name": "python3"
  },
  "language_info": {
   "codemirror_mode": {
    "name": "ipython",
    "version": 3
   },
   "file_extension": ".py",
   "mimetype": "text/x-python",
   "name": "python",
   "nbconvert_exporter": "python",
   "pygments_lexer": "ipython3",
   "version": "3.9.7"
  }
 },
 "nbformat": 4,
 "nbformat_minor": 5
}
